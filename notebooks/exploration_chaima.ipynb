{
 "cells": [
  {
   "cell_type": "markdown",
   "id": "fb32b26e",
   "metadata": {},
   "source": [
    "# Projet : Détection de Fake News via Pipeline RAG\n",
    "#### Étape 1 — Prétraitement des articles\n",
    "##### Objectif de ce notebook :\n",
    "##### Nettoyer et préparer les articles pour la recherche et la génération.\n",
    "##### On effectue ici les traitements de texte nécessaires avant la vectorisation\n",
    "##### et le stockage dans la base de données vectorielle (ChromaDB).\n"
   ]
  },
  {
   "cell_type": "code",
   "execution_count": 14,
   "id": "48c4bb54",
   "metadata": {},
   "outputs": [],
   "source": [
    "# 1. Importations et configuration initiale\n",
    "import os\n",
    "import pandas as pd\n",
    "import numpy as np\n",
    "import re\n",
    "from bs4 import BeautifulSoup, MarkupResemblesLocatorWarning\n",
    "import warnings\n",
    "import spacy\n",
    "from tqdm import tqdm\n",
    "\n",
    "# Ignorer certains warnings inutiles\n",
    "warnings.filterwarnings(\"ignore\", category=MarkupResemblesLocatorWarning)\n",
    "\n",
    "# Charger le modèle spaCy pour la lemmatisation\n",
    "try:\n",
    "    nlp = spacy.load(\"en_core_web_sm\")\n",
    "except OSError:\n",
    "    import subprocess, sys\n",
    "    subprocess.run([sys.executable, \"-m\", \"spacy\", \"download\", \"en_core_web_sm\"])\n",
    "    nlp = spacy.load(\"en_core_web_sm\")\n",
    "\n",
    "# Définir les chemins de données\n",
    "RAW_PATH = \"data/raw\"\n",
    "PROCESSED_PATH = \"data/processed\"\n",
    "os.makedirs(RAW_PATH, exist_ok=True)\n",
    "os.makedirs(PROCESSED_PATH, exist_ok=True)"
   ]
  },
  {
   "cell_type": "markdown",
   "id": "ca250f97",
   "metadata": {},
   "source": [
    "#### 🎯 Objectif\n",
    "L’objectif de cette étape est de transformer les fichiers CSV d’articles (`True.csv`, `Fake.csv`)\n",
    "en un dataset nettoyé, structuré et prêt à être vectorisé.\n",
    "\n",
    "#### Étapes du pipeline :\n",
    "1. Chargement et fusion des jeux de données (Fake / True)\n",
    "2. Vérifications de base (valeurs manquantes, doublons)\n",
    "3. Nettoyage des textes :\n",
    "   - Suppression des balises HTML\n",
    "   - Suppression des URLs\n",
    "   - Suppression des caractères spéciaux\n",
    "   - Normalisation des espaces\n",
    "   - Mise en minuscules\n",
    "4. Suppression des stopwords et lemmatisation (avec spaCy)\n",
    "5. Découpage des articles en *chunks* (morceaux)\n",
    "6. Sauvegarde des données nettoyées\n"
   ]
  },
  {
   "cell_type": "code",
   "execution_count": 15,
   "id": "e991d6c0",
   "metadata": {},
   "outputs": [
    {
     "name": "stdout",
     "output_type": "stream",
     "text": [
      "Fichiers trouvés : ['True.csv', 'Fake.csv']\n",
      "📊 Taille totale du dataset : (44898, 5)\n"
     ]
    },
    {
     "data": {
      "application/vnd.microsoft.datawrangler.viewer.v0+json": {
       "columns": [
        {
         "name": "index",
         "rawType": "int64",
         "type": "integer"
        },
        {
         "name": "title",
         "rawType": "object",
         "type": "string"
        },
        {
         "name": "text",
         "rawType": "object",
         "type": "string"
        },
        {
         "name": "subject",
         "rawType": "object",
         "type": "string"
        },
        {
         "name": "date",
         "rawType": "object",
         "type": "string"
        },
        {
         "name": "label",
         "rawType": "object",
         "type": "string"
        }
       ],
       "ref": "c66e3fea-e465-44b9-866f-b2283955a019",
       "rows": [
        [
         "0",
         "As U.S. budget fight looms, Republicans flip their fiscal script",
         "WASHINGTON (Reuters) - The head of a conservative Republican faction in the U.S. Congress, who voted this month for a huge expansion of the national debt to pay for tax cuts, called himself a “fiscal conservative” on Sunday and urged budget restraint in 2018. In keeping with a sharp pivot under way among Republicans, U.S. Representative Mark Meadows, speaking on CBS’ “Face the Nation,” drew a hard line on federal spending, which lawmakers are bracing to do battle over in January. When they return from the holidays on Wednesday, lawmakers will begin trying to pass a federal budget in a fight likely to be linked to other issues, such as immigration policy, even as the November congressional election campaigns approach in which Republicans will seek to keep control of Congress. President Donald Trump and his Republicans want a big budget increase in military spending, while Democrats also want proportional increases for non-defense “discretionary” spending on programs that support education, scientific research, infrastructure, public health and environmental protection. “The (Trump) administration has already been willing to say: ‘We’re going to increase non-defense discretionary spending ... by about 7 percent,’” Meadows, chairman of the small but influential House Freedom Caucus, said on the program. “Now, Democrats are saying that’s not enough, we need to give the government a pay raise of 10 to 11 percent. For a fiscal conservative, I don’t see where the rationale is. ... Eventually you run out of other people’s money,” he said. Meadows was among Republicans who voted in late December for their party’s debt-financed tax overhaul, which is expected to balloon the federal budget deficit and add about $1.5 trillion over 10 years to the $20 trillion national debt. “It’s interesting to hear Mark talk about fiscal responsibility,” Democratic U.S. Representative Joseph Crowley said on CBS. Crowley said the Republican tax bill would require the  United States to borrow $1.5 trillion, to be paid off by future generations, to finance tax cuts for corporations and the rich. “This is one of the least ... fiscally responsible bills we’ve ever seen passed in the history of the House of Representatives. I think we’re going to be paying for this for many, many years to come,” Crowley said. Republicans insist the tax package, the biggest U.S. tax overhaul in more than 30 years,  will boost the economy and job growth. House Speaker Paul Ryan, who also supported the tax bill, recently went further than Meadows, making clear in a radio interview that welfare or “entitlement reform,” as the party often calls it, would be a top Republican priority in 2018. In Republican parlance, “entitlement” programs mean food stamps, housing assistance, Medicare and Medicaid health insurance for the elderly, poor and disabled, as well as other programs created by Washington to assist the needy. Democrats seized on Ryan’s early December remarks, saying they showed Republicans would try to pay for their tax overhaul by seeking spending cuts for social programs. But the goals of House Republicans may have to take a back seat to the Senate, where the votes of some Democrats will be needed to approve a budget and prevent a government shutdown. Democrats will use their leverage in the Senate, which Republicans narrowly control, to defend both discretionary non-defense programs and social spending, while tackling the issue of the “Dreamers,” people brought illegally to the country as children. Trump in September put a March 2018 expiration date on the Deferred Action for Childhood Arrivals, or DACA, program, which protects the young immigrants from deportation and provides them with work permits. The president has said in recent Twitter messages he wants funding for his proposed Mexican border wall and other immigration law changes in exchange for agreeing to help the Dreamers. Representative Debbie Dingell told CBS she did not favor linking that issue to other policy objectives, such as wall funding. “We need to do DACA clean,” she said.  On Wednesday, Trump aides will meet with congressional leaders to discuss those issues. That will be followed by a weekend of strategy sessions for Trump and Republican leaders on Jan. 6 and 7, the White House said. Trump was also scheduled to meet on Sunday with Florida Republican Governor Rick Scott, who wants more emergency aid. The House has passed an $81 billion aid package after hurricanes in Florida, Texas and Puerto Rico, and wildfires in California. The package far exceeded the $44 billion requested by the Trump administration. The Senate has not yet voted on the aid. ",
         "politicsNews",
         "December 31, 2017 ",
         "True"
        ],
        [
         "1",
         "U.S. military to accept transgender recruits on Monday: Pentagon",
         "WASHINGTON (Reuters) - Transgender people will be allowed for the first time to enlist in the U.S. military starting on Monday as ordered by federal courts, the Pentagon said on Friday, after President Donald Trump’s administration decided not to appeal rulings that blocked his transgender ban. Two federal appeals courts, one in Washington and one in Virginia, last week rejected the administration’s request to put on hold orders by lower court judges requiring the military to begin accepting transgender recruits on Jan. 1. A Justice Department official said the administration will not challenge those rulings. “The Department of Defense has announced that it will be releasing an independent study of these issues in the coming weeks. So rather than litigate this interim appeal before that occurs, the administration has decided to wait for DOD’s study and will continue to defend the president’s lawful authority in District Court in the meantime,” the official said, speaking on condition of anonymity. In September, the Pentagon said it had created a panel of senior officials to study how to implement a directive by Trump to prohibit transgender individuals from serving. The Defense Department has until Feb. 21 to submit a plan to Trump. Lawyers representing currently-serving transgender service members and aspiring recruits said they had expected the administration to appeal the rulings to the conservative-majority Supreme Court, but were hoping that would not happen. Pentagon spokeswoman Heather Babb said in a statement: “As mandated by court order, the Department of Defense is prepared to begin accessing transgender applicants for military service Jan. 1. All applicants must meet all accession standards.” Jennifer Levi, a lawyer with gay, lesbian and transgender advocacy group GLAD, called the decision not to appeal “great news.” “I’m hoping it means the government has come to see that there is no way to justify a ban and that it’s not good for the military or our country,” Levi said. Both GLAD and the American Civil Liberties Union represent plaintiffs in the lawsuits filed against the administration. In a move that appealed to his hard-line conservative supporters, Trump announced in July that he would prohibit transgender people from serving in the military, reversing Democratic President Barack Obama’s policy of accepting them. Trump said on Twitter at the time that the military “cannot be burdened with the tremendous medical costs and disruption that transgender in the military would entail.” Four federal judges - in Baltimore, Washington, D.C., Seattle and Riverside, California - have issued rulings blocking Trump’s ban while legal challenges to the Republican president’s policy proceed. The judges said the ban would likely violate the right under the U.S. Constitution to equal protection under the law. The Pentagon on Dec. 8 issued guidelines to recruitment personnel in order to enlist transgender applicants by Jan. 1. The memo outlined medical requirements and specified how the applicants’ sex would be identified and even which undergarments they would wear. The Trump administration previously said in legal papers that the armed forces were not prepared to train thousands of personnel on the medical standards needed to process transgender applicants and might have to accept “some individuals who are not medically fit for service.” The Obama administration had set a deadline of July 1, 2017, to begin accepting transgender recruits. But Trump’s defense secretary, James Mattis, postponed that date to Jan. 1, 2018, which the president’s ban then put off indefinitely. Trump has taken other steps aimed at rolling back transgender rights. In October, his administration said a federal law banning gender-based workplace discrimination does not protect transgender employees, reversing another Obama-era position. In February, Trump rescinded guidance issued by the Obama administration saying that public schools should allow transgender students to use the restroom that corresponds to their gender identity. ",
         "politicsNews",
         "December 29, 2017 ",
         "True"
        ],
        [
         "2",
         "Senior U.S. Republican senator: 'Let Mr. Mueller do his job'",
         "WASHINGTON (Reuters) - The special counsel investigation of links between Russia and President Trump’s 2016 election campaign should continue without interference in 2018, despite calls from some Trump administration allies and Republican lawmakers to shut it down, a prominent Republican senator said on Sunday. Lindsey Graham, who serves on the Senate armed forces and judiciary committees, said Department of Justice Special Counsel Robert Mueller needs to carry on with his Russia investigation without political interference. “This investigation will go forward. It will be an investigation conducted without political influence,” Graham said on CBS’s Face the Nation news program. “And we all need to let Mr. Mueller do his job. I think he’s the right guy at the right time.”  The question of how Russia may have interfered in the election, and how Trump’s campaign may have had links with or co-ordinated any such effort, has loomed over the White House since Trump took office in January. It shows no sign of receding as Trump prepares for his second year in power, despite intensified rhetoric from some Trump allies in recent weeks accusing Mueller’s team of bias against the Republican president. Trump himself seemed to undercut his supporters in an interview last week with the New York Times in which he said he expected Mueller was “going to be fair.”    Russia’s role in the election and the question of possible links to the Trump campaign are the focus of multiple inquiries in Washington. Three committees of the Senate and the House of Representatives are investigating, as well as Mueller, whose team in May took over an earlier probe launched by the U.S. Federal Bureau of Investigation (FBI). Several members of the Trump campaign and administration have been convicted or indicted in the investigation.  Trump and his allies deny any collusion with Russia during the campaign, and the Kremlin has denied meddling in the election. Graham said he still wants an examination of the FBI’s use of a dossier on links between Trump and Russia that was compiled by a former British spy, Christopher Steele, which prompted Trump allies and some Republicans to question Mueller’s inquiry.   On Saturday, the New York Times reported that it was not that dossier that triggered an early FBI probe, but a tip from former Trump campaign foreign policy adviser George Papadopoulos to an Australian diplomat that Russia had damaging information about former Trump rival Hillary Clinton.  “I want somebody to look at the way the Department of Justice used this dossier. It bothers me greatly the way they used it, and I want somebody to look at it,” Graham said. But he said the Russia investigation must continue. “As a matter of fact, it would hurt us if we ignored it,” he said. ",
         "politicsNews",
         "December 31, 2017 ",
         "True"
        ],
        [
         "3",
         "FBI Russia probe helped by Australian diplomat tip-off: NYT",
         "WASHINGTON (Reuters) - Trump campaign adviser George Papadopoulos told an Australian diplomat in May 2016 that Russia had political dirt on Democratic presidential candidate Hillary Clinton, the New York Times reported on Saturday. The conversation between Papadopoulos and the diplomat, Alexander Downer, in London was a driving factor behind the FBI’s decision to open a counter-intelligence investigation of Moscow’s contacts with the Trump campaign, the Times reported. Two months after the meeting, Australian officials passed the information that came from Papadopoulos to their American counterparts when leaked Democratic emails began appearing online, according to the newspaper, which cited four current and former U.S. and foreign officials. Besides the information from the Australians, the probe by the Federal Bureau of Investigation was also propelled by intelligence from other friendly governments, including the British and Dutch, the Times said. Papadopoulos, a Chicago-based international energy lawyer, pleaded guilty on Oct. 30 to lying to FBI agents about contacts with people who claimed to have ties to top Russian officials. It was the first criminal charge alleging links between the Trump campaign and Russia. The White House has played down the former aide’s campaign role, saying it was “extremely limited” and that any actions he took would have been on his own. The New York Times, however, reported that Papadopoulos helped set up a meeting between then-candidate Donald Trump and Egyptian President Abdel Fattah al-Sisi and edited the outline of Trump’s first major foreign policy speech in April 2016. The federal investigation, which is now being led by Special Counsel Robert Mueller, has hung over Trump’s White House since he took office almost a year ago. Some Trump allies have recently accused Mueller’s team of being biased against the Republican president. Lawyers for Papadopoulos did not immediately respond to requests by Reuters for comment. Mueller’s office declined to comment. Trump’s White House attorney, Ty Cobb, declined to comment on the New York Times report. “Out of respect for the special counsel and his process, we are not commenting on matters such as this,” he said in a statement. Mueller has charged four Trump associates, including Papadopoulos, in his investigation. Russia has denied interfering in the U.S. election and Trump has said there was no collusion between his campaign and Moscow. ",
         "politicsNews",
         "December 30, 2017 ",
         "True"
        ],
        [
         "4",
         "Trump wants Postal Service to charge 'much more' for Amazon shipments",
         "SEATTLE/WASHINGTON (Reuters) - President Donald Trump called on the U.S. Postal Service on Friday to charge “much more” to ship packages for Amazon (AMZN.O), picking another fight with an online retail giant he has criticized in the past.     “Why is the United States Post Office, which is losing many billions of dollars a year, while charging Amazon and others so little to deliver their packages, making Amazon richer and the Post Office dumber and poorer? Should be charging MUCH MORE!” Trump wrote on Twitter.  The president’s tweet drew fresh attention to the fragile finances of the Postal Service at a time when tens of millions of parcels have just been shipped all over the country for the holiday season.  The U.S. Postal Service, which runs at a big loss, is an independent agency within the federal government and does not receive tax dollars for operating expenses, according to its website.  Package delivery has become an increasingly important part of its business as the Internet has led to a sharp decline in the amount of first-class letters. The president does not determine postal rates. They are set by the Postal Regulatory Commission, an independent government agency with commissioners selected by the president from both political parties. That panel raised prices on packages by almost 2 percent in November.  Amazon was founded by Jeff Bezos, who remains the chief executive officer of the retail company and is the richest person in the world, according to Bloomberg News. Bezos also owns The Washington Post, a newspaper Trump has repeatedly railed against in his criticisms of the news media. In tweets over the past year, Trump has said the “Amazon Washington Post” fabricated stories. He has said Amazon does not pay sales tax, which is not true, and so hurts other retailers, part of a pattern by the former businessman and reality television host of periodically turning his ire on big American companies since he took office in January. Daniel Ives, a research analyst at GBH Insights, said Trump’s comment could be taken as a warning to the retail giant. However, he said he was not concerned for Amazon. “We do not see any price hikes in the future. However, that is a risk that Amazon is clearly aware of and (it) is building out its distribution (system) aggressively,” he said. Amazon has shown interest in the past in shifting into its own delivery service, including testing drones for deliveries. In 2015, the company spent $11.5 billion on shipping, 46 percent of its total operating expenses that year.  Amazon shares were down 0.86 percent to $1,175.90 by early afternoon. Overall, U.S. stock prices were down slightly on Friday.  Satish Jindel, president of ShipMatrix Inc, which analyzes shipping data, disputed the idea that the Postal Service charges less than United Parcel Service Inc (UPS.N) and FedEx Corp (FDX.N), the other biggest players in the parcel delivery business in the United States. Many customers get lower rates from UPS and FedEx than they would get from the post office for comparable services, he said. The Postal Service delivers about 62 percent of Amazon packages, for about 3.5 to 4 million a day during the current peak year-end holiday shipping season, Jindel said. The Seattle-based company and the post office have an agreement in which mail carriers take Amazon packages on the last leg of their journeys, from post offices to customers’ doorsteps. Amazon’s No. 2 carrier is UPS, at 21 percent, and FedEx is third, with 8 percent or so, according to Jindel. Trump’s comment tapped into a debate over whether Postal Service pricing has kept pace with the rise of e-commerce, which has flooded the mail with small packages.Private companies like UPS have long claimed the current system unfairly undercuts their business. Steve Gaut, a spokesman for UPS, noted that the company values its “productive relationship” with the postal service, but that it has filed with the Postal Regulatory Commission its concerns about the postal service’s methods for covering costs. Representatives for Amazon, the White House, the U.S. Postal Service and FedEx declined comment or were not immediately available for comment on Trump’s tweet. According to its annual report, the Postal Service lost $2.74 billion this year, and its deficit has ballooned to $61.86 billion.  While the Postal Service’s revenue for first class mail, marketing mail and periodicals is flat or declining, revenue from package delivery is up 44 percent since 2014 to $19.5 billion in the fiscal year ended Sept. 30, 2017. But it also lost about $2 billion in revenue when a temporary surcharge expired in April 2016. According to a Government Accountability Office report in February, the service is facing growing personnel expenses, particularly $73.4 billion in unfunded pension and benefits liabilities. The Postal Service has not announced any plans to cut costs. By law, the Postal Service has to set prices for package delivery to cover the costs attributable to that service. But the postal service allocates only 5.5 percent of its total costs to its business of shipping packages even though that line of business is 28 percent of its total revenue. ",
         "politicsNews",
         "December 29, 2017 ",
         "True"
        ]
       ],
       "shape": {
        "columns": 5,
        "rows": 5
       }
      },
      "text/html": [
       "<div>\n",
       "<style scoped>\n",
       "    .dataframe tbody tr th:only-of-type {\n",
       "        vertical-align: middle;\n",
       "    }\n",
       "\n",
       "    .dataframe tbody tr th {\n",
       "        vertical-align: top;\n",
       "    }\n",
       "\n",
       "    .dataframe thead th {\n",
       "        text-align: right;\n",
       "    }\n",
       "</style>\n",
       "<table border=\"1\" class=\"dataframe\">\n",
       "  <thead>\n",
       "    <tr style=\"text-align: right;\">\n",
       "      <th></th>\n",
       "      <th>title</th>\n",
       "      <th>text</th>\n",
       "      <th>subject</th>\n",
       "      <th>date</th>\n",
       "      <th>label</th>\n",
       "    </tr>\n",
       "  </thead>\n",
       "  <tbody>\n",
       "    <tr>\n",
       "      <th>0</th>\n",
       "      <td>As U.S. budget fight looms, Republicans flip t...</td>\n",
       "      <td>WASHINGTON (Reuters) - The head of a conservat...</td>\n",
       "      <td>politicsNews</td>\n",
       "      <td>December 31, 2017</td>\n",
       "      <td>True</td>\n",
       "    </tr>\n",
       "    <tr>\n",
       "      <th>1</th>\n",
       "      <td>U.S. military to accept transgender recruits o...</td>\n",
       "      <td>WASHINGTON (Reuters) - Transgender people will...</td>\n",
       "      <td>politicsNews</td>\n",
       "      <td>December 29, 2017</td>\n",
       "      <td>True</td>\n",
       "    </tr>\n",
       "    <tr>\n",
       "      <th>2</th>\n",
       "      <td>Senior U.S. Republican senator: 'Let Mr. Muell...</td>\n",
       "      <td>WASHINGTON (Reuters) - The special counsel inv...</td>\n",
       "      <td>politicsNews</td>\n",
       "      <td>December 31, 2017</td>\n",
       "      <td>True</td>\n",
       "    </tr>\n",
       "    <tr>\n",
       "      <th>3</th>\n",
       "      <td>FBI Russia probe helped by Australian diplomat...</td>\n",
       "      <td>WASHINGTON (Reuters) - Trump campaign adviser ...</td>\n",
       "      <td>politicsNews</td>\n",
       "      <td>December 30, 2017</td>\n",
       "      <td>True</td>\n",
       "    </tr>\n",
       "    <tr>\n",
       "      <th>4</th>\n",
       "      <td>Trump wants Postal Service to charge 'much mor...</td>\n",
       "      <td>SEATTLE/WASHINGTON (Reuters) - President Donal...</td>\n",
       "      <td>politicsNews</td>\n",
       "      <td>December 29, 2017</td>\n",
       "      <td>True</td>\n",
       "    </tr>\n",
       "  </tbody>\n",
       "</table>\n",
       "</div>"
      ],
      "text/plain": [
       "                                               title  \\\n",
       "0  As U.S. budget fight looms, Republicans flip t...   \n",
       "1  U.S. military to accept transgender recruits o...   \n",
       "2  Senior U.S. Republican senator: 'Let Mr. Muell...   \n",
       "3  FBI Russia probe helped by Australian diplomat...   \n",
       "4  Trump wants Postal Service to charge 'much mor...   \n",
       "\n",
       "                                                text       subject  \\\n",
       "0  WASHINGTON (Reuters) - The head of a conservat...  politicsNews   \n",
       "1  WASHINGTON (Reuters) - Transgender people will...  politicsNews   \n",
       "2  WASHINGTON (Reuters) - The special counsel inv...  politicsNews   \n",
       "3  WASHINGTON (Reuters) - Trump campaign adviser ...  politicsNews   \n",
       "4  SEATTLE/WASHINGTON (Reuters) - President Donal...  politicsNews   \n",
       "\n",
       "                 date label  \n",
       "0  December 31, 2017   True  \n",
       "1  December 29, 2017   True  \n",
       "2  December 31, 2017   True  \n",
       "3  December 30, 2017   True  \n",
       "4  December 29, 2017   True  "
      ]
     },
     "execution_count": 15,
     "metadata": {},
     "output_type": "execute_result"
    }
   ],
   "source": [
    "#3. Chargement des fichiers CSV\n",
    "csv_files = [f for f in os.listdir(RAW_PATH) if f.endswith(\".csv\")]\n",
    "print(f\"Fichiers trouvés : {csv_files}\")\n",
    "\n",
    "dfs = []\n",
    "for file_name in csv_files:\n",
    "    df_tmp = pd.read_csv(os.path.join(RAW_PATH, file_name))\n",
    "    # Ajouter une colonne label en fonction du nom du fichier\n",
    "    df_tmp[\"label\"] = \"Fake\" if \"fake\" in file_name.lower() else \"True\"\n",
    "    dfs.append(df_tmp)\n",
    "\n",
    "# Fusionner les DataFrames\n",
    "df = pd.concat(dfs, ignore_index=True)\n",
    "print(f\"📊 Taille totale du dataset : {df.shape}\")\n",
    "df.head()\n"
   ]
  },
  {
   "cell_type": "code",
   "execution_count": 16,
   "id": "3fc3349e",
   "metadata": {},
   "outputs": [
    {
     "name": "stdout",
     "output_type": "stream",
     "text": [
      "Valeurs manquantes par colonne :\n",
      "title      0\n",
      "text       0\n",
      "subject    0\n",
      "date       0\n",
      "label      0\n",
      "dtype: int64\n",
      "\n",
      "Nombre de doublons : 209\n"
     ]
    }
   ],
   "source": [
    "#4. Vérification des données\n",
    "print(\"Valeurs manquantes par colonne :\")\n",
    "print(df.isna().sum())\n",
    "\n",
    "print(\"\\nNombre de doublons :\", df.duplicated().sum())\n",
    "\n",
    "# Suppression des doublons et des valeurs manquantes\n",
    "df = df.drop_duplicates().fillna(\"\")\n"
   ]
  },
  {
   "cell_type": "code",
   "execution_count": 17,
   "id": "78bf41d2",
   "metadata": {},
   "outputs": [
    {
     "data": {
      "application/vnd.microsoft.datawrangler.viewer.v0+json": {
       "columns": [
        {
         "name": "index",
         "rawType": "int64",
         "type": "integer"
        },
        {
         "name": "text",
         "rawType": "object",
         "type": "string"
        },
        {
         "name": "clean_text",
         "rawType": "object",
         "type": "string"
        }
       ],
       "ref": "d6853bc9-fe86-4fc0-a979-b427fe91a96f",
       "rows": [
        [
         "0",
         "WASHINGTON (Reuters) - The head of a conservative Republican faction in the U.S. Congress, who voted this month for a huge expansion of the national debt to pay for tax cuts, called himself a “fiscal conservative” on Sunday and urged budget restraint in 2018. In keeping with a sharp pivot under way among Republicans, U.S. Representative Mark Meadows, speaking on CBS’ “Face the Nation,” drew a hard line on federal spending, which lawmakers are bracing to do battle over in January. When they return from the holidays on Wednesday, lawmakers will begin trying to pass a federal budget in a fight likely to be linked to other issues, such as immigration policy, even as the November congressional election campaigns approach in which Republicans will seek to keep control of Congress. President Donald Trump and his Republicans want a big budget increase in military spending, while Democrats also want proportional increases for non-defense “discretionary” spending on programs that support education, scientific research, infrastructure, public health and environmental protection. “The (Trump) administration has already been willing to say: ‘We’re going to increase non-defense discretionary spending ... by about 7 percent,’” Meadows, chairman of the small but influential House Freedom Caucus, said on the program. “Now, Democrats are saying that’s not enough, we need to give the government a pay raise of 10 to 11 percent. For a fiscal conservative, I don’t see where the rationale is. ... Eventually you run out of other people’s money,” he said. Meadows was among Republicans who voted in late December for their party’s debt-financed tax overhaul, which is expected to balloon the federal budget deficit and add about $1.5 trillion over 10 years to the $20 trillion national debt. “It’s interesting to hear Mark talk about fiscal responsibility,” Democratic U.S. Representative Joseph Crowley said on CBS. Crowley said the Republican tax bill would require the  United States to borrow $1.5 trillion, to be paid off by future generations, to finance tax cuts for corporations and the rich. “This is one of the least ... fiscally responsible bills we’ve ever seen passed in the history of the House of Representatives. I think we’re going to be paying for this for many, many years to come,” Crowley said. Republicans insist the tax package, the biggest U.S. tax overhaul in more than 30 years,  will boost the economy and job growth. House Speaker Paul Ryan, who also supported the tax bill, recently went further than Meadows, making clear in a radio interview that welfare or “entitlement reform,” as the party often calls it, would be a top Republican priority in 2018. In Republican parlance, “entitlement” programs mean food stamps, housing assistance, Medicare and Medicaid health insurance for the elderly, poor and disabled, as well as other programs created by Washington to assist the needy. Democrats seized on Ryan’s early December remarks, saying they showed Republicans would try to pay for their tax overhaul by seeking spending cuts for social programs. But the goals of House Republicans may have to take a back seat to the Senate, where the votes of some Democrats will be needed to approve a budget and prevent a government shutdown. Democrats will use their leverage in the Senate, which Republicans narrowly control, to defend both discretionary non-defense programs and social spending, while tackling the issue of the “Dreamers,” people brought illegally to the country as children. Trump in September put a March 2018 expiration date on the Deferred Action for Childhood Arrivals, or DACA, program, which protects the young immigrants from deportation and provides them with work permits. The president has said in recent Twitter messages he wants funding for his proposed Mexican border wall and other immigration law changes in exchange for agreeing to help the Dreamers. Representative Debbie Dingell told CBS she did not favor linking that issue to other policy objectives, such as wall funding. “We need to do DACA clean,” she said.  On Wednesday, Trump aides will meet with congressional leaders to discuss those issues. That will be followed by a weekend of strategy sessions for Trump and Republican leaders on Jan. 6 and 7, the White House said. Trump was also scheduled to meet on Sunday with Florida Republican Governor Rick Scott, who wants more emergency aid. The House has passed an $81 billion aid package after hurricanes in Florida, Texas and Puerto Rico, and wildfires in California. The package far exceeded the $44 billion requested by the Trump administration. The Senate has not yet voted on the aid. ",
         "washington reuters the head of a conservative republican faction in the u s congress who voted this month for a huge expansion of the national debt to pay for tax cuts called himself a fiscal conservative on sunday and urged budget restraint in 2018 in keeping with a sharp pivot under way among republicans u s representative mark meadows speaking on cbs face the nation drew a hard line on federal spending which lawmakers are bracing to do battle over in january when they return from the holidays on wednesday lawmakers will begin trying to pass a federal budget in a fight likely to be linked to other issues such as immigration policy even as the november congressional election campaigns approach in which republicans will seek to keep control of congress president donald trump and his republicans want a big budget increase in military spending while democrats also want proportional increases for non defense discretionary spending on programs that support education scientific research infrastructure public health and environmental protection the trump administration has already been willing to say we re going to increase non defense discretionary spending by about 7 percent meadows chairman of the small but influential house freedom caucus said on the program now democrats are saying that s not enough we need to give the government a pay raise of 10 to 11 percent for a fiscal conservative i don t see where the rationale is eventually you run out of other people s money he said meadows was among republicans who voted in late december for their party s debt financed tax overhaul which is expected to balloon the federal budget deficit and add about 1 5 trillion over 10 years to the 20 trillion national debt it s interesting to hear mark talk about fiscal responsibility democratic u s representative joseph crowley said on cbs crowley said the republican tax bill would require the united states to borrow 1 5 trillion to be paid off by future generations to finance tax cuts for corporations and the rich this is one of the least fiscally responsible bills we ve ever seen passed in the history of the house of representatives i think we re going to be paying for this for many many years to come crowley said republicans insist the tax package the biggest u s tax overhaul in more than 30 years will boost the economy and job growth house speaker paul ryan who also supported the tax bill recently went further than meadows making clear in a radio interview that welfare or entitlement reform as the party often calls it would be a top republican priority in 2018 in republican parlance entitlement programs mean food stamps housing assistance medicare and medicaid health insurance for the elderly poor and disabled as well as other programs created by washington to assist the needy democrats seized on ryan s early december remarks saying they showed republicans would try to pay for their tax overhaul by seeking spending cuts for social programs but the goals of house republicans may have to take a back seat to the senate where the votes of some democrats will be needed to approve a budget and prevent a government shutdown democrats will use their leverage in the senate which republicans narrowly control to defend both discretionary non defense programs and social spending while tackling the issue of the dreamers people brought illegally to the country as children trump in september put a march 2018 expiration date on the deferred action for childhood arrivals or daca program which protects the young immigrants from deportation and provides them with work permits the president has said in recent twitter messages he wants funding for his proposed mexican border wall and other immigration law changes in exchange for agreeing to help the dreamers representative debbie dingell told cbs she did not favor linking that issue to other policy objectives such as wall funding we need to do daca clean she said on wednesday trump aides will meet with congressional leaders to discuss those issues that will be followed by a weekend of strategy sessions for trump and republican leaders on jan 6 and 7 the white house said trump was also scheduled to meet on sunday with florida republican governor rick scott who wants more emergency aid the house has passed an 81 billion aid package after hurricanes in florida texas and puerto rico and wildfires in california the package far exceeded the 44 billion requested by the trump administration the senate has not yet voted on the aid"
        ],
        [
         "1",
         "WASHINGTON (Reuters) - Transgender people will be allowed for the first time to enlist in the U.S. military starting on Monday as ordered by federal courts, the Pentagon said on Friday, after President Donald Trump’s administration decided not to appeal rulings that blocked his transgender ban. Two federal appeals courts, one in Washington and one in Virginia, last week rejected the administration’s request to put on hold orders by lower court judges requiring the military to begin accepting transgender recruits on Jan. 1. A Justice Department official said the administration will not challenge those rulings. “The Department of Defense has announced that it will be releasing an independent study of these issues in the coming weeks. So rather than litigate this interim appeal before that occurs, the administration has decided to wait for DOD’s study and will continue to defend the president’s lawful authority in District Court in the meantime,” the official said, speaking on condition of anonymity. In September, the Pentagon said it had created a panel of senior officials to study how to implement a directive by Trump to prohibit transgender individuals from serving. The Defense Department has until Feb. 21 to submit a plan to Trump. Lawyers representing currently-serving transgender service members and aspiring recruits said they had expected the administration to appeal the rulings to the conservative-majority Supreme Court, but were hoping that would not happen. Pentagon spokeswoman Heather Babb said in a statement: “As mandated by court order, the Department of Defense is prepared to begin accessing transgender applicants for military service Jan. 1. All applicants must meet all accession standards.” Jennifer Levi, a lawyer with gay, lesbian and transgender advocacy group GLAD, called the decision not to appeal “great news.” “I’m hoping it means the government has come to see that there is no way to justify a ban and that it’s not good for the military or our country,” Levi said. Both GLAD and the American Civil Liberties Union represent plaintiffs in the lawsuits filed against the administration. In a move that appealed to his hard-line conservative supporters, Trump announced in July that he would prohibit transgender people from serving in the military, reversing Democratic President Barack Obama’s policy of accepting them. Trump said on Twitter at the time that the military “cannot be burdened with the tremendous medical costs and disruption that transgender in the military would entail.” Four federal judges - in Baltimore, Washington, D.C., Seattle and Riverside, California - have issued rulings blocking Trump’s ban while legal challenges to the Republican president’s policy proceed. The judges said the ban would likely violate the right under the U.S. Constitution to equal protection under the law. The Pentagon on Dec. 8 issued guidelines to recruitment personnel in order to enlist transgender applicants by Jan. 1. The memo outlined medical requirements and specified how the applicants’ sex would be identified and even which undergarments they would wear. The Trump administration previously said in legal papers that the armed forces were not prepared to train thousands of personnel on the medical standards needed to process transgender applicants and might have to accept “some individuals who are not medically fit for service.” The Obama administration had set a deadline of July 1, 2017, to begin accepting transgender recruits. But Trump’s defense secretary, James Mattis, postponed that date to Jan. 1, 2018, which the president’s ban then put off indefinitely. Trump has taken other steps aimed at rolling back transgender rights. In October, his administration said a federal law banning gender-based workplace discrimination does not protect transgender employees, reversing another Obama-era position. In February, Trump rescinded guidance issued by the Obama administration saying that public schools should allow transgender students to use the restroom that corresponds to their gender identity. ",
         "washington reuters transgender people will be allowed for the first time to enlist in the u s military starting on monday as ordered by federal courts the pentagon said on friday after president donald trump s administration decided not to appeal rulings that blocked his transgender ban two federal appeals courts one in washington and one in virginia last week rejected the administration s request to put on hold orders by lower court judges requiring the military to begin accepting transgender recruits on jan 1 a justice department official said the administration will not challenge those rulings the department of defense has announced that it will be releasing an independent study of these issues in the coming weeks so rather than litigate this interim appeal before that occurs the administration has decided to wait for dod s study and will continue to defend the president s lawful authority in district court in the meantime the official said speaking on condition of anonymity in september the pentagon said it had created a panel of senior officials to study how to implement a directive by trump to prohibit transgender individuals from serving the defense department has until feb 21 to submit a plan to trump lawyers representing currently serving transgender service members and aspiring recruits said they had expected the administration to appeal the rulings to the conservative majority supreme court but were hoping that would not happen pentagon spokeswoman heather babb said in a statement as mandated by court order the department of defense is prepared to begin accessing transgender applicants for military service jan 1 all applicants must meet all accession standards jennifer levi a lawyer with gay lesbian and transgender advocacy group glad called the decision not to appeal great news i m hoping it means the government has come to see that there is no way to justify a ban and that it s not good for the military or our country levi said both glad and the american civil liberties union represent plaintiffs in the lawsuits filed against the administration in a move that appealed to his hard line conservative supporters trump announced in july that he would prohibit transgender people from serving in the military reversing democratic president barack obama s policy of accepting them trump said on twitter at the time that the military cannot be burdened with the tremendous medical costs and disruption that transgender in the military would entail four federal judges in baltimore washington d c seattle and riverside california have issued rulings blocking trump s ban while legal challenges to the republican president s policy proceed the judges said the ban would likely violate the right under the u s constitution to equal protection under the law the pentagon on dec 8 issued guidelines to recruitment personnel in order to enlist transgender applicants by jan 1 the memo outlined medical requirements and specified how the applicants sex would be identified and even which undergarments they would wear the trump administration previously said in legal papers that the armed forces were not prepared to train thousands of personnel on the medical standards needed to process transgender applicants and might have to accept some individuals who are not medically fit for service the obama administration had set a deadline of july 1 2017 to begin accepting transgender recruits but trump s defense secretary james mattis postponed that date to jan 1 2018 which the president s ban then put off indefinitely trump has taken other steps aimed at rolling back transgender rights in october his administration said a federal law banning gender based workplace discrimination does not protect transgender employees reversing another obama era position in february trump rescinded guidance issued by the obama administration saying that public schools should allow transgender students to use the restroom that corresponds to their gender identity"
        ],
        [
         "2",
         "WASHINGTON (Reuters) - The special counsel investigation of links between Russia and President Trump’s 2016 election campaign should continue without interference in 2018, despite calls from some Trump administration allies and Republican lawmakers to shut it down, a prominent Republican senator said on Sunday. Lindsey Graham, who serves on the Senate armed forces and judiciary committees, said Department of Justice Special Counsel Robert Mueller needs to carry on with his Russia investigation without political interference. “This investigation will go forward. It will be an investigation conducted without political influence,” Graham said on CBS’s Face the Nation news program. “And we all need to let Mr. Mueller do his job. I think he’s the right guy at the right time.”  The question of how Russia may have interfered in the election, and how Trump’s campaign may have had links with or co-ordinated any such effort, has loomed over the White House since Trump took office in January. It shows no sign of receding as Trump prepares for his second year in power, despite intensified rhetoric from some Trump allies in recent weeks accusing Mueller’s team of bias against the Republican president. Trump himself seemed to undercut his supporters in an interview last week with the New York Times in which he said he expected Mueller was “going to be fair.”    Russia’s role in the election and the question of possible links to the Trump campaign are the focus of multiple inquiries in Washington. Three committees of the Senate and the House of Representatives are investigating, as well as Mueller, whose team in May took over an earlier probe launched by the U.S. Federal Bureau of Investigation (FBI). Several members of the Trump campaign and administration have been convicted or indicted in the investigation.  Trump and his allies deny any collusion with Russia during the campaign, and the Kremlin has denied meddling in the election. Graham said he still wants an examination of the FBI’s use of a dossier on links between Trump and Russia that was compiled by a former British spy, Christopher Steele, which prompted Trump allies and some Republicans to question Mueller’s inquiry.   On Saturday, the New York Times reported that it was not that dossier that triggered an early FBI probe, but a tip from former Trump campaign foreign policy adviser George Papadopoulos to an Australian diplomat that Russia had damaging information about former Trump rival Hillary Clinton.  “I want somebody to look at the way the Department of Justice used this dossier. It bothers me greatly the way they used it, and I want somebody to look at it,” Graham said. But he said the Russia investigation must continue. “As a matter of fact, it would hurt us if we ignored it,” he said. ",
         "washington reuters the special counsel investigation of links between russia and president trump s 2016 election campaign should continue without interference in 2018 despite calls from some trump administration allies and republican lawmakers to shut it down a prominent republican senator said on sunday lindsey graham who serves on the senate armed forces and judiciary committees said department of justice special counsel robert mueller needs to carry on with his russia investigation without political interference this investigation will go forward it will be an investigation conducted without political influence graham said on cbs s face the nation news program and we all need to let mr mueller do his job i think he s the right guy at the right time the question of how russia may have interfered in the election and how trump s campaign may have had links with or co ordinated any such effort has loomed over the white house since trump took office in january it shows no sign of receding as trump prepares for his second year in power despite intensified rhetoric from some trump allies in recent weeks accusing mueller s team of bias against the republican president trump himself seemed to undercut his supporters in an interview last week with the new york times in which he said he expected mueller was going to be fair russia s role in the election and the question of possible links to the trump campaign are the focus of multiple inquiries in washington three committees of the senate and the house of representatives are investigating as well as mueller whose team in may took over an earlier probe launched by the u s federal bureau of investigation fbi several members of the trump campaign and administration have been convicted or indicted in the investigation trump and his allies deny any collusion with russia during the campaign and the kremlin has denied meddling in the election graham said he still wants an examination of the fbi s use of a dossier on links between trump and russia that was compiled by a former british spy christopher steele which prompted trump allies and some republicans to question mueller s inquiry on saturday the new york times reported that it was not that dossier that triggered an early fbi probe but a tip from former trump campaign foreign policy adviser george papadopoulos to an australian diplomat that russia had damaging information about former trump rival hillary clinton i want somebody to look at the way the department of justice used this dossier it bothers me greatly the way they used it and i want somebody to look at it graham said but he said the russia investigation must continue as a matter of fact it would hurt us if we ignored it he said"
        ]
       ],
       "shape": {
        "columns": 2,
        "rows": 3
       }
      },
      "text/html": [
       "<div>\n",
       "<style scoped>\n",
       "    .dataframe tbody tr th:only-of-type {\n",
       "        vertical-align: middle;\n",
       "    }\n",
       "\n",
       "    .dataframe tbody tr th {\n",
       "        vertical-align: top;\n",
       "    }\n",
       "\n",
       "    .dataframe thead th {\n",
       "        text-align: right;\n",
       "    }\n",
       "</style>\n",
       "<table border=\"1\" class=\"dataframe\">\n",
       "  <thead>\n",
       "    <tr style=\"text-align: right;\">\n",
       "      <th></th>\n",
       "      <th>text</th>\n",
       "      <th>clean_text</th>\n",
       "    </tr>\n",
       "  </thead>\n",
       "  <tbody>\n",
       "    <tr>\n",
       "      <th>0</th>\n",
       "      <td>WASHINGTON (Reuters) - The head of a conservat...</td>\n",
       "      <td>washington reuters the head of a conservative ...</td>\n",
       "    </tr>\n",
       "    <tr>\n",
       "      <th>1</th>\n",
       "      <td>WASHINGTON (Reuters) - Transgender people will...</td>\n",
       "      <td>washington reuters transgender people will be ...</td>\n",
       "    </tr>\n",
       "    <tr>\n",
       "      <th>2</th>\n",
       "      <td>WASHINGTON (Reuters) - The special counsel inv...</td>\n",
       "      <td>washington reuters the special counsel investi...</td>\n",
       "    </tr>\n",
       "  </tbody>\n",
       "</table>\n",
       "</div>"
      ],
      "text/plain": [
       "                                                text  \\\n",
       "0  WASHINGTON (Reuters) - The head of a conservat...   \n",
       "1  WASHINGTON (Reuters) - Transgender people will...   \n",
       "2  WASHINGTON (Reuters) - The special counsel inv...   \n",
       "\n",
       "                                          clean_text  \n",
       "0  washington reuters the head of a conservative ...  \n",
       "1  washington reuters transgender people will be ...  \n",
       "2  washington reuters the special counsel investi...  "
      ]
     },
     "execution_count": 17,
     "metadata": {},
     "output_type": "execute_result"
    }
   ],
   "source": [
    "#5. Nettoyage des textes\n",
    "def clean_text(text):\n",
    "    \"\"\"\n",
    "    Nettoie un texte :\n",
    "    - Supprime les balises HTML\n",
    "    - Supprime les URLs\n",
    "    - Supprime les caractères spéciaux\n",
    "    - Supprime les espaces multiples\n",
    "    - Convertit en minuscules\n",
    "    \"\"\"\n",
    "    if not isinstance(text, str):\n",
    "        return \"\"\n",
    "    text = BeautifulSoup(text, \"html.parser\").get_text()\n",
    "    text = re.sub(r\"http\\S+|www\\S+\", \"\", text)\n",
    "    text = re.sub(r\"[^A-Za-z0-9À-ÿ\\s]\", \" \", text)\n",
    "    text = re.sub(r\"\\s+\", \" \", text).strip()\n",
    "    return text.lower()\n",
    "\n",
    "df[\"clean_text\"] = df[\"text\"].apply(clean_text)\n",
    "\n",
    "# Vérification du nettoyage\n",
    "df[[\"text\", \"clean_text\"]].head(3)\n"
   ]
  },
  {
   "cell_type": "code",
   "execution_count": 18,
   "id": "993545ee",
   "metadata": {},
   "outputs": [
    {
     "name": "stdout",
     "output_type": "stream",
     "text": [
      "0    washington reuters head conservative republica...\n",
      "1    washington reuters transgender people allow ti...\n",
      "2    washington reuters special counsel investigati...\n",
      "Name: clean_text, dtype: object\n"
     ]
    }
   ],
   "source": [
    "#6. Suppression des stopwords et lemmatisation\n",
    "from spacy.lang.en.stop_words import STOP_WORDS\n",
    "\n",
    "def lemmatize_text(text):\n",
    "    \"\"\"Applique la lemmatisation et retire les stopwords\"\"\"\n",
    "    doc = nlp(text)\n",
    "    tokens = [token.lemma_ for token in doc if token.text.lower() not in STOP_WORDS]\n",
    "    return \" \".join(tokens)\n",
    "\n",
    "# Pour accélérer le test, on peut le faire sur un échantillon d'abord :\n",
    "sample = df[\"clean_text\"].iloc[:3].apply(lemmatize_text)\n",
    "print(sample)"
   ]
  },
  {
   "cell_type": "code",
   "execution_count": 19,
   "id": "3dbe23b8",
   "metadata": {},
   "outputs": [
    {
     "name": "stdout",
     "output_type": "stream",
     "text": [
      "['washington reuters the head of a conservative republican faction in the u s congress who voted this month for a huge expansion of the national debt to pay for tax cuts called himself a fiscal conservative on sunday and urged budget restraint in 2018 in keeping with a sharp pivot', 'budget restraint in 2018 in keeping with a sharp pivot under way among republicans u s representative mark meadows speaking on cbs face the nation drew a hard line on federal spending which lawmakers are bracing to do battle over in january when they return from the holidays on wednesday']\n"
     ]
    }
   ],
   "source": [
    "# 7. Découpage en chunks\n",
    "def chunk_text(text, chunk_size=200, overlap=50):\n",
    "    \"\"\"\n",
    "    Découpe un texte en morceaux de longueur fixe (en mots)\n",
    "    avec un chevauchement pour conserver le contexte.\n",
    "    \"\"\"\n",
    "    words = text.split()\n",
    "    chunks = []\n",
    "    start = 0\n",
    "    while start < len(words):\n",
    "        end = start + chunk_size\n",
    "        chunk = \" \".join(words[start:end])\n",
    "        if chunk:\n",
    "            chunks.append(chunk)\n",
    "        start += chunk_size - overlap\n",
    "    return chunks\n",
    "\n",
    "# Exemple\n",
    "example_text = df[\"clean_text\"].iloc[0]\n",
    "print(chunk_text(example_text, chunk_size=50, overlap=10)[:2])\n"
   ]
  },
  {
   "cell_type": "code",
   "execution_count": 20,
   "id": "61eefdb7",
   "metadata": {},
   "outputs": [
    {
     "name": "stderr",
     "output_type": "stream",
     "text": [
      "100%|██████████| 44689/44689 [00:04<00:00, 10289.66it/s]\n"
     ]
    },
    {
     "name": "stdout",
     "output_type": "stream",
     "text": [
      "✅ Nombre total de chunks : 145486\n"
     ]
    },
    {
     "data": {
      "application/vnd.microsoft.datawrangler.viewer.v0+json": {
       "columns": [
        {
         "name": "index",
         "rawType": "int64",
         "type": "integer"
        },
        {
         "name": "article_id",
         "rawType": "int64",
         "type": "integer"
        },
        {
         "name": "title",
         "rawType": "object",
         "type": "string"
        },
        {
         "name": "chunk_id",
         "rawType": "int64",
         "type": "integer"
        },
        {
         "name": "chunk_text",
         "rawType": "object",
         "type": "string"
        },
        {
         "name": "label",
         "rawType": "object",
         "type": "string"
        }
       ],
       "ref": "3e6838f2-8fed-4267-b5da-b3ffca2f80b7",
       "rows": [
        [
         "0",
         "0",
         "As U.S. budget fight looms, Republicans flip their fiscal script",
         "0",
         "washington reuters the head of a conservative republican faction in the u s congress who voted this month for a huge expansion of the national debt to pay for tax cuts called himself a fiscal conservative on sunday and urged budget restraint in 2018 in keeping with a sharp pivot under way among republicans u s representative mark meadows speaking on cbs face the nation drew a hard line on federal spending which lawmakers are bracing to do battle over in january when they return from the holidays on wednesday lawmakers will begin trying to pass a federal budget in a fight likely to be linked to other issues such as immigration policy even as the november congressional election campaigns approach in which republicans will seek to keep control of congress president donald trump and his republicans want a big budget increase in military spending while democrats also want proportional increases for non defense discretionary spending on programs that support education scientific research infrastructure public health and environmental protection the trump administration has already been willing to say we re going to increase non defense discretionary spending by about 7 percent meadows chairman of the small but influential house freedom",
         "True"
        ],
        [
         "1",
         "0",
         "As U.S. budget fight looms, Republicans flip their fiscal script",
         "1",
         "increases for non defense discretionary spending on programs that support education scientific research infrastructure public health and environmental protection the trump administration has already been willing to say we re going to increase non defense discretionary spending by about 7 percent meadows chairman of the small but influential house freedom caucus said on the program now democrats are saying that s not enough we need to give the government a pay raise of 10 to 11 percent for a fiscal conservative i don t see where the rationale is eventually you run out of other people s money he said meadows was among republicans who voted in late december for their party s debt financed tax overhaul which is expected to balloon the federal budget deficit and add about 1 5 trillion over 10 years to the 20 trillion national debt it s interesting to hear mark talk about fiscal responsibility democratic u s representative joseph crowley said on cbs crowley said the republican tax bill would require the united states to borrow 1 5 trillion to be paid off by future generations to finance tax cuts for corporations and the rich this is one of the least fiscally responsible",
         "True"
        ],
        [
         "2",
         "0",
         "As U.S. budget fight looms, Republicans flip their fiscal script",
         "2",
         "responsibility democratic u s representative joseph crowley said on cbs crowley said the republican tax bill would require the united states to borrow 1 5 trillion to be paid off by future generations to finance tax cuts for corporations and the rich this is one of the least fiscally responsible bills we ve ever seen passed in the history of the house of representatives i think we re going to be paying for this for many many years to come crowley said republicans insist the tax package the biggest u s tax overhaul in more than 30 years will boost the economy and job growth house speaker paul ryan who also supported the tax bill recently went further than meadows making clear in a radio interview that welfare or entitlement reform as the party often calls it would be a top republican priority in 2018 in republican parlance entitlement programs mean food stamps housing assistance medicare and medicaid health insurance for the elderly poor and disabled as well as other programs created by washington to assist the needy democrats seized on ryan s early december remarks saying they showed republicans would try to pay for their tax overhaul by seeking",
         "True"
        ],
        [
         "3",
         "0",
         "As U.S. budget fight looms, Republicans flip their fiscal script",
         "3",
         "mean food stamps housing assistance medicare and medicaid health insurance for the elderly poor and disabled as well as other programs created by washington to assist the needy democrats seized on ryan s early december remarks saying they showed republicans would try to pay for their tax overhaul by seeking spending cuts for social programs but the goals of house republicans may have to take a back seat to the senate where the votes of some democrats will be needed to approve a budget and prevent a government shutdown democrats will use their leverage in the senate which republicans narrowly control to defend both discretionary non defense programs and social spending while tackling the issue of the dreamers people brought illegally to the country as children trump in september put a march 2018 expiration date on the deferred action for childhood arrivals or daca program which protects the young immigrants from deportation and provides them with work permits the president has said in recent twitter messages he wants funding for his proposed mexican border wall and other immigration law changes in exchange for agreeing to help the dreamers representative debbie dingell told cbs she did not favor linking that issue",
         "True"
        ],
        [
         "4",
         "0",
         "As U.S. budget fight looms, Republicans flip their fiscal script",
         "4",
         "from deportation and provides them with work permits the president has said in recent twitter messages he wants funding for his proposed mexican border wall and other immigration law changes in exchange for agreeing to help the dreamers representative debbie dingell told cbs she did not favor linking that issue to other policy objectives such as wall funding we need to do daca clean she said on wednesday trump aides will meet with congressional leaders to discuss those issues that will be followed by a weekend of strategy sessions for trump and republican leaders on jan 6 and 7 the white house said trump was also scheduled to meet on sunday with florida republican governor rick scott who wants more emergency aid the house has passed an 81 billion aid package after hurricanes in florida texas and puerto rico and wildfires in california the package far exceeded the 44 billion requested by the trump administration the senate has not yet voted on the aid",
         "True"
        ]
       ],
       "shape": {
        "columns": 5,
        "rows": 5
       }
      },
      "text/html": [
       "<div>\n",
       "<style scoped>\n",
       "    .dataframe tbody tr th:only-of-type {\n",
       "        vertical-align: middle;\n",
       "    }\n",
       "\n",
       "    .dataframe tbody tr th {\n",
       "        vertical-align: top;\n",
       "    }\n",
       "\n",
       "    .dataframe thead th {\n",
       "        text-align: right;\n",
       "    }\n",
       "</style>\n",
       "<table border=\"1\" class=\"dataframe\">\n",
       "  <thead>\n",
       "    <tr style=\"text-align: right;\">\n",
       "      <th></th>\n",
       "      <th>article_id</th>\n",
       "      <th>title</th>\n",
       "      <th>chunk_id</th>\n",
       "      <th>chunk_text</th>\n",
       "      <th>label</th>\n",
       "    </tr>\n",
       "  </thead>\n",
       "  <tbody>\n",
       "    <tr>\n",
       "      <th>0</th>\n",
       "      <td>0</td>\n",
       "      <td>As U.S. budget fight looms, Republicans flip t...</td>\n",
       "      <td>0</td>\n",
       "      <td>washington reuters the head of a conservative ...</td>\n",
       "      <td>True</td>\n",
       "    </tr>\n",
       "    <tr>\n",
       "      <th>1</th>\n",
       "      <td>0</td>\n",
       "      <td>As U.S. budget fight looms, Republicans flip t...</td>\n",
       "      <td>1</td>\n",
       "      <td>increases for non defense discretionary spendi...</td>\n",
       "      <td>True</td>\n",
       "    </tr>\n",
       "    <tr>\n",
       "      <th>2</th>\n",
       "      <td>0</td>\n",
       "      <td>As U.S. budget fight looms, Republicans flip t...</td>\n",
       "      <td>2</td>\n",
       "      <td>responsibility democratic u s representative j...</td>\n",
       "      <td>True</td>\n",
       "    </tr>\n",
       "    <tr>\n",
       "      <th>3</th>\n",
       "      <td>0</td>\n",
       "      <td>As U.S. budget fight looms, Republicans flip t...</td>\n",
       "      <td>3</td>\n",
       "      <td>mean food stamps housing assistance medicare a...</td>\n",
       "      <td>True</td>\n",
       "    </tr>\n",
       "    <tr>\n",
       "      <th>4</th>\n",
       "      <td>0</td>\n",
       "      <td>As U.S. budget fight looms, Republicans flip t...</td>\n",
       "      <td>4</td>\n",
       "      <td>from deportation and provides them with work p...</td>\n",
       "      <td>True</td>\n",
       "    </tr>\n",
       "  </tbody>\n",
       "</table>\n",
       "</div>"
      ],
      "text/plain": [
       "   article_id                                              title  chunk_id  \\\n",
       "0           0  As U.S. budget fight looms, Republicans flip t...         0   \n",
       "1           0  As U.S. budget fight looms, Republicans flip t...         1   \n",
       "2           0  As U.S. budget fight looms, Republicans flip t...         2   \n",
       "3           0  As U.S. budget fight looms, Republicans flip t...         3   \n",
       "4           0  As U.S. budget fight looms, Republicans flip t...         4   \n",
       "\n",
       "                                          chunk_text label  \n",
       "0  washington reuters the head of a conservative ...  True  \n",
       "1  increases for non defense discretionary spendi...  True  \n",
       "2  responsibility democratic u s representative j...  True  \n",
       "3  mean food stamps housing assistance medicare a...  True  \n",
       "4  from deportation and provides them with work p...  True  "
      ]
     },
     "execution_count": 20,
     "metadata": {},
     "output_type": "execute_result"
    }
   ],
   "source": [
    "#8. Application du découpage à tout le dataset\n",
    "all_chunks = []\n",
    "for idx, row in tqdm(df.iterrows(), total=len(df)):\n",
    "    chunks = chunk_text(row[\"clean_text\"], chunk_size=200, overlap=50)\n",
    "    for i, chunk in enumerate(chunks):\n",
    "        all_chunks.append({\n",
    "            \"article_id\": idx,\n",
    "            \"title\": row.get(\"title\", \"\"),\n",
    "            \"chunk_id\": i,\n",
    "            \"chunk_text\": chunk,\n",
    "            \"label\": row[\"label\"]\n",
    "        })\n",
    "\n",
    "df_chunks = pd.DataFrame(all_chunks)\n",
    "print(f\"✅ Nombre total de chunks : {df_chunks.shape[0]}\")\n",
    "df_chunks.head()\n"
   ]
  },
  {
   "cell_type": "code",
   "execution_count": 21,
   "id": "66da5b93",
   "metadata": {},
   "outputs": [
    {
     "name": "stdout",
     "output_type": "stream",
     "text": [
      " Données nettoyées sauvegardées : data/processed/articles_cleaned.csv\n",
      " Chunks sauvegardés : data/processed/articles_chunks.csv\n"
     ]
    }
   ],
   "source": [
    "#9. Sauvegarde des fichiers nettoyés \n",
    "# Sauvegarde du dataset nettoyé complet\n",
    "cleaned_path = os.path.join(PROCESSED_PATH, \"articles_cleaned.csv\")\n",
    "df.to_csv(cleaned_path, index=False)\n",
    "\n",
    "# Sauvegarde du dataset chunké\n",
    "chunks_path = os.path.join(PROCESSED_PATH, \"articles_chunks.csv\")\n",
    "df_chunks.to_csv(chunks_path, index=False)\n",
    "\n",
    "print(f\" Données nettoyées sauvegardées : {cleaned_path}\")\n",
    "print(f\" Chunks sauvegardés : {chunks_path}\")\n"
   ]
  },
  {
   "cell_type": "code",
   "execution_count": 22,
   "id": "7bd8ce18",
   "metadata": {},
   "outputs": [
    {
     "name": "stdout",
     "output_type": "stream",
     "text": [
      "Tous les tests basiques sont passés.\n"
     ]
    }
   ],
   "source": [
    "#10. Tests simples \n",
    "# Vérifier qu’il n’y a pas de texte vide\n",
    "assert (df_chunks[\"chunk_text\"].str.strip() != \"\").all(), \" Des chunks vides détectés !\"\n",
    "\n",
    "# Vérifier la cohérence du label\n",
    "assert set(df_chunks[\"label\"].unique()) <= {\"True\", \"Fake\"}, \"Label invalide détecté !\"\n",
    "\n",
    "print(\"Tous les tests basiques sont passés.\")"
   ]
  },
  {
   "cell_type": "markdown",
   "id": "3f1dc213",
   "metadata": {},
   "source": [
    "#### ✅ Étapes réalisées :\n",
    "- Chargement et fusion des fichiers True/Fake\n",
    "- Nettoyage complet des textes (HTML, URLs, caractères spéciaux, etc.)\n",
    "- Mise en minuscules\n",
    "- Lemmatisation et suppression des stopwords (optionnelle)\n",
    "- Découpage en chunks pour la vectorisation\n",
    "- Sauvegarde des jeux de données nettoyés et prêts pour ChromaDB\n",
    "\n",
    "#### 🚀 Étape suivante :\n",
    "👉 Passer à la **vectorisation et au stockage dans ChromaDB**\n",
    "où chaque chunk sera converti en vecteur à l’aide du modèle d’embedding (Ollama).\n"
   ]
  },
  {
   "cell_type": "markdown",
   "id": "13776c59",
   "metadata": {},
   "source": [
    "### Étape 2 : Vectorisation et stockage dans ChromaDB\n",
    "#### Objectif :\n",
    "##### Charger les chunks nettoyés, créer une collection dans ChromaDB,\n",
    "##### générer les embeddings via Ollama et stocker le tout avec les métadonnées."
   ]
  },
  {
   "cell_type": "code",
   "execution_count": 23,
   "id": "438989c6",
   "metadata": {},
   "outputs": [],
   "source": [
    "# 1 Installation des bibliothèques\n",
    "# #!pip install chromadb ollama --quiet\n",
    "import chromadb\n",
    "from chromadb.utils import embedding_functions"
   ]
  },
  {
   "cell_type": "code",
   "execution_count": 24,
   "id": "9af3762a",
   "metadata": {},
   "outputs": [
    {
     "name": "stdout",
     "output_type": "stream",
     "text": [
      "145486 chunks chargés depuis data/processed/articles_chunks.csv\n"
     ]
    },
    {
     "data": {
      "application/vnd.microsoft.datawrangler.viewer.v0+json": {
       "columns": [
        {
         "name": "index",
         "rawType": "int64",
         "type": "integer"
        },
        {
         "name": "article_id",
         "rawType": "int64",
         "type": "integer"
        },
        {
         "name": "title",
         "rawType": "object",
         "type": "string"
        },
        {
         "name": "chunk_id",
         "rawType": "int64",
         "type": "integer"
        },
        {
         "name": "chunk_text",
         "rawType": "object",
         "type": "string"
        },
        {
         "name": "label",
         "rawType": "object",
         "type": "string"
        }
       ],
       "ref": "ccc9c929-5780-424b-b2a1-487e8e217ccd",
       "rows": [
        [
         "0",
         "0",
         "As U.S. budget fight looms, Republicans flip their fiscal script",
         "0",
         "washington reuters the head of a conservative republican faction in the u s congress who voted this month for a huge expansion of the national debt to pay for tax cuts called himself a fiscal conservative on sunday and urged budget restraint in 2018 in keeping with a sharp pivot under way among republicans u s representative mark meadows speaking on cbs face the nation drew a hard line on federal spending which lawmakers are bracing to do battle over in january when they return from the holidays on wednesday lawmakers will begin trying to pass a federal budget in a fight likely to be linked to other issues such as immigration policy even as the november congressional election campaigns approach in which republicans will seek to keep control of congress president donald trump and his republicans want a big budget increase in military spending while democrats also want proportional increases for non defense discretionary spending on programs that support education scientific research infrastructure public health and environmental protection the trump administration has already been willing to say we re going to increase non defense discretionary spending by about 7 percent meadows chairman of the small but influential house freedom",
         "True"
        ],
        [
         "1",
         "0",
         "As U.S. budget fight looms, Republicans flip their fiscal script",
         "1",
         "increases for non defense discretionary spending on programs that support education scientific research infrastructure public health and environmental protection the trump administration has already been willing to say we re going to increase non defense discretionary spending by about 7 percent meadows chairman of the small but influential house freedom caucus said on the program now democrats are saying that s not enough we need to give the government a pay raise of 10 to 11 percent for a fiscal conservative i don t see where the rationale is eventually you run out of other people s money he said meadows was among republicans who voted in late december for their party s debt financed tax overhaul which is expected to balloon the federal budget deficit and add about 1 5 trillion over 10 years to the 20 trillion national debt it s interesting to hear mark talk about fiscal responsibility democratic u s representative joseph crowley said on cbs crowley said the republican tax bill would require the united states to borrow 1 5 trillion to be paid off by future generations to finance tax cuts for corporations and the rich this is one of the least fiscally responsible",
         "True"
        ]
       ],
       "shape": {
        "columns": 5,
        "rows": 2
       }
      },
      "text/html": [
       "<div>\n",
       "<style scoped>\n",
       "    .dataframe tbody tr th:only-of-type {\n",
       "        vertical-align: middle;\n",
       "    }\n",
       "\n",
       "    .dataframe tbody tr th {\n",
       "        vertical-align: top;\n",
       "    }\n",
       "\n",
       "    .dataframe thead th {\n",
       "        text-align: right;\n",
       "    }\n",
       "</style>\n",
       "<table border=\"1\" class=\"dataframe\">\n",
       "  <thead>\n",
       "    <tr style=\"text-align: right;\">\n",
       "      <th></th>\n",
       "      <th>article_id</th>\n",
       "      <th>title</th>\n",
       "      <th>chunk_id</th>\n",
       "      <th>chunk_text</th>\n",
       "      <th>label</th>\n",
       "    </tr>\n",
       "  </thead>\n",
       "  <tbody>\n",
       "    <tr>\n",
       "      <th>0</th>\n",
       "      <td>0</td>\n",
       "      <td>As U.S. budget fight looms, Republicans flip t...</td>\n",
       "      <td>0</td>\n",
       "      <td>washington reuters the head of a conservative ...</td>\n",
       "      <td>True</td>\n",
       "    </tr>\n",
       "    <tr>\n",
       "      <th>1</th>\n",
       "      <td>0</td>\n",
       "      <td>As U.S. budget fight looms, Republicans flip t...</td>\n",
       "      <td>1</td>\n",
       "      <td>increases for non defense discretionary spendi...</td>\n",
       "      <td>True</td>\n",
       "    </tr>\n",
       "  </tbody>\n",
       "</table>\n",
       "</div>"
      ],
      "text/plain": [
       "   article_id                                              title  chunk_id  \\\n",
       "0           0  As U.S. budget fight looms, Republicans flip t...         0   \n",
       "1           0  As U.S. budget fight looms, Republicans flip t...         1   \n",
       "\n",
       "                                          chunk_text label  \n",
       "0  washington reuters the head of a conservative ...  True  \n",
       "1  increases for non defense discretionary spendi...  True  "
      ]
     },
     "execution_count": 24,
     "metadata": {},
     "output_type": "execute_result"
    }
   ],
   "source": [
    "#2. Chargement du dataset chunké\n",
    "CHUNKS_PATH = os.path.join(PROCESSED_PATH, \"articles_chunks.csv\")\n",
    "df_chunks = pd.read_csv(CHUNKS_PATH)\n",
    "print(f\"{df_chunks.shape[0]} chunks chargés depuis {CHUNKS_PATH}\")\n",
    "df_chunks.head(2)"
   ]
  },
  {
   "cell_type": "code",
   "execution_count": 25,
   "id": "a243f810",
   "metadata": {},
   "outputs": [
    {
     "name": "stdout",
     "output_type": "stream",
     "text": [
      " Collection 'fake_news_chunks' créée avec succès.\n"
     ]
    }
   ],
   "source": [
    "#3. Initialisation du client ChromaDB et création de la collection\n",
    "\n",
    "# Création (ou récupération) d’un client local\n",
    "client = chromadb.Client()\n",
    "\n",
    "# Nom de la collection\n",
    "collection_name = \"fake_news_chunks\"\n",
    "\n",
    "# Supprimer la collection si elle existe déjà (pour test propre)\n",
    "if collection_name in [c.name for c in client.list_collections()]:\n",
    "    client.delete_collection(name=collection_name)\n",
    "\n",
    "# Créer la collection\n",
    "collection = client.create_collection(name=collection_name)\n",
    "print(f\" Collection '{collection_name}' créée avec succès.\")"
   ]
  },
  {
   "cell_type": "code",
   "execution_count": 26,
   "id": "37f2879b",
   "metadata": {},
   "outputs": [],
   "source": [
    "# 4. Définir la fonction d’embedding avec Ollama\n",
    "#rq : Assure  d’avoir lancé le serveur Ollama en parallèle : Terminal → ollama serve\n",
    "embedding_fn = embedding_functions.OllamaEmbeddingFunction(\n",
    "    model_name=\"all-minilm\"  # modèle léger conseillé\n",
    ")"
   ]
  },
  {
   "cell_type": "code",
   "execution_count": 27,
   "id": "625db46a",
   "metadata": {},
   "outputs": [
    {
     "data": {
      "application/vnd.microsoft.datawrangler.viewer.v0+json": {
       "columns": [
        {
         "name": "index",
         "rawType": "int64",
         "type": "integer"
        },
        {
         "name": "article_id",
         "rawType": "int64",
         "type": "integer"
        },
        {
         "name": "title",
         "rawType": "object",
         "type": "string"
        },
        {
         "name": "chunk_id",
         "rawType": "int64",
         "type": "integer"
        },
        {
         "name": "chunk_text",
         "rawType": "object",
         "type": "string"
        },
        {
         "name": "label",
         "rawType": "object",
         "type": "string"
        }
       ],
       "ref": "2facf45a-0f8e-47a3-9e89-751b1af5c633",
       "rows": [
        [
         "0",
         "26204",
         " WATCH: One Of Trump’s Biggest Supporters Is Outed As A Complete Fraud On The Air",
         "3",
         "supporting donald trump for president for too long african american votes have been taken for granted by democratic politicians and enough is enough so burns literally played the race card which something conservatives hypocritically often claim that liberals do so not only is burns a liar he s a hypocrite and one has to wonder what else he is hiding featured image stephen maturen getty images",
         "Fake"
        ],
        [
         "1",
         "22451",
         " Joe Biden Is Downright Ruthless When Rich ‘A**hole’ Callously Disrespects His Dead Son",
         "0",
         "joe biden was speaking at the skybridge alternatives salt conference when one rich a hole decided to disrespect the former vice president s dead son biden was furious and he put the heckler in his place effortlessly bill ackman manager of a failing hedge fund was speaking at the wall street event as well fox business reports that during the private vip dinner former florida governor and 2016 gop presidential contender jeb bush asked biden why didn t you run biden explained that part of the decision stemmed from the death of his son beau biden who died of brain cancer in 2015 the room grew quiet as biden became emotional and said i m sorry i ve said enough that s when ackman blurted out why that s never stopped you before the formal and understated dinner conversation suddenly turned tense according to three people who were present and confirmed both the substance and the wording of biden s responses biden these people say turned to someone seated near him and asked who is this asshole a reference to ackman then he turned directly to ackman and stated look i don t know who you are wiseass but never",
         "Fake"
        ]
       ],
       "shape": {
        "columns": 5,
        "rows": 2
       }
      },
      "text/html": [
       "<div>\n",
       "<style scoped>\n",
       "    .dataframe tbody tr th:only-of-type {\n",
       "        vertical-align: middle;\n",
       "    }\n",
       "\n",
       "    .dataframe tbody tr th {\n",
       "        vertical-align: top;\n",
       "    }\n",
       "\n",
       "    .dataframe thead th {\n",
       "        text-align: right;\n",
       "    }\n",
       "</style>\n",
       "<table border=\"1\" class=\"dataframe\">\n",
       "  <thead>\n",
       "    <tr style=\"text-align: right;\">\n",
       "      <th></th>\n",
       "      <th>article_id</th>\n",
       "      <th>title</th>\n",
       "      <th>chunk_id</th>\n",
       "      <th>chunk_text</th>\n",
       "      <th>label</th>\n",
       "    </tr>\n",
       "  </thead>\n",
       "  <tbody>\n",
       "    <tr>\n",
       "      <th>0</th>\n",
       "      <td>26204</td>\n",
       "      <td>WATCH: One Of Trump’s Biggest Supporters Is O...</td>\n",
       "      <td>3</td>\n",
       "      <td>supporting donald trump for president for too ...</td>\n",
       "      <td>Fake</td>\n",
       "    </tr>\n",
       "    <tr>\n",
       "      <th>1</th>\n",
       "      <td>22451</td>\n",
       "      <td>Joe Biden Is Downright Ruthless When Rich ‘A*...</td>\n",
       "      <td>0</td>\n",
       "      <td>joe biden was speaking at the skybridge altern...</td>\n",
       "      <td>Fake</td>\n",
       "    </tr>\n",
       "  </tbody>\n",
       "</table>\n",
       "</div>"
      ],
      "text/plain": [
       "   article_id                                              title  chunk_id  \\\n",
       "0       26204   WATCH: One Of Trump’s Biggest Supporters Is O...         3   \n",
       "1       22451   Joe Biden Is Downright Ruthless When Rich ‘A*...         0   \n",
       "\n",
       "                                          chunk_text label  \n",
       "0  supporting donald trump for president for too ...  Fake  \n",
       "1  joe biden was speaking at the skybridge altern...  Fake  "
      ]
     },
     "execution_count": 27,
     "metadata": {},
     "output_type": "execute_result"
    }
   ],
   "source": [
    "# 5. Sélection d’un petit échantillon (pour test rapide)\n",
    "\n",
    "# Pour éviter un traitement trop long au début\n",
    "sample_df = df_chunks.sample(10, random_state=42).reset_index(drop=True)\n",
    "sample_df.head(2)"
   ]
  },
  {
   "cell_type": "code",
   "execution_count": 28,
   "id": "14bc55b6",
   "metadata": {},
   "outputs": [
    {
     "name": "stdout",
     "output_type": "stream",
     "text": [
      " 10 chunks ajoutés à la collection 'fake_news_chunks'.\n"
     ]
    }
   ],
   "source": [
    "# 6. Ajout des chunks dans ChromaDB\n",
    "for idx, row in sample_df.iterrows():\n",
    "    chunk_id = f\"{row['article_id']}_{row['chunk_id']}\"\n",
    "    metadata = {\n",
    "        \"title\": row.get(\"title\", \"\"),\n",
    "        \"label\": row[\"label\"],\n",
    "        \"article_id\": int(row[\"article_id\"]),\n",
    "    }\n",
    "\n",
    "    collection.add(\n",
    "        ids=[chunk_id],\n",
    "        documents=[row[\"chunk_text\"]],\n",
    "        metadatas=[metadata],\n",
    "        embeddings=embedding_fn([row[\"chunk_text\"]])\n",
    "    )\n",
    "\n",
    "print(f\" {len(sample_df)} chunks ajoutés à la collection '{collection_name}'.\")\n"
   ]
  },
  {
   "cell_type": "code",
   "execution_count": 29,
   "id": "da8b53d1",
   "metadata": {},
   "outputs": [
    {
     "name": "stdout",
     "output_type": "stream",
     "text": [
      " Exemple de document stocké :\n"
     ]
    },
    {
     "data": {
      "text/plain": [
       "{'ids': ['26204_3',\n",
       "  '22451_0',\n",
       "  '16967_3',\n",
       "  '39130_2',\n",
       "  '44364_0',\n",
       "  '31827_11',\n",
       "  '32417_2',\n",
       "  '7251_1',\n",
       "  '21995_0',\n",
       "  '10910_0'],\n",
       " 'embeddings': array([[ 0.03148066,  0.06609543, -0.00260025, ..., -0.01345606,\n",
       "         -0.00472292,  0.00255966],\n",
       "        [-0.04013475, -0.01899961,  0.02693708, ...,  0.00223051,\n",
       "         -0.12071282,  0.03988767],\n",
       "        [-0.00988505,  0.04822049,  0.02915613, ...,  0.01965448,\n",
       "         -0.03194366,  0.02829264],\n",
       "        ...,\n",
       "        [ 0.04085801, -0.00852068,  0.0645113 , ..., -0.05173074,\n",
       "          0.04013757, -0.03626084],\n",
       "        [-0.01746017, -0.0362521 ,  0.10753163, ..., -0.0122874 ,\n",
       "          0.00103011, -0.02215472],\n",
       "        [-0.0513751 , -0.01095264,  0.01819525, ..., -0.09877898,\n",
       "          0.01238176,  0.09949215]], shape=(10, 384)),\n",
       " 'documents': ['supporting donald trump for president for too long african american votes have been taken for granted by democratic politicians and enough is enough so burns literally played the race card which something conservatives hypocritically often claim that liberals do so not only is burns a liar he s a hypocrite and one has to wonder what else he is hiding featured image stephen maturen getty images',\n",
       "  'joe biden was speaking at the skybridge alternatives salt conference when one rich a hole decided to disrespect the former vice president s dead son biden was furious and he put the heckler in his place effortlessly bill ackman manager of a failing hedge fund was speaking at the wall street event as well fox business reports that during the private vip dinner former florida governor and 2016 gop presidential contender jeb bush asked biden why didn t you run biden explained that part of the decision stemmed from the death of his son beau biden who died of brain cancer in 2015 the room grew quiet as biden became emotional and said i m sorry i ve said enough that s when ackman blurted out why that s never stopped you before the formal and understated dinner conversation suddenly turned tense according to three people who were present and confirmed both the substance and the wording of biden s responses biden these people say turned to someone seated near him and asked who is this asshole a reference to ackman then he turned directly to ackman and stated look i don t know who you are wiseass but never',\n",
       "  'groups the bloc s asylum system broke down under the sheer numbers and the cherished schengen zone of control free travel was strained as member states introduced emergency border checks eu states have since sought to agree on how to change their asylum laws with bitter disputes deepening east west divides tusk said on thursday the 28 eu leaders would discuss the issue again in december and were aiming for an agreement by mid 2018 earlier this week the european parliament agreed its own stance on asylum reform including an option to cut eu funds to states that refuse to host asylum seekers reaching the bloc it proposed moving away from the current rule mandating that the first country through which a person enters the eu must handle his or her asylum request saying it puts too much burden on frontline states like italy greece malta or spain southern frontline states want a scheme that would automatically lift people off their soil during periods of exceptionally high immigration and take them elsewhere in the eu westerners like germany and sweden which eventually receive most of the refugees have said more of the burden must be shared and that solidarity was',\n",
       "  'first time that a liberal media outlet has been accused of white washing an image of a high profile killer to fit a certain liberal narrative conservative treehouse accused cnn of whitewashing the selfie image of oregon umpqua college killer christopher mercer that he uploaded to his facebook page on the right is how cnn presented the same selfie in broadcast stories about him why did cnn need to change the complexion color of their broadcast what are your thoughts do you believe cbs intentionally white washed the image of the new york city terrorist we d like to hear what you have to say please tell us what you think in the comment section below',\n",
       "  'patrick henningsen 21st century wirejust as 21wire reported last week the us mainstream media are still black balling any substantial reporting about us boots on the ground in syria instead america s media are obsessing over trump s tax returns various russian conspiracy theories and michael flynn s moscow public speaking engagement in 2015 with this latest pentagon announcement of an additional 1 000 us troops to syria that would bring the total combat deployment to approximately 4 000 inside of syria considering the amount of media coverage and political debate over the 5 000 us military personnel send to iraq over the last 3 years one must ask why the silence in us media about the stealth build up for a major battle in raqqa syria previously 21wire reported how the united states has sent in combat troops to support ypg fighters kurdish people s protect units in syria much to the dismay of turkey and to the annoyance of both russian and syrian planners turkey has been pressing the us to change its strategy for fighting islamic state in syria by abandoning the ypg whom it deems as terrorists in league with the kurdish pkk in turkey the',\n",
       "  's leaks to confabulate that russian s hacked the dnc to influence the elections is the claim of one well known russian spy then 17 u s intelligence agencies unanimously confirm that alperovitch is correct even though there is no evidence and no investigation was ever conducted how does dmitri alperovitch have such power why did obama again and again use alperovitch s company crowdstrike when they have miserably failed to stop further cyber attacks on the systems they were hired to protect why should anyone believe crowdstrikes false flag report after documents from the dnc continued to leak and guccifer 2 0 and wikileaks made crowdstrike s report look foolish alperovitch decided the situation was far worse than he had reported he single handedly concluded that the russians were conducting an influence operation to help win the election for trump this false assertion had absolutely no evidence to back it up on july 22 three days before the democratic convention in philadelphia wikileaks dumped a massive cache of emails that had been stolen not hacked from the dnc reporters soon found emails suggesting that the dnc leadership had favored hillary clinton in her primary race against bernie sanders which',\n",
       "  'd expect from the left she must be one of liz warren s nasty women read more wnd',\n",
       "  'to hatemongers many urged him to reconsider bringing steve bannon into the white house is an alarming signal that president elect trump remains committed to the hateful and divisive vision that defined his campaign house democratic leader nancy pelosi said in a statement on monday there must be no sugar coating the reality that a white nationalist has been named chief strategist for the trump administration pelosi said the southern poverty law center the anti defamation league and the council on american islamic relations cair also denounced bannon bannon who grew up in a democratic family has a reputation of trying to tear down a republican party establishment that he deemed too soft and too entrenched as a senior adviser to the republican trump bannon will be expected by far right groups to champion their views and make sure that trump who takes office on jan 20 keeps such campaign promises as building a wall on the southern u s border cracking down on muslims entering the country and restricting the influx of syrian war refugees perhaps the donald is for real rocky suhayda chairman of the american nazi party told cnn david duke a longtime leader of ku klux',\n",
       "  'according to a new report saturday from axios a source very close to donald trump has indicated that trump believes his chief strategist steve bannon is to blame for leaks coming out of the white house regarding other members of trump s staff it would be easy to say at this point that bannon s position at trump s right hand is in jeopardy but the fact that trump is simply talking about it instead of firing him already may indicate otherwise this could be an elaborate test to see if the news that trump suspects bannon makes it out of the white house which of course it has meaning whoever the president told about his suspicions is if not the leaker at least also a leaker or it could be that bannon is innocent and the axios source is the leaker trying to throw everyone off the trail most likely however is that donald trump is a loose lipped dipshit who doesn t care who his audience is he just wants to look like he knows what he s doing even having a suspicion means he s thinking about it right bannon has not commented on the news nor',\n",
       "  'washington reuters u s deputy defense secretary robert work said the pentagon s plan to truncate the littoral combat ship program at 40 ships instead of 52 reflected budget pressures and was not an indictment of the program lockheed martin corp lmt n and australia s austal asb ax each build different models of the smaller fast coastal warships carter said he wants the navy to have a competition and pick just one supplier for future ships work said the pentagon decided to buy two of the ships in fiscal 2017 instead of scaling orders back to just one ship as defense secretary ash carter had ordered in a memo late last year at the navy s request he said the move was meant to help ensure a smooth transition to a future competition by keeping both shipbuilders working for another year'],\n",
       " 'uris': None,\n",
       " 'included': ['metadatas', 'documents', 'embeddings'],\n",
       " 'data': None,\n",
       " 'metadatas': [{'article_id': 26204,\n",
       "   'title': ' WATCH: One Of Trump’s Biggest Supporters Is Outed As A Complete Fraud On The Air',\n",
       "   'label': 'Fake'},\n",
       "  {'article_id': 22451,\n",
       "   'title': ' Joe Biden Is Downright Ruthless When Rich ‘A**hole’ Callously Disrespects His Dead Son',\n",
       "   'label': 'Fake'},\n",
       "  {'title': 'EU leaders seek greater reductions in Africa immigration',\n",
       "   'article_id': 16967,\n",
       "   'label': 'True'},\n",
       "  {'label': 'Fake',\n",
       "   'title': 'IMAM SLAMS CBS News For Trying To “Make Terrorist White”…”I’m Glad They Didn’t Make His Eyes Blue As Well”',\n",
       "   'article_id': 39130},\n",
       "  {'label': 'Fake',\n",
       "   'article_id': 44364,\n",
       "   'title': 'BEYOND MISSION CREEP: U.S. Planning to Send 1,000 More Ground Troops into Syria'},\n",
       "  {'title': 'BREAKING: PETER W. SMITH, GOP Operative Who Sought Hillary Clinton’s Missing Emails FOUND DEAD In Hotel Room',\n",
       "   'label': 'Fake',\n",
       "   'article_id': 31827},\n",
       "  {'title': 'CITIZEN JOURNALIST Enters WH Press Room Yells Questions To Press…Liberals Have A Hissy Fit! [VIDEO]',\n",
       "   'article_id': 32417,\n",
       "   'label': 'Fake'},\n",
       "  {'article_id': 7251,\n",
       "   'title': 'Bannon role in Trump administration sets off critical firestorm',\n",
       "   'label': 'True'},\n",
       "  {'title': ' Trump Suspects Bannon Is The White House Leaker. But Who Leaked THAT?',\n",
       "   'label': 'Fake',\n",
       "   'article_id': 21995},\n",
       "  {'label': 'True',\n",
       "   'title': \"Pentagon's No. 2 says cut in LCS ship program 'not an indictment'\",\n",
       "   'article_id': 10910}]}"
      ]
     },
     "execution_count": 29,
     "metadata": {},
     "output_type": "execute_result"
    }
   ],
   "source": [
    "# 7. Vérification du stockage\n",
    "results = collection.peek()\n",
    "print(\" Exemple de document stocké :\")\n",
    "results"
   ]
  },
  {
   "cell_type": "code",
   "execution_count": 30,
   "id": "d75bed3c",
   "metadata": {},
   "outputs": [
    {
     "name": "stdout",
     "output_type": "stream",
     "text": [
      " Résultats de la recherche sémantique :\n",
      "- [Fake] s leaks to confabulate that russian s hacked the dnc to influence the elections is the claim of one well known russian spy then 17 u s intelligence ag...\n",
      "\n",
      "- [Fake] supporting donald trump for president for too long african american votes have been taken for granted by democratic politicians and enough is enough s...\n",
      "\n",
      "- [Fake] joe biden was speaking at the skybridge alternatives salt conference when one rich a hole decided to disrespect the former vice president s dead son b...\n",
      "\n"
     ]
    }
   ],
   "source": [
    "# 8. Test rapide de recherche sémantique\n",
    "query = \"The president made a false statement about the election\"\n",
    "results = collection.query(query_texts=[query], n_results=3)\n",
    "\n",
    "print(\" Résultats de la recherche sémantique :\")\n",
    "for doc, meta in zip(results[\"documents\"][0], results[\"metadatas\"][0]):\n",
    "    print(f\"- [{meta['label']}] {doc[:150]}...\\n\")"
   ]
  },
  {
   "cell_type": "code",
   "execution_count": 31,
   "id": "e7aae9bf",
   "metadata": {},
   "outputs": [
    {
     "name": "stdout",
     "output_type": "stream",
     "text": [
      "\n",
      "Étape 2 terminée : les chunks ont été vectorisés et stockés dans ChromaDB.\n",
      "\n",
      "🎯 Prochaines étapes :\n",
      "→ Développer le pipeline RAG :\n",
      "   1. Récupération d’un article soumis par l’utilisateur\n",
      "   2. Recherche sémantique des chunks similaires\n",
      "   3. Envoi du contexte au modèle Ollama pour verdict (True/Fake) et justification\n",
      "\n"
     ]
    }
   ],
   "source": [
    "# 9. Sauvegarde et fin de l’étape 2\n",
    "print(\"\"\"\n",
    "Étape 2 terminée : les chunks ont été vectorisés et stockés dans ChromaDB.\n",
    "\n",
    "🎯 Prochaines étapes :\n",
    "→ Développer le pipeline RAG :\n",
    "   1. Récupération d’un article soumis par l’utilisateur\n",
    "   2. Recherche sémantique des chunks similaires\n",
    "   3. Envoi du contexte au modèle Ollama pour verdict (True/Fake) et justification\n",
    "\"\"\")"
   ]
  },
  {
   "cell_type": "markdown",
   "id": "f94aeffa",
   "metadata": {},
   "source": [
    "#### Étape 3 — Système RAG : Recherche et génération de verdict\n",
    "##### Objectif :\n",
    "##### Prendre un texte soumis par l'utilisateur, rechercher les chunks les plus similaires\n",
    "##### dans ChromaDB et générer un verdict TRUE/FAKE avec justification via Ollama.\n"
   ]
  },
  {
   "cell_type": "code",
   "execution_count": null,
   "id": "e5a0e712",
   "metadata": {},
   "outputs": [
    {
     "name": "stdout",
     "output_type": "stream",
     "text": [
      "Collection 'fake_news_chunks' récupérée.\n",
      "145486 chunks chargés depuis data/processed/articles_chunks.csv\n",
      "0 chunks déjà présents dans la collection.\n"
     ]
    },
    {
     "name": "stderr",
     "output_type": "stream",
     "text": [
      "Ajout chunks: 100%|██████████| 2910/2910 [1:07:25<00:00,  1.39s/it]   \n"
     ]
    },
    {
     "name": "stdout",
     "output_type": "stream",
     "text": [
      "✅ Tous les chunks ajoutés (ou ignorés si déjà présents).\n",
      "Exemple de document stocké : s...\n"
     ]
    },
    {
     "ename": "ValueError",
     "evalue": "Expected embeddings to be a list of floats or ints, a list of lists, a numpy array, or a list of numpy arrays, got [[array([-1.81416776e-02, -1.66259743e-02,  2.08692756e-02, -1.75619125e-02,\n        1.80299189e-02,  2.60097906e-02,  5.11432113e-03,  1.14210762e-01,\n       -2.04584561e-02,  5.41193597e-02, -2.44015623e-02, -1.26532063e-01,\n        7.31085055e-03, -1.38087375e-02, -8.85488391e-02, -5.60243055e-02,\n       -4.70394045e-02,  1.15937643e-01, -1.96584035e-02,  2.52075624e-02,\n        1.93452239e-02, -5.84553555e-02, -2.57454417e-03, -1.32696088e-02,\n       -3.99976000e-02, -1.97132248e-02, -7.61035038e-03, -3.05432659e-02,\n        1.28386142e-02, -3.06564849e-02,  9.19936523e-02,  2.72286125e-02,\n        9.28371400e-02, -2.16248930e-02,  4.68153805e-02, -1.35617855e-03,\n        3.60254794e-02, -4.95285392e-02,  1.55769046e-02,  5.89962769e-03,\n       -7.28993416e-02, -2.07973160e-02, -7.61383250e-02, -5.29609285e-02,\n        2.79479902e-02,  2.00565234e-02,  4.91947271e-02,  4.37306762e-02,\n       -7.02829510e-02,  1.23015242e-02, -1.89531855e-02,  2.11297404e-02,\n        3.14982273e-02, -2.05652136e-03, -9.60241072e-03,  1.37864072e-02,\n        2.37291958e-02, -8.78743976e-02,  4.92315702e-02, -2.19135825e-03,\n        4.39996235e-02, -2.95393355e-02, -2.91786175e-02, -9.43556428e-03,\n       -2.87558287e-02, -4.87520248e-02, -5.78259164e-03, -2.60894578e-02,\n       -5.39330989e-02, -4.52844352e-02,  7.68463612e-02, -7.29381442e-02,\n        1.05015468e-03, -9.09902826e-02, -7.49805244e-03, -4.59635332e-02,\n       -1.40542549e-03,  8.46854597e-02,  1.61583759e-02, -1.25481978e-01,\n        5.51161580e-02,  5.71524084e-04, -2.43967008e-02, -1.33256204e-02,\n        9.74393561e-02, -6.52966497e-04, -4.29940633e-02, -8.24591964e-02,\n        3.44937816e-02,  2.87129432e-02, -6.32645339e-02, -2.91882716e-02,\n       -7.88721889e-02, -6.53800694e-03,  4.30724397e-03, -1.40770227e-02,\n       -1.88309420e-02, -5.12991063e-02,  6.45918325e-02,  7.57026821e-02,\n        4.38501732e-03, -2.74874866e-02, -4.59654396e-03,  2.96238288e-02,\n       -4.31326255e-02, -5.24360202e-02, -3.25406790e-02, -6.86536776e-03,\n        4.29855473e-02,  3.07425065e-03,  6.54570106e-03, -8.69413689e-02,\n        1.56564470e-02, -3.66489552e-02, -1.30760726e-02,  5.17454557e-03,\n       -2.03638175e-03, -1.04338109e-01, -4.22384925e-02,  1.79715548e-02,\n        5.87458946e-02, -2.14619376e-02, -5.22247069e-02, -1.03523836e-01,\n        3.81596424e-02, -4.12811413e-02,  6.05484545e-02,  1.10655556e-33,\n       -6.66319206e-02,  2.76356842e-02, -3.35655781e-03, -2.55682431e-02,\n        9.92549397e-03,  7.36811608e-02, -7.02281967e-02,  7.64670363e-03,\n        9.10629109e-02, -7.95632899e-02,  2.32465938e-02,  1.04957908e-01,\n       -7.29348361e-02,  5.38891517e-02, -3.53792198e-02, -3.37260403e-02,\n       -8.40844866e-03, -3.00222076e-02,  4.89534996e-02, -1.26366261e-02,\n       -8.99075344e-02, -1.10813035e-02,  4.00574207e-02,  8.01657736e-02,\n        1.22173227e-01, -6.47783875e-02, -4.38011140e-02, -4.41191047e-02,\n       -2.73925327e-02,  6.71576113e-02,  7.92337358e-02,  6.54464075e-03,\n       -1.00661274e-02,  3.67499702e-02, -2.23749839e-02, -8.12403262e-02,\n       -3.92097346e-02,  6.38847128e-02,  1.28336670e-02,  1.82139855e-02,\n        2.87800301e-02,  7.41283363e-03,  4.55824696e-02,  4.23449837e-03,\n        3.49725522e-02,  3.59913260e-02,  8.02978501e-02,  5.02240062e-02,\n        8.64610001e-02,  4.07084338e-02, -7.96093512e-03,  1.92554086e-03,\n       -4.63032089e-02, -8.00290331e-02, -4.77272086e-02, -2.86084972e-02,\n       -1.23735860e-01,  3.24559323e-02, -3.50524262e-02, -6.03862330e-02,\n        9.91642941e-04,  6.61191791e-02, -1.05247796e-01,  7.63273463e-02,\n        1.59123521e-02,  2.17616577e-02,  8.24168418e-03,  1.62561461e-02,\n        7.54784942e-02, -1.68153048e-02, -8.64544287e-02,  4.23686672e-03,\n        3.82770300e-02,  7.49947876e-03, -2.78053824e-02,  1.74654163e-02,\n       -1.39904916e-02,  9.35532972e-02, -7.00943917e-02, -9.11278725e-02,\n       -1.36029810e-01, -1.06059283e-03,  2.46038772e-02,  8.55907798e-03,\n        1.16738919e-02,  4.17205952e-02, -4.04006392e-02,  8.00839514e-02,\n        8.12607780e-02, -2.37065703e-02,  2.42984407e-02, -1.87820643e-02,\n        5.57658682e-03, -2.79807393e-02,  5.28476536e-02, -3.94585499e-33,\n       -3.04554459e-02,  5.89340739e-03, -7.17174187e-02,  1.00886479e-01,\n        1.83999557e-02,  1.82716008e-02, -2.37342715e-02,  1.98721737e-02,\n       -5.33776730e-02, -5.80095612e-02, -1.94861740e-02, -1.27441937e-03,\n        4.37282547e-02,  3.58496346e-02, -4.34466312e-03,  5.91771677e-02,\n        5.43891601e-02, -3.02244201e-02, -3.25342380e-02, -3.23375803e-03,\n       -4.89868075e-02,  1.13868592e-02,  3.98165360e-02, -2.11478658e-02,\n       -3.79335433e-02,  4.94276546e-02, -1.72988828e-02, -5.61733656e-02,\n       -3.78032140e-02, -2.04891451e-02, -5.51906675e-02,  5.35917357e-02,\n        4.84313397e-03,  5.14104590e-02,  4.25128713e-02,  3.08950059e-02,\n        5.12565002e-02, -6.72303140e-02, -4.53007370e-02,  1.23613656e-01,\n        4.13516238e-02,  1.78804845e-02,  1.21006854e-01, -3.88584711e-04,\n        4.07253914e-02, -2.83207907e-03, -9.01347697e-02, -4.90993820e-02,\n       -2.59401575e-02, -2.95592844e-02,  8.41128603e-02,  7.09064454e-02,\n       -2.02284590e-03, -5.65600693e-02,  4.60151257e-03,  2.55642515e-02,\n        4.77660075e-03, -1.41580766e-02, -3.87006961e-02,  2.20300071e-02,\n        1.29491901e-02,  8.81825611e-02,  2.15904061e-02,  1.73341259e-02,\n        4.61759530e-02, -1.68991592e-02, -7.55551606e-02,  5.33244852e-03,\n        8.27585086e-02, -4.37890068e-02,  8.22682306e-02, -1.85952242e-02,\n        2.35242043e-02, -9.84358974e-03, -1.07502401e-01, -1.44100245e-02,\n        2.35644765e-02, -4.29471284e-02, -5.47030987e-03,  7.17982501e-02,\n       -1.88406885e-01,  1.20784948e-02, -1.82572738e-04, -2.50233319e-02,\n       -9.54219420e-03, -6.09017350e-02, -8.74610990e-02, -1.19233511e-01,\n        9.84412804e-03,  8.65848549e-03,  2.10554171e-02, -2.15266086e-02,\n        6.41944213e-03, -3.24889570e-02,  3.12490091e-02, -2.80768688e-08,\n        5.79047576e-02, -6.02087118e-02, -3.31818573e-02,  6.08723275e-02,\n        9.49332565e-02, -9.86907557e-02, -8.84439945e-02, -1.73210874e-02,\n       -1.32242357e-02,  1.04568563e-01,  4.17743102e-02,  5.71891293e-02,\n       -1.06556676e-02,  3.08186375e-03, -6.89918222e-03,  1.41573669e-02,\n        3.64562720e-02,  4.18349504e-02, -3.27289850e-02, -1.77371241e-02,\n       -2.26026513e-02,  1.34775866e-04, -1.03648484e-01, -3.92168276e-02,\n        2.33920719e-02, -1.91910751e-02, -1.18469782e-02, -7.07365200e-02,\n       -1.80784967e-02, -2.69319266e-02,  1.23750055e-02,  9.29086730e-02,\n       -2.94811316e-02, -4.42885384e-02, -2.85701118e-02, -2.31111608e-02,\n        8.67537223e-03, -1.78207038e-03, -3.07511892e-02, -5.38811795e-02,\n        8.15680772e-02,  1.37401953e-01,  2.19658129e-02, -2.26259902e-02,\n        3.38022448e-02, -7.37039447e-02,  1.01881828e-02, -3.50451842e-02,\n        1.03989318e-01,  7.62895942e-02, -5.47086336e-02,  2.82042660e-02,\n        7.34892935e-02,  3.51952501e-02,  1.91022456e-02, -1.91932991e-02,\n        3.10733058e-02, -3.63898985e-02, -5.92436194e-02, -3.21865678e-02,\n       -2.34406762e-04,  7.82383680e-02,  2.77346224e-02, -1.53026460e-02],\n      dtype=float32)]] in query.",
     "output_type": "error",
     "traceback": [
      "\u001b[31m---------------------------------------------------------------------------\u001b[39m",
      "\u001b[31mValueError\u001b[39m                                Traceback (most recent call last)",
      "\u001b[36mCell\u001b[39m\u001b[36m \u001b[39m\u001b[32mIn[45]\u001b[39m\u001b[32m, line 164\u001b[39m\n\u001b[32m    161\u001b[39m \u001b[38;5;66;03m# -------------------------------\u001b[39;00m\n\u001b[32m    162\u001b[39m \u001b[38;5;66;03m# 9️⃣ Test rapide\u001b[39;00m\n\u001b[32m    163\u001b[39m user_query = \u001b[33m\"\u001b[39m\u001b[33mLe président a annoncé une nouvelle mesure économique visant à réduire le chômage.\u001b[39m\u001b[33m\"\u001b[39m\n\u001b[32m--> \u001b[39m\u001b[32m164\u001b[39m \u001b[43mrag_verdict\u001b[49m\u001b[43m(\u001b[49m\u001b[43muser_query\u001b[49m\u001b[43m,\u001b[49m\u001b[43m \u001b[49m\u001b[43mk\u001b[49m\u001b[43m=\u001b[49m\u001b[32;43m5\u001b[39;49m\u001b[43m)\u001b[49m\n",
      "\u001b[36mCell\u001b[39m\u001b[36m \u001b[39m\u001b[32mIn[45]\u001b[39m\u001b[32m, line 127\u001b[39m, in \u001b[36mrag_verdict\u001b[39m\u001b[34m(user_text, k, max_context_tokens)\u001b[39m\n\u001b[32m    124\u001b[39m query_emb = [user_emb.tolist()] \u001b[38;5;28;01mif\u001b[39;00m \u001b[38;5;28misinstance\u001b[39m(user_emb, np.ndarray) \u001b[38;5;28;01melse\u001b[39;00m [user_emb]\n\u001b[32m    126\u001b[39m \u001b[38;5;66;03m# Recherche des chunks similaires\u001b[39;00m\n\u001b[32m--> \u001b[39m\u001b[32m127\u001b[39m results = \u001b[43mcollection\u001b[49m\u001b[43m.\u001b[49m\u001b[43mquery\u001b[49m\u001b[43m(\u001b[49m\u001b[43mquery_embeddings\u001b[49m\u001b[43m=\u001b[49m\u001b[43mquery_emb\u001b[49m\u001b[43m,\u001b[49m\u001b[43m \u001b[49m\u001b[43mn_results\u001b[49m\u001b[43m=\u001b[49m\u001b[43mk\u001b[49m\u001b[43m)\u001b[49m\n\u001b[32m    129\u001b[39m docs = results.get(\u001b[33m\"\u001b[39m\u001b[33mdocuments\u001b[39m\u001b[33m\"\u001b[39m, [[]])[\u001b[32m0\u001b[39m]\n\u001b[32m    130\u001b[39m metas = results.get(\u001b[33m\"\u001b[39m\u001b[33mmetadatas\u001b[39m\u001b[33m\"\u001b[39m, [[]])[\u001b[32m0\u001b[39m]\n",
      "\u001b[36mFile \u001b[39m\u001b[32m~/Fake-News-Detect/.venv/lib/python3.12/site-packages/chromadb/api/models/Collection.py:213\u001b[39m, in \u001b[36mCollection.query\u001b[39m\u001b[34m(self, query_embeddings, query_texts, query_images, query_uris, ids, n_results, where, where_document, include)\u001b[39m\n\u001b[32m    168\u001b[39m \u001b[38;5;28;01mdef\u001b[39;00m\u001b[38;5;250m \u001b[39m\u001b[34mquery\u001b[39m(\n\u001b[32m    169\u001b[39m     \u001b[38;5;28mself\u001b[39m,\n\u001b[32m    170\u001b[39m     query_embeddings: Optional[\n\u001b[32m   (...)\u001b[39m\u001b[32m    187\u001b[39m     ],\n\u001b[32m    188\u001b[39m ) -> QueryResult:\n\u001b[32m    189\u001b[39m \u001b[38;5;250m    \u001b[39m\u001b[33;03m\"\"\"Get the n_results nearest neighbor embeddings for provided query_embeddings or query_texts.\u001b[39;00m\n\u001b[32m    190\u001b[39m \n\u001b[32m    191\u001b[39m \u001b[33;03m    Args:\u001b[39;00m\n\u001b[32m   (...)\u001b[39m\u001b[32m    210\u001b[39m \n\u001b[32m    211\u001b[39m \u001b[33;03m    \"\"\"\u001b[39;00m\n\u001b[32m--> \u001b[39m\u001b[32m213\u001b[39m     query_request = \u001b[38;5;28;43mself\u001b[39;49m\u001b[43m.\u001b[49m\u001b[43m_validate_and_prepare_query_request\u001b[49m\u001b[43m(\u001b[49m\n\u001b[32m    214\u001b[39m \u001b[43m        \u001b[49m\u001b[43mquery_embeddings\u001b[49m\u001b[43m=\u001b[49m\u001b[43mquery_embeddings\u001b[49m\u001b[43m,\u001b[49m\n\u001b[32m    215\u001b[39m \u001b[43m        \u001b[49m\u001b[43mquery_texts\u001b[49m\u001b[43m=\u001b[49m\u001b[43mquery_texts\u001b[49m\u001b[43m,\u001b[49m\n\u001b[32m    216\u001b[39m \u001b[43m        \u001b[49m\u001b[43mquery_images\u001b[49m\u001b[43m=\u001b[49m\u001b[43mquery_images\u001b[49m\u001b[43m,\u001b[49m\n\u001b[32m    217\u001b[39m \u001b[43m        \u001b[49m\u001b[43mquery_uris\u001b[49m\u001b[43m=\u001b[49m\u001b[43mquery_uris\u001b[49m\u001b[43m,\u001b[49m\n\u001b[32m    218\u001b[39m \u001b[43m        \u001b[49m\u001b[43mids\u001b[49m\u001b[43m=\u001b[49m\u001b[43mids\u001b[49m\u001b[43m,\u001b[49m\n\u001b[32m    219\u001b[39m \u001b[43m        \u001b[49m\u001b[43mn_results\u001b[49m\u001b[43m=\u001b[49m\u001b[43mn_results\u001b[49m\u001b[43m,\u001b[49m\n\u001b[32m    220\u001b[39m \u001b[43m        \u001b[49m\u001b[43mwhere\u001b[49m\u001b[43m=\u001b[49m\u001b[43mwhere\u001b[49m\u001b[43m,\u001b[49m\n\u001b[32m    221\u001b[39m \u001b[43m        \u001b[49m\u001b[43mwhere_document\u001b[49m\u001b[43m=\u001b[49m\u001b[43mwhere_document\u001b[49m\u001b[43m,\u001b[49m\n\u001b[32m    222\u001b[39m \u001b[43m        \u001b[49m\u001b[43minclude\u001b[49m\u001b[43m=\u001b[49m\u001b[43minclude\u001b[49m\u001b[43m,\u001b[49m\n\u001b[32m    223\u001b[39m \u001b[43m    \u001b[49m\u001b[43m)\u001b[49m\n\u001b[32m    225\u001b[39m     query_results = \u001b[38;5;28mself\u001b[39m._client._query(\n\u001b[32m    226\u001b[39m         collection_id=\u001b[38;5;28mself\u001b[39m.id,\n\u001b[32m    227\u001b[39m         ids=query_request[\u001b[33m\"\u001b[39m\u001b[33mids\u001b[39m\u001b[33m\"\u001b[39m],\n\u001b[32m   (...)\u001b[39m\u001b[32m    234\u001b[39m         database=\u001b[38;5;28mself\u001b[39m.database,\n\u001b[32m    235\u001b[39m     )\n\u001b[32m    237\u001b[39m     \u001b[38;5;28;01mreturn\u001b[39;00m \u001b[38;5;28mself\u001b[39m._transform_query_response(\n\u001b[32m    238\u001b[39m         response=query_results, include=query_request[\u001b[33m\"\u001b[39m\u001b[33minclude\u001b[39m\u001b[33m\"\u001b[39m]\n\u001b[32m    239\u001b[39m     )\n",
      "\u001b[36mFile \u001b[39m\u001b[32m~/Fake-News-Detect/.venv/lib/python3.12/site-packages/chromadb/api/models/CollectionCommon.py:103\u001b[39m, in \u001b[36mvalidation_context.<locals>.decorator.<locals>.wrapper\u001b[39m\u001b[34m(self, *args, **kwargs)\u001b[39m\n\u001b[32m    100\u001b[39m \u001b[38;5;129m@functools\u001b[39m.wraps(func)\n\u001b[32m    101\u001b[39m \u001b[38;5;28;01mdef\u001b[39;00m\u001b[38;5;250m \u001b[39m\u001b[34mwrapper\u001b[39m(\u001b[38;5;28mself\u001b[39m: Any, *args: Any, **kwargs: Any) -> T:\n\u001b[32m    102\u001b[39m     \u001b[38;5;28;01mtry\u001b[39;00m:\n\u001b[32m--> \u001b[39m\u001b[32m103\u001b[39m         \u001b[38;5;28;01mreturn\u001b[39;00m \u001b[43mfunc\u001b[49m\u001b[43m(\u001b[49m\u001b[38;5;28;43mself\u001b[39;49m\u001b[43m,\u001b[49m\u001b[43m \u001b[49m\u001b[43m*\u001b[49m\u001b[43margs\u001b[49m\u001b[43m,\u001b[49m\u001b[43m \u001b[49m\u001b[43m*\u001b[49m\u001b[43m*\u001b[49m\u001b[43mkwargs\u001b[49m\u001b[43m)\u001b[49m\n\u001b[32m    104\u001b[39m     \u001b[38;5;28;01mexcept\u001b[39;00m \u001b[38;5;167;01mException\u001b[39;00m \u001b[38;5;28;01mas\u001b[39;00m e:\n\u001b[32m    105\u001b[39m         msg = \u001b[33mf\u001b[39m\u001b[33m\"\u001b[39m\u001b[38;5;132;01m{\u001b[39;00m\u001b[38;5;28mstr\u001b[39m(e)\u001b[38;5;132;01m}\u001b[39;00m\u001b[33m in \u001b[39m\u001b[38;5;132;01m{\u001b[39;00mname\u001b[38;5;132;01m}\u001b[39;00m\u001b[33m.\u001b[39m\u001b[33m\"\u001b[39m\n",
      "\u001b[36mFile \u001b[39m\u001b[32m~/Fake-News-Detect/.venv/lib/python3.12/site-packages/chromadb/api/models/CollectionCommon.py:313\u001b[39m, in \u001b[36mCollectionCommon._validate_and_prepare_query_request\u001b[39m\u001b[34m(self, query_embeddings, query_texts, query_images, query_uris, ids, n_results, where, where_document, include)\u001b[39m\n\u001b[32m    294\u001b[39m \u001b[38;5;129m@validation_context\u001b[39m(\u001b[33m\"\u001b[39m\u001b[33mquery\u001b[39m\u001b[33m\"\u001b[39m)\n\u001b[32m    295\u001b[39m \u001b[38;5;28;01mdef\u001b[39;00m\u001b[38;5;250m \u001b[39m\u001b[34m_validate_and_prepare_query_request\u001b[39m(\n\u001b[32m    296\u001b[39m     \u001b[38;5;28mself\u001b[39m,\n\u001b[32m   (...)\u001b[39m\u001b[32m    311\u001b[39m ) -> QueryRequest:\n\u001b[32m    312\u001b[39m     \u001b[38;5;66;03m# Unpack\u001b[39;00m\n\u001b[32m--> \u001b[39m\u001b[32m313\u001b[39m     query_records = \u001b[43mnormalize_base_record_set\u001b[49m\u001b[43m(\u001b[49m\n\u001b[32m    314\u001b[39m \u001b[43m        \u001b[49m\u001b[43membeddings\u001b[49m\u001b[43m=\u001b[49m\u001b[43mquery_embeddings\u001b[49m\u001b[43m,\u001b[49m\n\u001b[32m    315\u001b[39m \u001b[43m        \u001b[49m\u001b[43mdocuments\u001b[49m\u001b[43m=\u001b[49m\u001b[43mquery_texts\u001b[49m\u001b[43m,\u001b[49m\n\u001b[32m    316\u001b[39m \u001b[43m        \u001b[49m\u001b[43mimages\u001b[49m\u001b[43m=\u001b[49m\u001b[43mquery_images\u001b[49m\u001b[43m,\u001b[49m\n\u001b[32m    317\u001b[39m \u001b[43m        \u001b[49m\u001b[43muris\u001b[49m\u001b[43m=\u001b[49m\u001b[43mquery_uris\u001b[49m\u001b[43m,\u001b[49m\n\u001b[32m    318\u001b[39m \u001b[43m    \u001b[49m\u001b[43m)\u001b[49m\n\u001b[32m    320\u001b[39m     filter_ids = maybe_cast_one_to_many(ids)\n\u001b[32m    322\u001b[39m     filters = FilterSet(\n\u001b[32m    323\u001b[39m         where=where,\n\u001b[32m    324\u001b[39m         where_document=where_document,\n\u001b[32m    325\u001b[39m     )\n",
      "\u001b[36mFile \u001b[39m\u001b[32m~/Fake-News-Detect/.venv/lib/python3.12/site-packages/chromadb/api/types.py:368\u001b[39m, in \u001b[36mnormalize_base_record_set\u001b[39m\u001b[34m(embeddings, documents, images, uris)\u001b[39m\n\u001b[32m    357\u001b[39m \u001b[38;5;28;01mdef\u001b[39;00m\u001b[38;5;250m \u001b[39m\u001b[34mnormalize_base_record_set\u001b[39m(\n\u001b[32m    358\u001b[39m     embeddings: Optional[Union[OneOrMany[Embedding], OneOrMany[PyEmbedding]]] = \u001b[38;5;28;01mNone\u001b[39;00m,\n\u001b[32m    359\u001b[39m     documents: Optional[OneOrMany[Document]] = \u001b[38;5;28;01mNone\u001b[39;00m,\n\u001b[32m    360\u001b[39m     images: Optional[OneOrMany[Image]] = \u001b[38;5;28;01mNone\u001b[39;00m,\n\u001b[32m    361\u001b[39m     uris: Optional[OneOrMany[URI]] = \u001b[38;5;28;01mNone\u001b[39;00m,\n\u001b[32m    362\u001b[39m ) -> BaseRecordSet:\n\u001b[32m    363\u001b[39m \u001b[38;5;250m    \u001b[39m\u001b[33;03m\"\"\"\u001b[39;00m\n\u001b[32m    364\u001b[39m \u001b[33;03m    Unpacks and normalizes the fields of a BaseRecordSet.\u001b[39;00m\n\u001b[32m    365\u001b[39m \u001b[33;03m    \"\"\"\u001b[39;00m\n\u001b[32m    367\u001b[39m     \u001b[38;5;28;01mreturn\u001b[39;00m BaseRecordSet(\n\u001b[32m--> \u001b[39m\u001b[32m368\u001b[39m         embeddings=\u001b[43mnormalize_embeddings\u001b[49m\u001b[43m(\u001b[49m\u001b[43membeddings\u001b[49m\u001b[43m)\u001b[49m,\n\u001b[32m    369\u001b[39m         documents=maybe_cast_one_to_many(documents),\n\u001b[32m    370\u001b[39m         images=maybe_cast_one_to_many(images),\n\u001b[32m    371\u001b[39m         uris=maybe_cast_one_to_many(uris),\n\u001b[32m    372\u001b[39m     )\n",
      "\u001b[36mFile \u001b[39m\u001b[32m~/Fake-News-Detect/.venv/lib/python3.12/site-packages/chromadb/api/types.py:243\u001b[39m, in \u001b[36mnormalize_embeddings\u001b[39m\u001b[34m(target)\u001b[39m\n\u001b[32m    238\u001b[39m         \u001b[38;5;28;01mif\u001b[39;00m \u001b[38;5;28misinstance\u001b[39m(target[\u001b[32m0\u001b[39m][\u001b[32m0\u001b[39m], (\u001b[38;5;28mint\u001b[39m, \u001b[38;5;28mfloat\u001b[39m)) \u001b[38;5;129;01mand\u001b[39;00m \u001b[38;5;129;01mnot\u001b[39;00m \u001b[38;5;28misinstance\u001b[39m(\n\u001b[32m    239\u001b[39m             target[\u001b[32m0\u001b[39m][\u001b[32m0\u001b[39m], \u001b[38;5;28mbool\u001b[39m\n\u001b[32m    240\u001b[39m         ):\n\u001b[32m    241\u001b[39m             \u001b[38;5;28;01mreturn\u001b[39;00m [np.array(row, dtype=np.float32) \u001b[38;5;28;01mfor\u001b[39;00m row \u001b[38;5;129;01min\u001b[39;00m target]\n\u001b[32m--> \u001b[39m\u001b[32m243\u001b[39m \u001b[38;5;28;01mraise\u001b[39;00m \u001b[38;5;167;01mValueError\u001b[39;00m(\n\u001b[32m    244\u001b[39m     \u001b[33mf\u001b[39m\u001b[33m\"\u001b[39m\u001b[33mExpected embeddings to be a list of floats or ints, a list of lists, a numpy array, or a list of numpy arrays, got \u001b[39m\u001b[38;5;132;01m{\u001b[39;00mtarget\u001b[38;5;132;01m}\u001b[39;00m\u001b[33m\"\u001b[39m\n\u001b[32m    245\u001b[39m )\n",
      "\u001b[31mValueError\u001b[39m: Expected embeddings to be a list of floats or ints, a list of lists, a numpy array, or a list of numpy arrays, got [[array([-1.81416776e-02, -1.66259743e-02,  2.08692756e-02, -1.75619125e-02,\n        1.80299189e-02,  2.60097906e-02,  5.11432113e-03,  1.14210762e-01,\n       -2.04584561e-02,  5.41193597e-02, -2.44015623e-02, -1.26532063e-01,\n        7.31085055e-03, -1.38087375e-02, -8.85488391e-02, -5.60243055e-02,\n       -4.70394045e-02,  1.15937643e-01, -1.96584035e-02,  2.52075624e-02,\n        1.93452239e-02, -5.84553555e-02, -2.57454417e-03, -1.32696088e-02,\n       -3.99976000e-02, -1.97132248e-02, -7.61035038e-03, -3.05432659e-02,\n        1.28386142e-02, -3.06564849e-02,  9.19936523e-02,  2.72286125e-02,\n        9.28371400e-02, -2.16248930e-02,  4.68153805e-02, -1.35617855e-03,\n        3.60254794e-02, -4.95285392e-02,  1.55769046e-02,  5.89962769e-03,\n       -7.28993416e-02, -2.07973160e-02, -7.61383250e-02, -5.29609285e-02,\n        2.79479902e-02,  2.00565234e-02,  4.91947271e-02,  4.37306762e-02,\n       -7.02829510e-02,  1.23015242e-02, -1.89531855e-02,  2.11297404e-02,\n        3.14982273e-02, -2.05652136e-03, -9.60241072e-03,  1.37864072e-02,\n        2.37291958e-02, -8.78743976e-02,  4.92315702e-02, -2.19135825e-03,\n        4.39996235e-02, -2.95393355e-02, -2.91786175e-02, -9.43556428e-03,\n       -2.87558287e-02, -4.87520248e-02, -5.78259164e-03, -2.60894578e-02,\n       -5.39330989e-02, -4.52844352e-02,  7.68463612e-02, -7.29381442e-02,\n        1.05015468e-03, -9.09902826e-02, -7.49805244e-03, -4.59635332e-02,\n       -1.40542549e-03,  8.46854597e-02,  1.61583759e-02, -1.25481978e-01,\n        5.51161580e-02,  5.71524084e-04, -2.43967008e-02, -1.33256204e-02,\n        9.74393561e-02, -6.52966497e-04, -4.29940633e-02, -8.24591964e-02,\n        3.44937816e-02,  2.87129432e-02, -6.32645339e-02, -2.91882716e-02,\n       -7.88721889e-02, -6.53800694e-03,  4.30724397e-03, -1.40770227e-02,\n       -1.88309420e-02, -5.12991063e-02,  6.45918325e-02,  7.57026821e-02,\n        4.38501732e-03, -2.74874866e-02, -4.59654396e-03,  2.96238288e-02,\n       -4.31326255e-02, -5.24360202e-02, -3.25406790e-02, -6.86536776e-03,\n        4.29855473e-02,  3.07425065e-03,  6.54570106e-03, -8.69413689e-02,\n        1.56564470e-02, -3.66489552e-02, -1.30760726e-02,  5.17454557e-03,\n       -2.03638175e-03, -1.04338109e-01, -4.22384925e-02,  1.79715548e-02,\n        5.87458946e-02, -2.14619376e-02, -5.22247069e-02, -1.03523836e-01,\n        3.81596424e-02, -4.12811413e-02,  6.05484545e-02,  1.10655556e-33,\n       -6.66319206e-02,  2.76356842e-02, -3.35655781e-03, -2.55682431e-02,\n        9.92549397e-03,  7.36811608e-02, -7.02281967e-02,  7.64670363e-03,\n        9.10629109e-02, -7.95632899e-02,  2.32465938e-02,  1.04957908e-01,\n       -7.29348361e-02,  5.38891517e-02, -3.53792198e-02, -3.37260403e-02,\n       -8.40844866e-03, -3.00222076e-02,  4.89534996e-02, -1.26366261e-02,\n       -8.99075344e-02, -1.10813035e-02,  4.00574207e-02,  8.01657736e-02,\n        1.22173227e-01, -6.47783875e-02, -4.38011140e-02, -4.41191047e-02,\n       -2.73925327e-02,  6.71576113e-02,  7.92337358e-02,  6.54464075e-03,\n       -1.00661274e-02,  3.67499702e-02, -2.23749839e-02, -8.12403262e-02,\n       -3.92097346e-02,  6.38847128e-02,  1.28336670e-02,  1.82139855e-02,\n        2.87800301e-02,  7.41283363e-03,  4.55824696e-02,  4.23449837e-03,\n        3.49725522e-02,  3.59913260e-02,  8.02978501e-02,  5.02240062e-02,\n        8.64610001e-02,  4.07084338e-02, -7.96093512e-03,  1.92554086e-03,\n       -4.63032089e-02, -8.00290331e-02, -4.77272086e-02, -2.86084972e-02,\n       -1.23735860e-01,  3.24559323e-02, -3.50524262e-02, -6.03862330e-02,\n        9.91642941e-04,  6.61191791e-02, -1.05247796e-01,  7.63273463e-02,\n        1.59123521e-02,  2.17616577e-02,  8.24168418e-03,  1.62561461e-02,\n        7.54784942e-02, -1.68153048e-02, -8.64544287e-02,  4.23686672e-03,\n        3.82770300e-02,  7.49947876e-03, -2.78053824e-02,  1.74654163e-02,\n       -1.39904916e-02,  9.35532972e-02, -7.00943917e-02, -9.11278725e-02,\n       -1.36029810e-01, -1.06059283e-03,  2.46038772e-02,  8.55907798e-03,\n        1.16738919e-02,  4.17205952e-02, -4.04006392e-02,  8.00839514e-02,\n        8.12607780e-02, -2.37065703e-02,  2.42984407e-02, -1.87820643e-02,\n        5.57658682e-03, -2.79807393e-02,  5.28476536e-02, -3.94585499e-33,\n       -3.04554459e-02,  5.89340739e-03, -7.17174187e-02,  1.00886479e-01,\n        1.83999557e-02,  1.82716008e-02, -2.37342715e-02,  1.98721737e-02,\n       -5.33776730e-02, -5.80095612e-02, -1.94861740e-02, -1.27441937e-03,\n        4.37282547e-02,  3.58496346e-02, -4.34466312e-03,  5.91771677e-02,\n        5.43891601e-02, -3.02244201e-02, -3.25342380e-02, -3.23375803e-03,\n       -4.89868075e-02,  1.13868592e-02,  3.98165360e-02, -2.11478658e-02,\n       -3.79335433e-02,  4.94276546e-02, -1.72988828e-02, -5.61733656e-02,\n       -3.78032140e-02, -2.04891451e-02, -5.51906675e-02,  5.35917357e-02,\n        4.84313397e-03,  5.14104590e-02,  4.25128713e-02,  3.08950059e-02,\n        5.12565002e-02, -6.72303140e-02, -4.53007370e-02,  1.23613656e-01,\n        4.13516238e-02,  1.78804845e-02,  1.21006854e-01, -3.88584711e-04,\n        4.07253914e-02, -2.83207907e-03, -9.01347697e-02, -4.90993820e-02,\n       -2.59401575e-02, -2.95592844e-02,  8.41128603e-02,  7.09064454e-02,\n       -2.02284590e-03, -5.65600693e-02,  4.60151257e-03,  2.55642515e-02,\n        4.77660075e-03, -1.41580766e-02, -3.87006961e-02,  2.20300071e-02,\n        1.29491901e-02,  8.81825611e-02,  2.15904061e-02,  1.73341259e-02,\n        4.61759530e-02, -1.68991592e-02, -7.55551606e-02,  5.33244852e-03,\n        8.27585086e-02, -4.37890068e-02,  8.22682306e-02, -1.85952242e-02,\n        2.35242043e-02, -9.84358974e-03, -1.07502401e-01, -1.44100245e-02,\n        2.35644765e-02, -4.29471284e-02, -5.47030987e-03,  7.17982501e-02,\n       -1.88406885e-01,  1.20784948e-02, -1.82572738e-04, -2.50233319e-02,\n       -9.54219420e-03, -6.09017350e-02, -8.74610990e-02, -1.19233511e-01,\n        9.84412804e-03,  8.65848549e-03,  2.10554171e-02, -2.15266086e-02,\n        6.41944213e-03, -3.24889570e-02,  3.12490091e-02, -2.80768688e-08,\n        5.79047576e-02, -6.02087118e-02, -3.31818573e-02,  6.08723275e-02,\n        9.49332565e-02, -9.86907557e-02, -8.84439945e-02, -1.73210874e-02,\n       -1.32242357e-02,  1.04568563e-01,  4.17743102e-02,  5.71891293e-02,\n       -1.06556676e-02,  3.08186375e-03, -6.89918222e-03,  1.41573669e-02,\n        3.64562720e-02,  4.18349504e-02, -3.27289850e-02, -1.77371241e-02,\n       -2.26026513e-02,  1.34775866e-04, -1.03648484e-01, -3.92168276e-02,\n        2.33920719e-02, -1.91910751e-02, -1.18469782e-02, -7.07365200e-02,\n       -1.80784967e-02, -2.69319266e-02,  1.23750055e-02,  9.29086730e-02,\n       -2.94811316e-02, -4.42885384e-02, -2.85701118e-02, -2.31111608e-02,\n        8.67537223e-03, -1.78207038e-03, -3.07511892e-02, -5.38811795e-02,\n        8.15680772e-02,  1.37401953e-01,  2.19658129e-02, -2.26259902e-02,\n        3.38022448e-02, -7.37039447e-02,  1.01881828e-02, -3.50451842e-02,\n        1.03989318e-01,  7.62895942e-02, -5.47086336e-02,  2.82042660e-02,\n        7.34892935e-02,  3.51952501e-02,  1.91022456e-02, -1.91932991e-02,\n        3.10733058e-02, -3.63898985e-02, -5.92436194e-02, -3.21865678e-02,\n       -2.34406762e-04,  7.82383680e-02,  2.77346224e-02, -1.53026460e-02],\n      dtype=float32)]] in query."
     ]
    }
   ],
   "source": [
    "# ===============================\n",
    "# Pipeline RAG optimisé ChromaDB + Ollama\n",
    "# ===============================\n",
    "\n",
    "# 1️⃣ Importations\n",
    "import os\n",
    "import pandas as pd\n",
    "import numpy as np\n",
    "from tqdm import tqdm\n",
    "from chromadb import Client\n",
    "from chromadb.config import Settings\n",
    "from chromadb.utils import embedding_functions\n",
    "\n",
    "# -------------------------------\n",
    "# 2️⃣ Créer ou réutiliser le client ChromaDB\n",
    "CHROMA_DB_PATH = \"./chroma_db\"\n",
    "\n",
    "try:\n",
    "    client  # réutiliser si existe déjà\n",
    "except NameError:\n",
    "    settings = Settings(\n",
    "        chroma_db_impl=\"duckdb+parquet\",\n",
    "        persist_directory=CHROMA_DB_PATH\n",
    "    )\n",
    "    client = Client(settings=settings)\n",
    "\n",
    "# -------------------------------\n",
    "# 3️⃣ Définir la fonction d'embedding Ollama\n",
    "embedding_fn = embedding_functions.OllamaEmbeddingFunction(model_name=\"all-minilm\")\n",
    "\n",
    "# -------------------------------\n",
    "# 4️⃣ Créer ou récupérer la collection\n",
    "collection_name = \"fake_news_chunks\"\n",
    "if collection_name in [c.name for c in client.list_collections()]:\n",
    "    collection = client.get_collection(name=collection_name)\n",
    "    print(f\"Collection '{collection_name}' récupérée.\")\n",
    "else:\n",
    "    collection = client.create_collection(\n",
    "        name=collection_name,\n",
    "        embedding_function=embedding_fn\n",
    "    )\n",
    "    print(f\"Collection '{collection_name}' créée.\")\n",
    "\n",
    "# -------------------------------\n",
    "# 5️⃣ Charger les chunks nettoyés\n",
    "CHUNKS_PATH = \"data/processed/articles_chunks.csv\"\n",
    "df_chunks = pd.read_csv(CHUNKS_PATH)\n",
    "print(f\"{df_chunks.shape[0]} chunks chargés depuis {CHUNKS_PATH}\")\n",
    "\n",
    "# -------------------------------\n",
    "# # -------------------------------\n",
    "# 6️⃣ Ajouter les chunks dans la collection (batch sécurisé)\n",
    "existing_ids = set()\n",
    "all_meta = collection.get(include=[\"metadatas\"])[\"metadatas\"]\n",
    "for m in all_meta:\n",
    "    if isinstance(m, list):\n",
    "        for item in m:\n",
    "            if isinstance(item, dict) and \"id\" in item:\n",
    "                existing_ids.add(item[\"id\"])\n",
    "\n",
    "print(f\"{len(existing_ids)} chunks déjà présents dans la collection.\")\n",
    "\n",
    "batch_size = 50  # batch plus petit pour éviter dépassement\n",
    "max_chunk_length = 512  # tronquer chaque chunk à 512 caractères\n",
    "\n",
    "for start in tqdm(range(0, len(df_chunks), batch_size), desc=\"Ajout chunks\"):\n",
    "    batch = df_chunks.iloc[start:start+batch_size]\n",
    "\n",
    "    # Générer les ids\n",
    "    ids = [f\"{row['article_id']}_{row['chunk_id']}\" for _, row in batch.iterrows()]\n",
    "    # Filtrer les chunks déjà existants\n",
    "    new_idx = [i for i, cid in enumerate(ids) if cid not in existing_ids]\n",
    "    if not new_idx:\n",
    "        continue\n",
    "\n",
    "    batch = batch.iloc[new_idx]\n",
    "    ids = [f\"{row['article_id']}_{row['chunk_id']}\" for _, row in batch.iterrows()]\n",
    "\n",
    "    # Préparer metadatas\n",
    "    metadatas = [\n",
    "        {\n",
    "            \"title\": row.get(\"title\", \"\"),\n",
    "            \"label\": row[\"label\"],\n",
    "            \"article_id\": int(row[\"article_id\"]),\n",
    "            \"id\": ids[i]\n",
    "        }\n",
    "        for i, (_, row) in enumerate(batch.iterrows())\n",
    "    ]\n",
    "\n",
    "    # Tronquer les chunks trop longs\n",
    "    texts = [text[:max_chunk_length] for text in batch[\"chunk_text\"].tolist()]\n",
    "\n",
    "    # Calcul des embeddings avec gestion d’erreur\n",
    "    try:\n",
    "        embeddings = embedding_fn(texts)\n",
    "    except Exception as e:\n",
    "        print(f\"⚠️ Erreur embedding pour ce batch ({start}-{start+batch_size}): {e}\")\n",
    "        continue\n",
    "\n",
    "    # Ajout dans la collection\n",
    "    collection.add(\n",
    "        ids=ids,\n",
    "        documents=texts,\n",
    "        metadatas=metadatas,\n",
    "        embeddings=embeddings\n",
    "    )\n",
    "\n",
    "print(\"✅ Tous les chunks ajoutés (ou ignorés si déjà présents).\")\n"
   ]
  },
  {
   "cell_type": "code",
   "execution_count": null,
   "id": "c73fadb6",
   "metadata": {},
   "outputs": [],
   "source": [
    "# 7 # Fonction RAG pour verdict True/Fake avec Ollama\n",
    "def rag_verdict_batch(user_queries):\n",
    "    import ollama\n",
    "    \"\"\"\n",
    "    Fonction qui prend une ou plusieurs déclarations (user_queries)\n",
    "    et retourne un verdict True/False généré par le modèle Ollama.\n",
    "\n",
    "    Étapes :\n",
    "    1. Convertir la requête en liste si besoin.\n",
    "    2. Initialiser une liste pour stocker les verdicts.\n",
    "    3. Pour chaque déclaration :\n",
    "    a) Créer un prompt pour le modèle.\n",
    "    b) Générer la réponse via Ollama.\n",
    "    c) Extraire uniquement le texte de la réponse, selon la structure.\n",
    "    d) Nettoyer le texte pour ne récupérer que True/False.\n",
    "    e) Gérer les exceptions et erreurs.\n",
    "    \"\"\"\n",
    "# a/ S'assurer que l'entrée est une liste\n",
    "    if isinstance(user_queries, str):\n",
    "        user_queries = [user_queries]\n",
    "# b/ Initialisation de la liste des verdicts\n",
    "    verdicts = []\n",
    "# c/  Boucle sur chaque déclaration utilisateur\n",
    "    for query in user_queries:\n",
    "        #) Création du prompt pour le modèle\n",
    "        prompt = f\"\"\"\n",
    "        You are a fact-checker AI.\n",
    "        Check the following statement and answer only 'True' or 'False'.\n",
    "        Statement: {query}\n",
    "        \"\"\"\n",
    "\n",
    "        try:\n",
    "            # Appel à l'API Ollama pour générer le verdict\n",
    "            response = ollama.generate(model=\"phi3\", prompt=prompt)\n",
    "            \n",
    "            # Extraire uniquement le texte de la réponse\n",
    "            text = \"\"\n",
    "            if hasattr(response, \"response\"):\n",
    "                text = response.response.strip()\n",
    "            elif hasattr(response, \"message\") and hasattr(response.message, \"content\"):\n",
    "                text = response.message.content.strip()\n",
    "            elif hasattr(response, \"outputText\"):\n",
    "                text = response.outputText.strip()\n",
    "            else:\n",
    "                text = str(response).strip()\n",
    "\n",
    "            # Nettoyer le texte pour récupérer seulement True/False\n",
    "            if text.lower().startswith(\"true\"):\n",
    "                verdicts.append(\"True\")\n",
    "            elif text.lower().startswith(\"false\"):\n",
    "                verdicts.append(\"False\")\n",
    "            else:\n",
    "                verdicts.append(text)  # Si réponse ambiguë, on garde le texte complet\n",
    "\n",
    "        except Exception as e:\n",
    "            #Gestion d'erreur : on ajoute \"Erreur\" au verdicts\n",
    "            print(f\"Erreur lors de la génération de la réponse : {e}\")\n",
    "            verdicts.append(\"Erreur\")\n",
    "    # Retourne la liste des verdicts pour toutes les déclarations\n",
    "    return verdicts\n"
   ]
  },
  {
   "cell_type": "code",
   "execution_count": null,
   "id": "8e7af1c0",
   "metadata": {},
   "outputs": [
    {
     "name": "stdout",
     "output_type": "stream",
     "text": [
      "Verdict (English): False\n"
     ]
    }
   ],
   "source": [
    "# Test rapide de la fonction\n",
    "user_query_en = \"The government announced a new economic measure to reduce unemployment.\"\n",
    "verdict_en = rag_verdict_batch(user_query_en)\n",
    "print(\"Verdict (English):\", verdict_en[0])\n"
   ]
  },
  {
   "cell_type": "markdown",
   "id": "42f0ea5e",
   "metadata": {},
   "source": [
    "# Projet : Détection de Fake News via Pipeline RAG\n",
    "#### Étape 1 — Prétraitement des articles\n",
    "##### Objectif de ce notebook :\n",
    "##### Nettoyer et préparer les articles pour la recherche et la génération.\n",
    "##### On effectue ici les traitements de texte nécessaires avant la vectorisation\n",
    "##### et le stockage dans la base de données vectorielle (ChromaDB).\n"
   ]
  },
  {
   "cell_type": "code",
   "execution_count": null,
   "id": "25978068",
   "metadata": {},
   "outputs": [],
   "source": [
    "# 1. Importations et configuration initiale\n",
    "import os\n",
    "import pandas as pd\n",
    "import numpy as np\n",
    "import re\n",
    "from bs4 import BeautifulSoup, MarkupResemblesLocatorWarning\n",
    "import warnings\n",
    "import spacy\n",
    "from tqdm import tqdm\n",
    "\n",
    "# Ignorer certains warnings inutiles\n",
    "warnings.filterwarnings(\"ignore\", category=MarkupResemblesLocatorWarning)\n",
    "\n",
    "# Charger le modèle spaCy pour la lemmatisation\n",
    "try:\n",
    "    nlp = spacy.load(\"en_core_web_sm\")\n",
    "except OSError:\n",
    "    import subprocess, sys\n",
    "    subprocess.run([sys.executable, \"-m\", \"spacy\", \"download\", \"en_core_web_sm\"])\n",
    "    nlp = spacy.load(\"en_core_web_sm\")\n",
    "\n",
    "# Définir les chemins de données\n",
    "RAW_PATH = \"data/raw\"\n",
    "PROCESSED_PATH = \"data/processed\"\n",
    "os.makedirs(RAW_PATH, exist_ok=True)\n",
    "os.makedirs(PROCESSED_PATH, exist_ok=True)"
   ]
  },
  {
   "cell_type": "markdown",
   "id": "4015941a",
   "metadata": {},
   "source": [
    "#### 🎯 Objectif\n",
    "L’objectif de cette étape est de transformer les fichiers CSV d’articles (`True.csv`, `Fake.csv`)\n",
    "en un dataset nettoyé, structuré et prêt à être vectorisé.\n",
    "\n",
    "#### Étapes du pipeline :\n",
    "1. Chargement et fusion des jeux de données (Fake / True)\n",
    "2. Vérifications de base (valeurs manquantes, doublons)\n",
    "3. Nettoyage des textes :\n",
    "   - Suppression des balises HTML\n",
    "   - Suppression des URLs\n",
    "   - Suppression des caractères spéciaux\n",
    "   - Normalisation des espaces\n",
    "   - Mise en minuscules\n",
    "4. Suppression des stopwords et lemmatisation (avec spaCy)\n",
    "5. Découpage des articles en *chunks* (morceaux)\n",
    "6. Sauvegarde des données nettoyées\n"
   ]
  },
  {
   "cell_type": "code",
   "execution_count": null,
   "id": "f9ea8110",
   "metadata": {},
   "outputs": [
    {
     "name": "stdout",
     "output_type": "stream",
     "text": [
      "Fichiers trouvés : ['True.csv', 'Fake.csv']\n",
      "📊 Taille totale du dataset : (44898, 5)\n"
     ]
    },
    {
     "data": {
      "application/vnd.microsoft.datawrangler.viewer.v0+json": {
       "columns": [
        {
         "name": "index",
         "rawType": "int64",
         "type": "integer"
        },
        {
         "name": "title",
         "rawType": "object",
         "type": "string"
        },
        {
         "name": "text",
         "rawType": "object",
         "type": "string"
        },
        {
         "name": "subject",
         "rawType": "object",
         "type": "string"
        },
        {
         "name": "date",
         "rawType": "object",
         "type": "string"
        },
        {
         "name": "label",
         "rawType": "object",
         "type": "string"
        }
       ],
       "ref": "c66e3fea-e465-44b9-866f-b2283955a019",
       "rows": [
        [
         "0",
         "As U.S. budget fight looms, Republicans flip their fiscal script",
         "WASHINGTON (Reuters) - The head of a conservative Republican faction in the U.S. Congress, who voted this month for a huge expansion of the national debt to pay for tax cuts, called himself a “fiscal conservative” on Sunday and urged budget restraint in 2018. In keeping with a sharp pivot under way among Republicans, U.S. Representative Mark Meadows, speaking on CBS’ “Face the Nation,” drew a hard line on federal spending, which lawmakers are bracing to do battle over in January. When they return from the holidays on Wednesday, lawmakers will begin trying to pass a federal budget in a fight likely to be linked to other issues, such as immigration policy, even as the November congressional election campaigns approach in which Republicans will seek to keep control of Congress. President Donald Trump and his Republicans want a big budget increase in military spending, while Democrats also want proportional increases for non-defense “discretionary” spending on programs that support education, scientific research, infrastructure, public health and environmental protection. “The (Trump) administration has already been willing to say: ‘We’re going to increase non-defense discretionary spending ... by about 7 percent,’” Meadows, chairman of the small but influential House Freedom Caucus, said on the program. “Now, Democrats are saying that’s not enough, we need to give the government a pay raise of 10 to 11 percent. For a fiscal conservative, I don’t see where the rationale is. ... Eventually you run out of other people’s money,” he said. Meadows was among Republicans who voted in late December for their party’s debt-financed tax overhaul, which is expected to balloon the federal budget deficit and add about $1.5 trillion over 10 years to the $20 trillion national debt. “It’s interesting to hear Mark talk about fiscal responsibility,” Democratic U.S. Representative Joseph Crowley said on CBS. Crowley said the Republican tax bill would require the  United States to borrow $1.5 trillion, to be paid off by future generations, to finance tax cuts for corporations and the rich. “This is one of the least ... fiscally responsible bills we’ve ever seen passed in the history of the House of Representatives. I think we’re going to be paying for this for many, many years to come,” Crowley said. Republicans insist the tax package, the biggest U.S. tax overhaul in more than 30 years,  will boost the economy and job growth. House Speaker Paul Ryan, who also supported the tax bill, recently went further than Meadows, making clear in a radio interview that welfare or “entitlement reform,” as the party often calls it, would be a top Republican priority in 2018. In Republican parlance, “entitlement” programs mean food stamps, housing assistance, Medicare and Medicaid health insurance for the elderly, poor and disabled, as well as other programs created by Washington to assist the needy. Democrats seized on Ryan’s early December remarks, saying they showed Republicans would try to pay for their tax overhaul by seeking spending cuts for social programs. But the goals of House Republicans may have to take a back seat to the Senate, where the votes of some Democrats will be needed to approve a budget and prevent a government shutdown. Democrats will use their leverage in the Senate, which Republicans narrowly control, to defend both discretionary non-defense programs and social spending, while tackling the issue of the “Dreamers,” people brought illegally to the country as children. Trump in September put a March 2018 expiration date on the Deferred Action for Childhood Arrivals, or DACA, program, which protects the young immigrants from deportation and provides them with work permits. The president has said in recent Twitter messages he wants funding for his proposed Mexican border wall and other immigration law changes in exchange for agreeing to help the Dreamers. Representative Debbie Dingell told CBS she did not favor linking that issue to other policy objectives, such as wall funding. “We need to do DACA clean,” she said.  On Wednesday, Trump aides will meet with congressional leaders to discuss those issues. That will be followed by a weekend of strategy sessions for Trump and Republican leaders on Jan. 6 and 7, the White House said. Trump was also scheduled to meet on Sunday with Florida Republican Governor Rick Scott, who wants more emergency aid. The House has passed an $81 billion aid package after hurricanes in Florida, Texas and Puerto Rico, and wildfires in California. The package far exceeded the $44 billion requested by the Trump administration. The Senate has not yet voted on the aid. ",
         "politicsNews",
         "December 31, 2017 ",
         "True"
        ],
        [
         "1",
         "U.S. military to accept transgender recruits on Monday: Pentagon",
         "WASHINGTON (Reuters) - Transgender people will be allowed for the first time to enlist in the U.S. military starting on Monday as ordered by federal courts, the Pentagon said on Friday, after President Donald Trump’s administration decided not to appeal rulings that blocked his transgender ban. Two federal appeals courts, one in Washington and one in Virginia, last week rejected the administration’s request to put on hold orders by lower court judges requiring the military to begin accepting transgender recruits on Jan. 1. A Justice Department official said the administration will not challenge those rulings. “The Department of Defense has announced that it will be releasing an independent study of these issues in the coming weeks. So rather than litigate this interim appeal before that occurs, the administration has decided to wait for DOD’s study and will continue to defend the president’s lawful authority in District Court in the meantime,” the official said, speaking on condition of anonymity. In September, the Pentagon said it had created a panel of senior officials to study how to implement a directive by Trump to prohibit transgender individuals from serving. The Defense Department has until Feb. 21 to submit a plan to Trump. Lawyers representing currently-serving transgender service members and aspiring recruits said they had expected the administration to appeal the rulings to the conservative-majority Supreme Court, but were hoping that would not happen. Pentagon spokeswoman Heather Babb said in a statement: “As mandated by court order, the Department of Defense is prepared to begin accessing transgender applicants for military service Jan. 1. All applicants must meet all accession standards.” Jennifer Levi, a lawyer with gay, lesbian and transgender advocacy group GLAD, called the decision not to appeal “great news.” “I’m hoping it means the government has come to see that there is no way to justify a ban and that it’s not good for the military or our country,” Levi said. Both GLAD and the American Civil Liberties Union represent plaintiffs in the lawsuits filed against the administration. In a move that appealed to his hard-line conservative supporters, Trump announced in July that he would prohibit transgender people from serving in the military, reversing Democratic President Barack Obama’s policy of accepting them. Trump said on Twitter at the time that the military “cannot be burdened with the tremendous medical costs and disruption that transgender in the military would entail.” Four federal judges - in Baltimore, Washington, D.C., Seattle and Riverside, California - have issued rulings blocking Trump’s ban while legal challenges to the Republican president’s policy proceed. The judges said the ban would likely violate the right under the U.S. Constitution to equal protection under the law. The Pentagon on Dec. 8 issued guidelines to recruitment personnel in order to enlist transgender applicants by Jan. 1. The memo outlined medical requirements and specified how the applicants’ sex would be identified and even which undergarments they would wear. The Trump administration previously said in legal papers that the armed forces were not prepared to train thousands of personnel on the medical standards needed to process transgender applicants and might have to accept “some individuals who are not medically fit for service.” The Obama administration had set a deadline of July 1, 2017, to begin accepting transgender recruits. But Trump’s defense secretary, James Mattis, postponed that date to Jan. 1, 2018, which the president’s ban then put off indefinitely. Trump has taken other steps aimed at rolling back transgender rights. In October, his administration said a federal law banning gender-based workplace discrimination does not protect transgender employees, reversing another Obama-era position. In February, Trump rescinded guidance issued by the Obama administration saying that public schools should allow transgender students to use the restroom that corresponds to their gender identity. ",
         "politicsNews",
         "December 29, 2017 ",
         "True"
        ],
        [
         "2",
         "Senior U.S. Republican senator: 'Let Mr. Mueller do his job'",
         "WASHINGTON (Reuters) - The special counsel investigation of links between Russia and President Trump’s 2016 election campaign should continue without interference in 2018, despite calls from some Trump administration allies and Republican lawmakers to shut it down, a prominent Republican senator said on Sunday. Lindsey Graham, who serves on the Senate armed forces and judiciary committees, said Department of Justice Special Counsel Robert Mueller needs to carry on with his Russia investigation without political interference. “This investigation will go forward. It will be an investigation conducted without political influence,” Graham said on CBS’s Face the Nation news program. “And we all need to let Mr. Mueller do his job. I think he’s the right guy at the right time.”  The question of how Russia may have interfered in the election, and how Trump’s campaign may have had links with or co-ordinated any such effort, has loomed over the White House since Trump took office in January. It shows no sign of receding as Trump prepares for his second year in power, despite intensified rhetoric from some Trump allies in recent weeks accusing Mueller’s team of bias against the Republican president. Trump himself seemed to undercut his supporters in an interview last week with the New York Times in which he said he expected Mueller was “going to be fair.”    Russia’s role in the election and the question of possible links to the Trump campaign are the focus of multiple inquiries in Washington. Three committees of the Senate and the House of Representatives are investigating, as well as Mueller, whose team in May took over an earlier probe launched by the U.S. Federal Bureau of Investigation (FBI). Several members of the Trump campaign and administration have been convicted or indicted in the investigation.  Trump and his allies deny any collusion with Russia during the campaign, and the Kremlin has denied meddling in the election. Graham said he still wants an examination of the FBI’s use of a dossier on links between Trump and Russia that was compiled by a former British spy, Christopher Steele, which prompted Trump allies and some Republicans to question Mueller’s inquiry.   On Saturday, the New York Times reported that it was not that dossier that triggered an early FBI probe, but a tip from former Trump campaign foreign policy adviser George Papadopoulos to an Australian diplomat that Russia had damaging information about former Trump rival Hillary Clinton.  “I want somebody to look at the way the Department of Justice used this dossier. It bothers me greatly the way they used it, and I want somebody to look at it,” Graham said. But he said the Russia investigation must continue. “As a matter of fact, it would hurt us if we ignored it,” he said. ",
         "politicsNews",
         "December 31, 2017 ",
         "True"
        ],
        [
         "3",
         "FBI Russia probe helped by Australian diplomat tip-off: NYT",
         "WASHINGTON (Reuters) - Trump campaign adviser George Papadopoulos told an Australian diplomat in May 2016 that Russia had political dirt on Democratic presidential candidate Hillary Clinton, the New York Times reported on Saturday. The conversation between Papadopoulos and the diplomat, Alexander Downer, in London was a driving factor behind the FBI’s decision to open a counter-intelligence investigation of Moscow’s contacts with the Trump campaign, the Times reported. Two months after the meeting, Australian officials passed the information that came from Papadopoulos to their American counterparts when leaked Democratic emails began appearing online, according to the newspaper, which cited four current and former U.S. and foreign officials. Besides the information from the Australians, the probe by the Federal Bureau of Investigation was also propelled by intelligence from other friendly governments, including the British and Dutch, the Times said. Papadopoulos, a Chicago-based international energy lawyer, pleaded guilty on Oct. 30 to lying to FBI agents about contacts with people who claimed to have ties to top Russian officials. It was the first criminal charge alleging links between the Trump campaign and Russia. The White House has played down the former aide’s campaign role, saying it was “extremely limited” and that any actions he took would have been on his own. The New York Times, however, reported that Papadopoulos helped set up a meeting between then-candidate Donald Trump and Egyptian President Abdel Fattah al-Sisi and edited the outline of Trump’s first major foreign policy speech in April 2016. The federal investigation, which is now being led by Special Counsel Robert Mueller, has hung over Trump’s White House since he took office almost a year ago. Some Trump allies have recently accused Mueller’s team of being biased against the Republican president. Lawyers for Papadopoulos did not immediately respond to requests by Reuters for comment. Mueller’s office declined to comment. Trump’s White House attorney, Ty Cobb, declined to comment on the New York Times report. “Out of respect for the special counsel and his process, we are not commenting on matters such as this,” he said in a statement. Mueller has charged four Trump associates, including Papadopoulos, in his investigation. Russia has denied interfering in the U.S. election and Trump has said there was no collusion between his campaign and Moscow. ",
         "politicsNews",
         "December 30, 2017 ",
         "True"
        ],
        [
         "4",
         "Trump wants Postal Service to charge 'much more' for Amazon shipments",
         "SEATTLE/WASHINGTON (Reuters) - President Donald Trump called on the U.S. Postal Service on Friday to charge “much more” to ship packages for Amazon (AMZN.O), picking another fight with an online retail giant he has criticized in the past.     “Why is the United States Post Office, which is losing many billions of dollars a year, while charging Amazon and others so little to deliver their packages, making Amazon richer and the Post Office dumber and poorer? Should be charging MUCH MORE!” Trump wrote on Twitter.  The president’s tweet drew fresh attention to the fragile finances of the Postal Service at a time when tens of millions of parcels have just been shipped all over the country for the holiday season.  The U.S. Postal Service, which runs at a big loss, is an independent agency within the federal government and does not receive tax dollars for operating expenses, according to its website.  Package delivery has become an increasingly important part of its business as the Internet has led to a sharp decline in the amount of first-class letters. The president does not determine postal rates. They are set by the Postal Regulatory Commission, an independent government agency with commissioners selected by the president from both political parties. That panel raised prices on packages by almost 2 percent in November.  Amazon was founded by Jeff Bezos, who remains the chief executive officer of the retail company and is the richest person in the world, according to Bloomberg News. Bezos also owns The Washington Post, a newspaper Trump has repeatedly railed against in his criticisms of the news media. In tweets over the past year, Trump has said the “Amazon Washington Post” fabricated stories. He has said Amazon does not pay sales tax, which is not true, and so hurts other retailers, part of a pattern by the former businessman and reality television host of periodically turning his ire on big American companies since he took office in January. Daniel Ives, a research analyst at GBH Insights, said Trump’s comment could be taken as a warning to the retail giant. However, he said he was not concerned for Amazon. “We do not see any price hikes in the future. However, that is a risk that Amazon is clearly aware of and (it) is building out its distribution (system) aggressively,” he said. Amazon has shown interest in the past in shifting into its own delivery service, including testing drones for deliveries. In 2015, the company spent $11.5 billion on shipping, 46 percent of its total operating expenses that year.  Amazon shares were down 0.86 percent to $1,175.90 by early afternoon. Overall, U.S. stock prices were down slightly on Friday.  Satish Jindel, president of ShipMatrix Inc, which analyzes shipping data, disputed the idea that the Postal Service charges less than United Parcel Service Inc (UPS.N) and FedEx Corp (FDX.N), the other biggest players in the parcel delivery business in the United States. Many customers get lower rates from UPS and FedEx than they would get from the post office for comparable services, he said. The Postal Service delivers about 62 percent of Amazon packages, for about 3.5 to 4 million a day during the current peak year-end holiday shipping season, Jindel said. The Seattle-based company and the post office have an agreement in which mail carriers take Amazon packages on the last leg of their journeys, from post offices to customers’ doorsteps. Amazon’s No. 2 carrier is UPS, at 21 percent, and FedEx is third, with 8 percent or so, according to Jindel. Trump’s comment tapped into a debate over whether Postal Service pricing has kept pace with the rise of e-commerce, which has flooded the mail with small packages.Private companies like UPS have long claimed the current system unfairly undercuts their business. Steve Gaut, a spokesman for UPS, noted that the company values its “productive relationship” with the postal service, but that it has filed with the Postal Regulatory Commission its concerns about the postal service’s methods for covering costs. Representatives for Amazon, the White House, the U.S. Postal Service and FedEx declined comment or were not immediately available for comment on Trump’s tweet. According to its annual report, the Postal Service lost $2.74 billion this year, and its deficit has ballooned to $61.86 billion.  While the Postal Service’s revenue for first class mail, marketing mail and periodicals is flat or declining, revenue from package delivery is up 44 percent since 2014 to $19.5 billion in the fiscal year ended Sept. 30, 2017. But it also lost about $2 billion in revenue when a temporary surcharge expired in April 2016. According to a Government Accountability Office report in February, the service is facing growing personnel expenses, particularly $73.4 billion in unfunded pension and benefits liabilities. The Postal Service has not announced any plans to cut costs. By law, the Postal Service has to set prices for package delivery to cover the costs attributable to that service. But the postal service allocates only 5.5 percent of its total costs to its business of shipping packages even though that line of business is 28 percent of its total revenue. ",
         "politicsNews",
         "December 29, 2017 ",
         "True"
        ]
       ],
       "shape": {
        "columns": 5,
        "rows": 5
       }
      },
      "text/html": [
       "<div>\n",
       "<style scoped>\n",
       "    .dataframe tbody tr th:only-of-type {\n",
       "        vertical-align: middle;\n",
       "    }\n",
       "\n",
       "    .dataframe tbody tr th {\n",
       "        vertical-align: top;\n",
       "    }\n",
       "\n",
       "    .dataframe thead th {\n",
       "        text-align: right;\n",
       "    }\n",
       "</style>\n",
       "<table border=\"1\" class=\"dataframe\">\n",
       "  <thead>\n",
       "    <tr style=\"text-align: right;\">\n",
       "      <th></th>\n",
       "      <th>title</th>\n",
       "      <th>text</th>\n",
       "      <th>subject</th>\n",
       "      <th>date</th>\n",
       "      <th>label</th>\n",
       "    </tr>\n",
       "  </thead>\n",
       "  <tbody>\n",
       "    <tr>\n",
       "      <th>0</th>\n",
       "      <td>As U.S. budget fight looms, Republicans flip t...</td>\n",
       "      <td>WASHINGTON (Reuters) - The head of a conservat...</td>\n",
       "      <td>politicsNews</td>\n",
       "      <td>December 31, 2017</td>\n",
       "      <td>True</td>\n",
       "    </tr>\n",
       "    <tr>\n",
       "      <th>1</th>\n",
       "      <td>U.S. military to accept transgender recruits o...</td>\n",
       "      <td>WASHINGTON (Reuters) - Transgender people will...</td>\n",
       "      <td>politicsNews</td>\n",
       "      <td>December 29, 2017</td>\n",
       "      <td>True</td>\n",
       "    </tr>\n",
       "    <tr>\n",
       "      <th>2</th>\n",
       "      <td>Senior U.S. Republican senator: 'Let Mr. Muell...</td>\n",
       "      <td>WASHINGTON (Reuters) - The special counsel inv...</td>\n",
       "      <td>politicsNews</td>\n",
       "      <td>December 31, 2017</td>\n",
       "      <td>True</td>\n",
       "    </tr>\n",
       "    <tr>\n",
       "      <th>3</th>\n",
       "      <td>FBI Russia probe helped by Australian diplomat...</td>\n",
       "      <td>WASHINGTON (Reuters) - Trump campaign adviser ...</td>\n",
       "      <td>politicsNews</td>\n",
       "      <td>December 30, 2017</td>\n",
       "      <td>True</td>\n",
       "    </tr>\n",
       "    <tr>\n",
       "      <th>4</th>\n",
       "      <td>Trump wants Postal Service to charge 'much mor...</td>\n",
       "      <td>SEATTLE/WASHINGTON (Reuters) - President Donal...</td>\n",
       "      <td>politicsNews</td>\n",
       "      <td>December 29, 2017</td>\n",
       "      <td>True</td>\n",
       "    </tr>\n",
       "  </tbody>\n",
       "</table>\n",
       "</div>"
      ],
      "text/plain": [
       "                                               title  \\\n",
       "0  As U.S. budget fight looms, Republicans flip t...   \n",
       "1  U.S. military to accept transgender recruits o...   \n",
       "2  Senior U.S. Republican senator: 'Let Mr. Muell...   \n",
       "3  FBI Russia probe helped by Australian diplomat...   \n",
       "4  Trump wants Postal Service to charge 'much mor...   \n",
       "\n",
       "                                                text       subject  \\\n",
       "0  WASHINGTON (Reuters) - The head of a conservat...  politicsNews   \n",
       "1  WASHINGTON (Reuters) - Transgender people will...  politicsNews   \n",
       "2  WASHINGTON (Reuters) - The special counsel inv...  politicsNews   \n",
       "3  WASHINGTON (Reuters) - Trump campaign adviser ...  politicsNews   \n",
       "4  SEATTLE/WASHINGTON (Reuters) - President Donal...  politicsNews   \n",
       "\n",
       "                 date label  \n",
       "0  December 31, 2017   True  \n",
       "1  December 29, 2017   True  \n",
       "2  December 31, 2017   True  \n",
       "3  December 30, 2017   True  \n",
       "4  December 29, 2017   True  "
      ]
     },
     "metadata": {},
     "output_type": "display_data"
    }
   ],
   "source": [
    "#3. Chargement des fichiers CSV\n",
    "csv_files = [f for f in os.listdir(RAW_PATH) if f.endswith(\".csv\")]\n",
    "print(f\"Fichiers trouvés : {csv_files}\")\n",
    "\n",
    "dfs = []\n",
    "for file_name in csv_files:\n",
    "    df_tmp = pd.read_csv(os.path.join(RAW_PATH, file_name))\n",
    "    # Ajouter une colonne label en fonction du nom du fichier\n",
    "    df_tmp[\"label\"] = \"Fake\" if \"fake\" in file_name.lower() else \"True\"\n",
    "    dfs.append(df_tmp)\n",
    "\n",
    "# Fusionner les DataFrames\n",
    "df = pd.concat(dfs, ignore_index=True)\n",
    "print(f\"📊 Taille totale du dataset : {df.shape}\")\n",
    "df.head()\n"
   ]
  },
  {
   "cell_type": "code",
   "execution_count": null,
   "id": "fe80ecf3",
   "metadata": {},
   "outputs": [
    {
     "name": "stdout",
     "output_type": "stream",
     "text": [
      "Valeurs manquantes par colonne :\n",
      "title      0\n",
      "text       0\n",
      "subject    0\n",
      "date       0\n",
      "label      0\n",
      "dtype: int64\n",
      "\n",
      "Nombre de doublons : 209\n"
     ]
    }
   ],
   "source": [
    "#4. Vérification des données\n",
    "print(\"Valeurs manquantes par colonne :\")\n",
    "print(df.isna().sum())\n",
    "\n",
    "print(\"\\nNombre de doublons :\", df.duplicated().sum())\n",
    "\n",
    "# Suppression des doublons et des valeurs manquantes\n",
    "df = df.drop_duplicates().fillna(\"\")\n"
   ]
  },
  {
   "cell_type": "code",
   "execution_count": null,
   "id": "25f3f4e3",
   "metadata": {},
   "outputs": [
    {
     "data": {
      "application/vnd.microsoft.datawrangler.viewer.v0+json": {
       "columns": [
        {
         "name": "index",
         "rawType": "int64",
         "type": "integer"
        },
        {
         "name": "text",
         "rawType": "object",
         "type": "string"
        },
        {
         "name": "clean_text",
         "rawType": "object",
         "type": "string"
        }
       ],
       "ref": "d6853bc9-fe86-4fc0-a979-b427fe91a96f",
       "rows": [
        [
         "0",
         "WASHINGTON (Reuters) - The head of a conservative Republican faction in the U.S. Congress, who voted this month for a huge expansion of the national debt to pay for tax cuts, called himself a “fiscal conservative” on Sunday and urged budget restraint in 2018. In keeping with a sharp pivot under way among Republicans, U.S. Representative Mark Meadows, speaking on CBS’ “Face the Nation,” drew a hard line on federal spending, which lawmakers are bracing to do battle over in January. When they return from the holidays on Wednesday, lawmakers will begin trying to pass a federal budget in a fight likely to be linked to other issues, such as immigration policy, even as the November congressional election campaigns approach in which Republicans will seek to keep control of Congress. President Donald Trump and his Republicans want a big budget increase in military spending, while Democrats also want proportional increases for non-defense “discretionary” spending on programs that support education, scientific research, infrastructure, public health and environmental protection. “The (Trump) administration has already been willing to say: ‘We’re going to increase non-defense discretionary spending ... by about 7 percent,’” Meadows, chairman of the small but influential House Freedom Caucus, said on the program. “Now, Democrats are saying that’s not enough, we need to give the government a pay raise of 10 to 11 percent. For a fiscal conservative, I don’t see where the rationale is. ... Eventually you run out of other people’s money,” he said. Meadows was among Republicans who voted in late December for their party’s debt-financed tax overhaul, which is expected to balloon the federal budget deficit and add about $1.5 trillion over 10 years to the $20 trillion national debt. “It’s interesting to hear Mark talk about fiscal responsibility,” Democratic U.S. Representative Joseph Crowley said on CBS. Crowley said the Republican tax bill would require the  United States to borrow $1.5 trillion, to be paid off by future generations, to finance tax cuts for corporations and the rich. “This is one of the least ... fiscally responsible bills we’ve ever seen passed in the history of the House of Representatives. I think we’re going to be paying for this for many, many years to come,” Crowley said. Republicans insist the tax package, the biggest U.S. tax overhaul in more than 30 years,  will boost the economy and job growth. House Speaker Paul Ryan, who also supported the tax bill, recently went further than Meadows, making clear in a radio interview that welfare or “entitlement reform,” as the party often calls it, would be a top Republican priority in 2018. In Republican parlance, “entitlement” programs mean food stamps, housing assistance, Medicare and Medicaid health insurance for the elderly, poor and disabled, as well as other programs created by Washington to assist the needy. Democrats seized on Ryan’s early December remarks, saying they showed Republicans would try to pay for their tax overhaul by seeking spending cuts for social programs. But the goals of House Republicans may have to take a back seat to the Senate, where the votes of some Democrats will be needed to approve a budget and prevent a government shutdown. Democrats will use their leverage in the Senate, which Republicans narrowly control, to defend both discretionary non-defense programs and social spending, while tackling the issue of the “Dreamers,” people brought illegally to the country as children. Trump in September put a March 2018 expiration date on the Deferred Action for Childhood Arrivals, or DACA, program, which protects the young immigrants from deportation and provides them with work permits. The president has said in recent Twitter messages he wants funding for his proposed Mexican border wall and other immigration law changes in exchange for agreeing to help the Dreamers. Representative Debbie Dingell told CBS she did not favor linking that issue to other policy objectives, such as wall funding. “We need to do DACA clean,” she said.  On Wednesday, Trump aides will meet with congressional leaders to discuss those issues. That will be followed by a weekend of strategy sessions for Trump and Republican leaders on Jan. 6 and 7, the White House said. Trump was also scheduled to meet on Sunday with Florida Republican Governor Rick Scott, who wants more emergency aid. The House has passed an $81 billion aid package after hurricanes in Florida, Texas and Puerto Rico, and wildfires in California. The package far exceeded the $44 billion requested by the Trump administration. The Senate has not yet voted on the aid. ",
         "washington reuters the head of a conservative republican faction in the u s congress who voted this month for a huge expansion of the national debt to pay for tax cuts called himself a fiscal conservative on sunday and urged budget restraint in 2018 in keeping with a sharp pivot under way among republicans u s representative mark meadows speaking on cbs face the nation drew a hard line on federal spending which lawmakers are bracing to do battle over in january when they return from the holidays on wednesday lawmakers will begin trying to pass a federal budget in a fight likely to be linked to other issues such as immigration policy even as the november congressional election campaigns approach in which republicans will seek to keep control of congress president donald trump and his republicans want a big budget increase in military spending while democrats also want proportional increases for non defense discretionary spending on programs that support education scientific research infrastructure public health and environmental protection the trump administration has already been willing to say we re going to increase non defense discretionary spending by about 7 percent meadows chairman of the small but influential house freedom caucus said on the program now democrats are saying that s not enough we need to give the government a pay raise of 10 to 11 percent for a fiscal conservative i don t see where the rationale is eventually you run out of other people s money he said meadows was among republicans who voted in late december for their party s debt financed tax overhaul which is expected to balloon the federal budget deficit and add about 1 5 trillion over 10 years to the 20 trillion national debt it s interesting to hear mark talk about fiscal responsibility democratic u s representative joseph crowley said on cbs crowley said the republican tax bill would require the united states to borrow 1 5 trillion to be paid off by future generations to finance tax cuts for corporations and the rich this is one of the least fiscally responsible bills we ve ever seen passed in the history of the house of representatives i think we re going to be paying for this for many many years to come crowley said republicans insist the tax package the biggest u s tax overhaul in more than 30 years will boost the economy and job growth house speaker paul ryan who also supported the tax bill recently went further than meadows making clear in a radio interview that welfare or entitlement reform as the party often calls it would be a top republican priority in 2018 in republican parlance entitlement programs mean food stamps housing assistance medicare and medicaid health insurance for the elderly poor and disabled as well as other programs created by washington to assist the needy democrats seized on ryan s early december remarks saying they showed republicans would try to pay for their tax overhaul by seeking spending cuts for social programs but the goals of house republicans may have to take a back seat to the senate where the votes of some democrats will be needed to approve a budget and prevent a government shutdown democrats will use their leverage in the senate which republicans narrowly control to defend both discretionary non defense programs and social spending while tackling the issue of the dreamers people brought illegally to the country as children trump in september put a march 2018 expiration date on the deferred action for childhood arrivals or daca program which protects the young immigrants from deportation and provides them with work permits the president has said in recent twitter messages he wants funding for his proposed mexican border wall and other immigration law changes in exchange for agreeing to help the dreamers representative debbie dingell told cbs she did not favor linking that issue to other policy objectives such as wall funding we need to do daca clean she said on wednesday trump aides will meet with congressional leaders to discuss those issues that will be followed by a weekend of strategy sessions for trump and republican leaders on jan 6 and 7 the white house said trump was also scheduled to meet on sunday with florida republican governor rick scott who wants more emergency aid the house has passed an 81 billion aid package after hurricanes in florida texas and puerto rico and wildfires in california the package far exceeded the 44 billion requested by the trump administration the senate has not yet voted on the aid"
        ],
        [
         "1",
         "WASHINGTON (Reuters) - Transgender people will be allowed for the first time to enlist in the U.S. military starting on Monday as ordered by federal courts, the Pentagon said on Friday, after President Donald Trump’s administration decided not to appeal rulings that blocked his transgender ban. Two federal appeals courts, one in Washington and one in Virginia, last week rejected the administration’s request to put on hold orders by lower court judges requiring the military to begin accepting transgender recruits on Jan. 1. A Justice Department official said the administration will not challenge those rulings. “The Department of Defense has announced that it will be releasing an independent study of these issues in the coming weeks. So rather than litigate this interim appeal before that occurs, the administration has decided to wait for DOD’s study and will continue to defend the president’s lawful authority in District Court in the meantime,” the official said, speaking on condition of anonymity. In September, the Pentagon said it had created a panel of senior officials to study how to implement a directive by Trump to prohibit transgender individuals from serving. The Defense Department has until Feb. 21 to submit a plan to Trump. Lawyers representing currently-serving transgender service members and aspiring recruits said they had expected the administration to appeal the rulings to the conservative-majority Supreme Court, but were hoping that would not happen. Pentagon spokeswoman Heather Babb said in a statement: “As mandated by court order, the Department of Defense is prepared to begin accessing transgender applicants for military service Jan. 1. All applicants must meet all accession standards.” Jennifer Levi, a lawyer with gay, lesbian and transgender advocacy group GLAD, called the decision not to appeal “great news.” “I’m hoping it means the government has come to see that there is no way to justify a ban and that it’s not good for the military or our country,” Levi said. Both GLAD and the American Civil Liberties Union represent plaintiffs in the lawsuits filed against the administration. In a move that appealed to his hard-line conservative supporters, Trump announced in July that he would prohibit transgender people from serving in the military, reversing Democratic President Barack Obama’s policy of accepting them. Trump said on Twitter at the time that the military “cannot be burdened with the tremendous medical costs and disruption that transgender in the military would entail.” Four federal judges - in Baltimore, Washington, D.C., Seattle and Riverside, California - have issued rulings blocking Trump’s ban while legal challenges to the Republican president’s policy proceed. The judges said the ban would likely violate the right under the U.S. Constitution to equal protection under the law. The Pentagon on Dec. 8 issued guidelines to recruitment personnel in order to enlist transgender applicants by Jan. 1. The memo outlined medical requirements and specified how the applicants’ sex would be identified and even which undergarments they would wear. The Trump administration previously said in legal papers that the armed forces were not prepared to train thousands of personnel on the medical standards needed to process transgender applicants and might have to accept “some individuals who are not medically fit for service.” The Obama administration had set a deadline of July 1, 2017, to begin accepting transgender recruits. But Trump’s defense secretary, James Mattis, postponed that date to Jan. 1, 2018, which the president’s ban then put off indefinitely. Trump has taken other steps aimed at rolling back transgender rights. In October, his administration said a federal law banning gender-based workplace discrimination does not protect transgender employees, reversing another Obama-era position. In February, Trump rescinded guidance issued by the Obama administration saying that public schools should allow transgender students to use the restroom that corresponds to their gender identity. ",
         "washington reuters transgender people will be allowed for the first time to enlist in the u s military starting on monday as ordered by federal courts the pentagon said on friday after president donald trump s administration decided not to appeal rulings that blocked his transgender ban two federal appeals courts one in washington and one in virginia last week rejected the administration s request to put on hold orders by lower court judges requiring the military to begin accepting transgender recruits on jan 1 a justice department official said the administration will not challenge those rulings the department of defense has announced that it will be releasing an independent study of these issues in the coming weeks so rather than litigate this interim appeal before that occurs the administration has decided to wait for dod s study and will continue to defend the president s lawful authority in district court in the meantime the official said speaking on condition of anonymity in september the pentagon said it had created a panel of senior officials to study how to implement a directive by trump to prohibit transgender individuals from serving the defense department has until feb 21 to submit a plan to trump lawyers representing currently serving transgender service members and aspiring recruits said they had expected the administration to appeal the rulings to the conservative majority supreme court but were hoping that would not happen pentagon spokeswoman heather babb said in a statement as mandated by court order the department of defense is prepared to begin accessing transgender applicants for military service jan 1 all applicants must meet all accession standards jennifer levi a lawyer with gay lesbian and transgender advocacy group glad called the decision not to appeal great news i m hoping it means the government has come to see that there is no way to justify a ban and that it s not good for the military or our country levi said both glad and the american civil liberties union represent plaintiffs in the lawsuits filed against the administration in a move that appealed to his hard line conservative supporters trump announced in july that he would prohibit transgender people from serving in the military reversing democratic president barack obama s policy of accepting them trump said on twitter at the time that the military cannot be burdened with the tremendous medical costs and disruption that transgender in the military would entail four federal judges in baltimore washington d c seattle and riverside california have issued rulings blocking trump s ban while legal challenges to the republican president s policy proceed the judges said the ban would likely violate the right under the u s constitution to equal protection under the law the pentagon on dec 8 issued guidelines to recruitment personnel in order to enlist transgender applicants by jan 1 the memo outlined medical requirements and specified how the applicants sex would be identified and even which undergarments they would wear the trump administration previously said in legal papers that the armed forces were not prepared to train thousands of personnel on the medical standards needed to process transgender applicants and might have to accept some individuals who are not medically fit for service the obama administration had set a deadline of july 1 2017 to begin accepting transgender recruits but trump s defense secretary james mattis postponed that date to jan 1 2018 which the president s ban then put off indefinitely trump has taken other steps aimed at rolling back transgender rights in october his administration said a federal law banning gender based workplace discrimination does not protect transgender employees reversing another obama era position in february trump rescinded guidance issued by the obama administration saying that public schools should allow transgender students to use the restroom that corresponds to their gender identity"
        ],
        [
         "2",
         "WASHINGTON (Reuters) - The special counsel investigation of links between Russia and President Trump’s 2016 election campaign should continue without interference in 2018, despite calls from some Trump administration allies and Republican lawmakers to shut it down, a prominent Republican senator said on Sunday. Lindsey Graham, who serves on the Senate armed forces and judiciary committees, said Department of Justice Special Counsel Robert Mueller needs to carry on with his Russia investigation without political interference. “This investigation will go forward. It will be an investigation conducted without political influence,” Graham said on CBS’s Face the Nation news program. “And we all need to let Mr. Mueller do his job. I think he’s the right guy at the right time.”  The question of how Russia may have interfered in the election, and how Trump’s campaign may have had links with or co-ordinated any such effort, has loomed over the White House since Trump took office in January. It shows no sign of receding as Trump prepares for his second year in power, despite intensified rhetoric from some Trump allies in recent weeks accusing Mueller’s team of bias against the Republican president. Trump himself seemed to undercut his supporters in an interview last week with the New York Times in which he said he expected Mueller was “going to be fair.”    Russia’s role in the election and the question of possible links to the Trump campaign are the focus of multiple inquiries in Washington. Three committees of the Senate and the House of Representatives are investigating, as well as Mueller, whose team in May took over an earlier probe launched by the U.S. Federal Bureau of Investigation (FBI). Several members of the Trump campaign and administration have been convicted or indicted in the investigation.  Trump and his allies deny any collusion with Russia during the campaign, and the Kremlin has denied meddling in the election. Graham said he still wants an examination of the FBI’s use of a dossier on links between Trump and Russia that was compiled by a former British spy, Christopher Steele, which prompted Trump allies and some Republicans to question Mueller’s inquiry.   On Saturday, the New York Times reported that it was not that dossier that triggered an early FBI probe, but a tip from former Trump campaign foreign policy adviser George Papadopoulos to an Australian diplomat that Russia had damaging information about former Trump rival Hillary Clinton.  “I want somebody to look at the way the Department of Justice used this dossier. It bothers me greatly the way they used it, and I want somebody to look at it,” Graham said. But he said the Russia investigation must continue. “As a matter of fact, it would hurt us if we ignored it,” he said. ",
         "washington reuters the special counsel investigation of links between russia and president trump s 2016 election campaign should continue without interference in 2018 despite calls from some trump administration allies and republican lawmakers to shut it down a prominent republican senator said on sunday lindsey graham who serves on the senate armed forces and judiciary committees said department of justice special counsel robert mueller needs to carry on with his russia investigation without political interference this investigation will go forward it will be an investigation conducted without political influence graham said on cbs s face the nation news program and we all need to let mr mueller do his job i think he s the right guy at the right time the question of how russia may have interfered in the election and how trump s campaign may have had links with or co ordinated any such effort has loomed over the white house since trump took office in january it shows no sign of receding as trump prepares for his second year in power despite intensified rhetoric from some trump allies in recent weeks accusing mueller s team of bias against the republican president trump himself seemed to undercut his supporters in an interview last week with the new york times in which he said he expected mueller was going to be fair russia s role in the election and the question of possible links to the trump campaign are the focus of multiple inquiries in washington three committees of the senate and the house of representatives are investigating as well as mueller whose team in may took over an earlier probe launched by the u s federal bureau of investigation fbi several members of the trump campaign and administration have been convicted or indicted in the investigation trump and his allies deny any collusion with russia during the campaign and the kremlin has denied meddling in the election graham said he still wants an examination of the fbi s use of a dossier on links between trump and russia that was compiled by a former british spy christopher steele which prompted trump allies and some republicans to question mueller s inquiry on saturday the new york times reported that it was not that dossier that triggered an early fbi probe but a tip from former trump campaign foreign policy adviser george papadopoulos to an australian diplomat that russia had damaging information about former trump rival hillary clinton i want somebody to look at the way the department of justice used this dossier it bothers me greatly the way they used it and i want somebody to look at it graham said but he said the russia investigation must continue as a matter of fact it would hurt us if we ignored it he said"
        ]
       ],
       "shape": {
        "columns": 2,
        "rows": 3
       }
      },
      "text/html": [
       "<div>\n",
       "<style scoped>\n",
       "    .dataframe tbody tr th:only-of-type {\n",
       "        vertical-align: middle;\n",
       "    }\n",
       "\n",
       "    .dataframe tbody tr th {\n",
       "        vertical-align: top;\n",
       "    }\n",
       "\n",
       "    .dataframe thead th {\n",
       "        text-align: right;\n",
       "    }\n",
       "</style>\n",
       "<table border=\"1\" class=\"dataframe\">\n",
       "  <thead>\n",
       "    <tr style=\"text-align: right;\">\n",
       "      <th></th>\n",
       "      <th>text</th>\n",
       "      <th>clean_text</th>\n",
       "    </tr>\n",
       "  </thead>\n",
       "  <tbody>\n",
       "    <tr>\n",
       "      <th>0</th>\n",
       "      <td>WASHINGTON (Reuters) - The head of a conservat...</td>\n",
       "      <td>washington reuters the head of a conservative ...</td>\n",
       "    </tr>\n",
       "    <tr>\n",
       "      <th>1</th>\n",
       "      <td>WASHINGTON (Reuters) - Transgender people will...</td>\n",
       "      <td>washington reuters transgender people will be ...</td>\n",
       "    </tr>\n",
       "    <tr>\n",
       "      <th>2</th>\n",
       "      <td>WASHINGTON (Reuters) - The special counsel inv...</td>\n",
       "      <td>washington reuters the special counsel investi...</td>\n",
       "    </tr>\n",
       "  </tbody>\n",
       "</table>\n",
       "</div>"
      ],
      "text/plain": [
       "                                                text  \\\n",
       "0  WASHINGTON (Reuters) - The head of a conservat...   \n",
       "1  WASHINGTON (Reuters) - Transgender people will...   \n",
       "2  WASHINGTON (Reuters) - The special counsel inv...   \n",
       "\n",
       "                                          clean_text  \n",
       "0  washington reuters the head of a conservative ...  \n",
       "1  washington reuters transgender people will be ...  \n",
       "2  washington reuters the special counsel investi...  "
      ]
     },
     "metadata": {},
     "output_type": "display_data"
    }
   ],
   "source": [
    "#5. Nettoyage des textes\n",
    "def clean_text(text):\n",
    "    \"\"\"\n",
    "    Nettoie un texte :\n",
    "    - Supprime les balises HTML\n",
    "    - Supprime les URLs\n",
    "    - Supprime les caractères spéciaux\n",
    "    - Supprime les espaces multiples\n",
    "    - Convertit en minuscules\n",
    "    \"\"\"\n",
    "    if not isinstance(text, str):\n",
    "        return \"\"\n",
    "    text = BeautifulSoup(text, \"html.parser\").get_text()\n",
    "    text = re.sub(r\"http\\S+|www\\S+\", \"\", text)\n",
    "    text = re.sub(r\"[^A-Za-z0-9À-ÿ\\s]\", \" \", text)\n",
    "    text = re.sub(r\"\\s+\", \" \", text).strip()\n",
    "    return text.lower()\n",
    "\n",
    "df[\"clean_text\"] = df[\"text\"].apply(clean_text)\n",
    "\n",
    "# Vérification du nettoyage\n",
    "df[[\"text\", \"clean_text\"]].head(3)\n"
   ]
  },
  {
   "cell_type": "code",
   "execution_count": null,
   "id": "e1f95cd7",
   "metadata": {},
   "outputs": [
    {
     "name": "stdout",
     "output_type": "stream",
     "text": [
      "0    washington reuters head conservative republica...\n",
      "1    washington reuters transgender people allow ti...\n",
      "2    washington reuters special counsel investigati...\n",
      "Name: clean_text, dtype: object\n"
     ]
    }
   ],
   "source": [
    "#6. Suppression des stopwords et lemmatisation\n",
    "from spacy.lang.en.stop_words import STOP_WORDS\n",
    "\n",
    "def lemmatize_text(text):\n",
    "    \"\"\"Applique la lemmatisation et retire les stopwords\"\"\"\n",
    "    doc = nlp(text)\n",
    "    tokens = [token.lemma_ for token in doc if token.text.lower() not in STOP_WORDS]\n",
    "    return \" \".join(tokens)\n",
    "\n",
    "# Pour accélérer le test, on peut le faire sur un échantillon d'abord :\n",
    "sample = df[\"clean_text\"].iloc[:3].apply(lemmatize_text)\n",
    "print(sample)"
   ]
  },
  {
   "cell_type": "code",
   "execution_count": null,
   "id": "7496d7a4",
   "metadata": {},
   "outputs": [
    {
     "name": "stdout",
     "output_type": "stream",
     "text": [
      "['washington reuters the head of a conservative republican faction in the u s congress who voted this month for a huge expansion of the national debt to pay for tax cuts called himself a fiscal conservative on sunday and urged budget restraint in 2018 in keeping with a sharp pivot', 'budget restraint in 2018 in keeping with a sharp pivot under way among republicans u s representative mark meadows speaking on cbs face the nation drew a hard line on federal spending which lawmakers are bracing to do battle over in january when they return from the holidays on wednesday']\n"
     ]
    }
   ],
   "source": [
    "# 7. Découpage en chunks\n",
    "def chunk_text(text, chunk_size=200, overlap=50):\n",
    "    \"\"\"\n",
    "    Découpe un texte en morceaux de longueur fixe (en mots)\n",
    "    avec un chevauchement pour conserver le contexte.\n",
    "    \"\"\"\n",
    "    words = text.split()\n",
    "    chunks = []\n",
    "    start = 0\n",
    "    while start < len(words):\n",
    "        end = start + chunk_size\n",
    "        chunk = \" \".join(words[start:end])\n",
    "        if chunk:\n",
    "            chunks.append(chunk)\n",
    "        start += chunk_size - overlap\n",
    "    return chunks\n",
    "\n",
    "# Exemple\n",
    "example_text = df[\"clean_text\"].iloc[0]\n",
    "print(chunk_text(example_text, chunk_size=50, overlap=10)[:2])\n"
   ]
  },
  {
   "cell_type": "code",
   "execution_count": null,
   "id": "2d3b592c",
   "metadata": {},
   "outputs": [
    {
     "name": "stderr",
     "output_type": "stream",
     "text": [
      "100%|██████████| 44689/44689 [00:04<00:00, 10289.66it/s]\n"
     ]
    },
    {
     "name": "stdout",
     "output_type": "stream",
     "text": [
      "✅ Nombre total de chunks : 145486\n"
     ]
    },
    {
     "data": {
      "application/vnd.microsoft.datawrangler.viewer.v0+json": {
       "columns": [
        {
         "name": "index",
         "rawType": "int64",
         "type": "integer"
        },
        {
         "name": "article_id",
         "rawType": "int64",
         "type": "integer"
        },
        {
         "name": "title",
         "rawType": "object",
         "type": "string"
        },
        {
         "name": "chunk_id",
         "rawType": "int64",
         "type": "integer"
        },
        {
         "name": "chunk_text",
         "rawType": "object",
         "type": "string"
        },
        {
         "name": "label",
         "rawType": "object",
         "type": "string"
        }
       ],
       "ref": "3e6838f2-8fed-4267-b5da-b3ffca2f80b7",
       "rows": [
        [
         "0",
         "0",
         "As U.S. budget fight looms, Republicans flip their fiscal script",
         "0",
         "washington reuters the head of a conservative republican faction in the u s congress who voted this month for a huge expansion of the national debt to pay for tax cuts called himself a fiscal conservative on sunday and urged budget restraint in 2018 in keeping with a sharp pivot under way among republicans u s representative mark meadows speaking on cbs face the nation drew a hard line on federal spending which lawmakers are bracing to do battle over in january when they return from the holidays on wednesday lawmakers will begin trying to pass a federal budget in a fight likely to be linked to other issues such as immigration policy even as the november congressional election campaigns approach in which republicans will seek to keep control of congress president donald trump and his republicans want a big budget increase in military spending while democrats also want proportional increases for non defense discretionary spending on programs that support education scientific research infrastructure public health and environmental protection the trump administration has already been willing to say we re going to increase non defense discretionary spending by about 7 percent meadows chairman of the small but influential house freedom",
         "True"
        ],
        [
         "1",
         "0",
         "As U.S. budget fight looms, Republicans flip their fiscal script",
         "1",
         "increases for non defense discretionary spending on programs that support education scientific research infrastructure public health and environmental protection the trump administration has already been willing to say we re going to increase non defense discretionary spending by about 7 percent meadows chairman of the small but influential house freedom caucus said on the program now democrats are saying that s not enough we need to give the government a pay raise of 10 to 11 percent for a fiscal conservative i don t see where the rationale is eventually you run out of other people s money he said meadows was among republicans who voted in late december for their party s debt financed tax overhaul which is expected to balloon the federal budget deficit and add about 1 5 trillion over 10 years to the 20 trillion national debt it s interesting to hear mark talk about fiscal responsibility democratic u s representative joseph crowley said on cbs crowley said the republican tax bill would require the united states to borrow 1 5 trillion to be paid off by future generations to finance tax cuts for corporations and the rich this is one of the least fiscally responsible",
         "True"
        ],
        [
         "2",
         "0",
         "As U.S. budget fight looms, Republicans flip their fiscal script",
         "2",
         "responsibility democratic u s representative joseph crowley said on cbs crowley said the republican tax bill would require the united states to borrow 1 5 trillion to be paid off by future generations to finance tax cuts for corporations and the rich this is one of the least fiscally responsible bills we ve ever seen passed in the history of the house of representatives i think we re going to be paying for this for many many years to come crowley said republicans insist the tax package the biggest u s tax overhaul in more than 30 years will boost the economy and job growth house speaker paul ryan who also supported the tax bill recently went further than meadows making clear in a radio interview that welfare or entitlement reform as the party often calls it would be a top republican priority in 2018 in republican parlance entitlement programs mean food stamps housing assistance medicare and medicaid health insurance for the elderly poor and disabled as well as other programs created by washington to assist the needy democrats seized on ryan s early december remarks saying they showed republicans would try to pay for their tax overhaul by seeking",
         "True"
        ],
        [
         "3",
         "0",
         "As U.S. budget fight looms, Republicans flip their fiscal script",
         "3",
         "mean food stamps housing assistance medicare and medicaid health insurance for the elderly poor and disabled as well as other programs created by washington to assist the needy democrats seized on ryan s early december remarks saying they showed republicans would try to pay for their tax overhaul by seeking spending cuts for social programs but the goals of house republicans may have to take a back seat to the senate where the votes of some democrats will be needed to approve a budget and prevent a government shutdown democrats will use their leverage in the senate which republicans narrowly control to defend both discretionary non defense programs and social spending while tackling the issue of the dreamers people brought illegally to the country as children trump in september put a march 2018 expiration date on the deferred action for childhood arrivals or daca program which protects the young immigrants from deportation and provides them with work permits the president has said in recent twitter messages he wants funding for his proposed mexican border wall and other immigration law changes in exchange for agreeing to help the dreamers representative debbie dingell told cbs she did not favor linking that issue",
         "True"
        ],
        [
         "4",
         "0",
         "As U.S. budget fight looms, Republicans flip their fiscal script",
         "4",
         "from deportation and provides them with work permits the president has said in recent twitter messages he wants funding for his proposed mexican border wall and other immigration law changes in exchange for agreeing to help the dreamers representative debbie dingell told cbs she did not favor linking that issue to other policy objectives such as wall funding we need to do daca clean she said on wednesday trump aides will meet with congressional leaders to discuss those issues that will be followed by a weekend of strategy sessions for trump and republican leaders on jan 6 and 7 the white house said trump was also scheduled to meet on sunday with florida republican governor rick scott who wants more emergency aid the house has passed an 81 billion aid package after hurricanes in florida texas and puerto rico and wildfires in california the package far exceeded the 44 billion requested by the trump administration the senate has not yet voted on the aid",
         "True"
        ]
       ],
       "shape": {
        "columns": 5,
        "rows": 5
       }
      },
      "text/html": [
       "<div>\n",
       "<style scoped>\n",
       "    .dataframe tbody tr th:only-of-type {\n",
       "        vertical-align: middle;\n",
       "    }\n",
       "\n",
       "    .dataframe tbody tr th {\n",
       "        vertical-align: top;\n",
       "    }\n",
       "\n",
       "    .dataframe thead th {\n",
       "        text-align: right;\n",
       "    }\n",
       "</style>\n",
       "<table border=\"1\" class=\"dataframe\">\n",
       "  <thead>\n",
       "    <tr style=\"text-align: right;\">\n",
       "      <th></th>\n",
       "      <th>article_id</th>\n",
       "      <th>title</th>\n",
       "      <th>chunk_id</th>\n",
       "      <th>chunk_text</th>\n",
       "      <th>label</th>\n",
       "    </tr>\n",
       "  </thead>\n",
       "  <tbody>\n",
       "    <tr>\n",
       "      <th>0</th>\n",
       "      <td>0</td>\n",
       "      <td>As U.S. budget fight looms, Republicans flip t...</td>\n",
       "      <td>0</td>\n",
       "      <td>washington reuters the head of a conservative ...</td>\n",
       "      <td>True</td>\n",
       "    </tr>\n",
       "    <tr>\n",
       "      <th>1</th>\n",
       "      <td>0</td>\n",
       "      <td>As U.S. budget fight looms, Republicans flip t...</td>\n",
       "      <td>1</td>\n",
       "      <td>increases for non defense discretionary spendi...</td>\n",
       "      <td>True</td>\n",
       "    </tr>\n",
       "    <tr>\n",
       "      <th>2</th>\n",
       "      <td>0</td>\n",
       "      <td>As U.S. budget fight looms, Republicans flip t...</td>\n",
       "      <td>2</td>\n",
       "      <td>responsibility democratic u s representative j...</td>\n",
       "      <td>True</td>\n",
       "    </tr>\n",
       "    <tr>\n",
       "      <th>3</th>\n",
       "      <td>0</td>\n",
       "      <td>As U.S. budget fight looms, Republicans flip t...</td>\n",
       "      <td>3</td>\n",
       "      <td>mean food stamps housing assistance medicare a...</td>\n",
       "      <td>True</td>\n",
       "    </tr>\n",
       "    <tr>\n",
       "      <th>4</th>\n",
       "      <td>0</td>\n",
       "      <td>As U.S. budget fight looms, Republicans flip t...</td>\n",
       "      <td>4</td>\n",
       "      <td>from deportation and provides them with work p...</td>\n",
       "      <td>True</td>\n",
       "    </tr>\n",
       "  </tbody>\n",
       "</table>\n",
       "</div>"
      ],
      "text/plain": [
       "   article_id                                              title  chunk_id  \\\n",
       "0           0  As U.S. budget fight looms, Republicans flip t...         0   \n",
       "1           0  As U.S. budget fight looms, Republicans flip t...         1   \n",
       "2           0  As U.S. budget fight looms, Republicans flip t...         2   \n",
       "3           0  As U.S. budget fight looms, Republicans flip t...         3   \n",
       "4           0  As U.S. budget fight looms, Republicans flip t...         4   \n",
       "\n",
       "                                          chunk_text label  \n",
       "0  washington reuters the head of a conservative ...  True  \n",
       "1  increases for non defense discretionary spendi...  True  \n",
       "2  responsibility democratic u s representative j...  True  \n",
       "3  mean food stamps housing assistance medicare a...  True  \n",
       "4  from deportation and provides them with work p...  True  "
      ]
     },
     "metadata": {},
     "output_type": "display_data"
    }
   ],
   "source": [
    "#8. Application du découpage à tout le dataset\n",
    "all_chunks = []\n",
    "for idx, row in tqdm(df.iterrows(), total=len(df)):\n",
    "    chunks = chunk_text(row[\"clean_text\"], chunk_size=200, overlap=50)\n",
    "    for i, chunk in enumerate(chunks):\n",
    "        all_chunks.append({\n",
    "            \"article_id\": idx,\n",
    "            \"title\": row.get(\"title\", \"\"),\n",
    "            \"chunk_id\": i,\n",
    "            \"chunk_text\": chunk,\n",
    "            \"label\": row[\"label\"]\n",
    "        })\n",
    "\n",
    "df_chunks = pd.DataFrame(all_chunks)\n",
    "print(f\"✅ Nombre total de chunks : {df_chunks.shape[0]}\")\n",
    "df_chunks.head()\n"
   ]
  },
  {
   "cell_type": "code",
   "execution_count": null,
   "id": "09791627",
   "metadata": {},
   "outputs": [
    {
     "name": "stdout",
     "output_type": "stream",
     "text": [
      " Données nettoyées sauvegardées : data/processed/articles_cleaned.csv\n",
      " Chunks sauvegardés : data/processed/articles_chunks.csv\n"
     ]
    }
   ],
   "source": [
    "#9. Sauvegarde des fichiers nettoyés \n",
    "# Sauvegarde du dataset nettoyé complet\n",
    "cleaned_path = os.path.join(PROCESSED_PATH, \"articles_cleaned.csv\")\n",
    "df.to_csv(cleaned_path, index=False)\n",
    "\n",
    "# Sauvegarde du dataset chunké\n",
    "chunks_path = os.path.join(PROCESSED_PATH, \"articles_chunks.csv\")\n",
    "df_chunks.to_csv(chunks_path, index=False)\n",
    "\n",
    "print(f\" Données nettoyées sauvegardées : {cleaned_path}\")\n",
    "print(f\" Chunks sauvegardés : {chunks_path}\")\n"
   ]
  },
  {
   "cell_type": "code",
   "execution_count": null,
   "id": "49a6c4e6",
   "metadata": {},
   "outputs": [
    {
     "name": "stdout",
     "output_type": "stream",
     "text": [
      "Tous les tests basiques sont passés.\n"
     ]
    }
   ],
   "source": [
    "#10. Tests simples \n",
    "# Vérifier qu’il n’y a pas de texte vide\n",
    "assert (df_chunks[\"chunk_text\"].str.strip() != \"\").all(), \" Des chunks vides détectés !\"\n",
    "\n",
    "# Vérifier la cohérence du label\n",
    "assert set(df_chunks[\"label\"].unique()) <= {\"True\", \"Fake\"}, \"Label invalide détecté !\"\n",
    "\n",
    "print(\"Tous les tests basiques sont passés.\")"
   ]
  },
  {
   "cell_type": "markdown",
   "id": "c33f216b",
   "metadata": {},
   "source": [
    "#### ✅ Étapes réalisées :\n",
    "- Chargement et fusion des fichiers True/Fake\n",
    "- Nettoyage complet des textes (HTML, URLs, caractères spéciaux, etc.)\n",
    "- Mise en minuscules\n",
    "- Lemmatisation et suppression des stopwords (optionnelle)\n",
    "- Découpage en chunks pour la vectorisation\n",
    "- Sauvegarde des jeux de données nettoyés et prêts pour ChromaDB\n",
    "\n",
    "#### 🚀 Étape suivante :\n",
    "👉 Passer à la **vectorisation et au stockage dans ChromaDB**\n",
    "où chaque chunk sera converti en vecteur à l’aide du modèle d’embedding (Ollama).\n"
   ]
  },
  {
   "cell_type": "markdown",
   "id": "bf4e3e63",
   "metadata": {},
   "source": [
    "### Étape 2 : Vectorisation et stockage dans ChromaDB\n",
    "#### Objectif :\n",
    "##### Charger les chunks nettoyés, créer une collection dans ChromaDB,\n",
    "##### générer les embeddings via Ollama et stocker le tout avec les métadonnées."
   ]
  },
  {
   "cell_type": "code",
   "execution_count": null,
   "id": "c76fb658",
   "metadata": {},
   "outputs": [],
   "source": [
    "# 1 Installation des bibliothèques\n",
    "# #!pip install chromadb ollama --quiet\n",
    "import chromadb\n",
    "from chromadb.utils import embedding_functions"
   ]
  },
  {
   "cell_type": "code",
   "execution_count": null,
   "id": "95a34be3",
   "metadata": {},
   "outputs": [
    {
     "name": "stdout",
     "output_type": "stream",
     "text": [
      "145486 chunks chargés depuis data/processed/articles_chunks.csv\n"
     ]
    },
    {
     "data": {
      "application/vnd.microsoft.datawrangler.viewer.v0+json": {
       "columns": [
        {
         "name": "index",
         "rawType": "int64",
         "type": "integer"
        },
        {
         "name": "article_id",
         "rawType": "int64",
         "type": "integer"
        },
        {
         "name": "title",
         "rawType": "object",
         "type": "string"
        },
        {
         "name": "chunk_id",
         "rawType": "int64",
         "type": "integer"
        },
        {
         "name": "chunk_text",
         "rawType": "object",
         "type": "string"
        },
        {
         "name": "label",
         "rawType": "object",
         "type": "string"
        }
       ],
       "ref": "ccc9c929-5780-424b-b2a1-487e8e217ccd",
       "rows": [
        [
         "0",
         "0",
         "As U.S. budget fight looms, Republicans flip their fiscal script",
         "0",
         "washington reuters the head of a conservative republican faction in the u s congress who voted this month for a huge expansion of the national debt to pay for tax cuts called himself a fiscal conservative on sunday and urged budget restraint in 2018 in keeping with a sharp pivot under way among republicans u s representative mark meadows speaking on cbs face the nation drew a hard line on federal spending which lawmakers are bracing to do battle over in january when they return from the holidays on wednesday lawmakers will begin trying to pass a federal budget in a fight likely to be linked to other issues such as immigration policy even as the november congressional election campaigns approach in which republicans will seek to keep control of congress president donald trump and his republicans want a big budget increase in military spending while democrats also want proportional increases for non defense discretionary spending on programs that support education scientific research infrastructure public health and environmental protection the trump administration has already been willing to say we re going to increase non defense discretionary spending by about 7 percent meadows chairman of the small but influential house freedom",
         "True"
        ],
        [
         "1",
         "0",
         "As U.S. budget fight looms, Republicans flip their fiscal script",
         "1",
         "increases for non defense discretionary spending on programs that support education scientific research infrastructure public health and environmental protection the trump administration has already been willing to say we re going to increase non defense discretionary spending by about 7 percent meadows chairman of the small but influential house freedom caucus said on the program now democrats are saying that s not enough we need to give the government a pay raise of 10 to 11 percent for a fiscal conservative i don t see where the rationale is eventually you run out of other people s money he said meadows was among republicans who voted in late december for their party s debt financed tax overhaul which is expected to balloon the federal budget deficit and add about 1 5 trillion over 10 years to the 20 trillion national debt it s interesting to hear mark talk about fiscal responsibility democratic u s representative joseph crowley said on cbs crowley said the republican tax bill would require the united states to borrow 1 5 trillion to be paid off by future generations to finance tax cuts for corporations and the rich this is one of the least fiscally responsible",
         "True"
        ]
       ],
       "shape": {
        "columns": 5,
        "rows": 2
       }
      },
      "text/html": [
       "<div>\n",
       "<style scoped>\n",
       "    .dataframe tbody tr th:only-of-type {\n",
       "        vertical-align: middle;\n",
       "    }\n",
       "\n",
       "    .dataframe tbody tr th {\n",
       "        vertical-align: top;\n",
       "    }\n",
       "\n",
       "    .dataframe thead th {\n",
       "        text-align: right;\n",
       "    }\n",
       "</style>\n",
       "<table border=\"1\" class=\"dataframe\">\n",
       "  <thead>\n",
       "    <tr style=\"text-align: right;\">\n",
       "      <th></th>\n",
       "      <th>article_id</th>\n",
       "      <th>title</th>\n",
       "      <th>chunk_id</th>\n",
       "      <th>chunk_text</th>\n",
       "      <th>label</th>\n",
       "    </tr>\n",
       "  </thead>\n",
       "  <tbody>\n",
       "    <tr>\n",
       "      <th>0</th>\n",
       "      <td>0</td>\n",
       "      <td>As U.S. budget fight looms, Republicans flip t...</td>\n",
       "      <td>0</td>\n",
       "      <td>washington reuters the head of a conservative ...</td>\n",
       "      <td>True</td>\n",
       "    </tr>\n",
       "    <tr>\n",
       "      <th>1</th>\n",
       "      <td>0</td>\n",
       "      <td>As U.S. budget fight looms, Republicans flip t...</td>\n",
       "      <td>1</td>\n",
       "      <td>increases for non defense discretionary spendi...</td>\n",
       "      <td>True</td>\n",
       "    </tr>\n",
       "  </tbody>\n",
       "</table>\n",
       "</div>"
      ],
      "text/plain": [
       "   article_id                                              title  chunk_id  \\\n",
       "0           0  As U.S. budget fight looms, Republicans flip t...         0   \n",
       "1           0  As U.S. budget fight looms, Republicans flip t...         1   \n",
       "\n",
       "                                          chunk_text label  \n",
       "0  washington reuters the head of a conservative ...  True  \n",
       "1  increases for non defense discretionary spendi...  True  "
      ]
     },
     "metadata": {},
     "output_type": "display_data"
    }
   ],
   "source": [
    "#2. Chargement du dataset chunké\n",
    "CHUNKS_PATH = os.path.join(PROCESSED_PATH, \"articles_chunks.csv\")\n",
    "df_chunks = pd.read_csv(CHUNKS_PATH)\n",
    "print(f\"{df_chunks.shape[0]} chunks chargés depuis {CHUNKS_PATH}\")\n",
    "df_chunks.head(2)"
   ]
  },
  {
   "cell_type": "code",
   "execution_count": null,
   "id": "41245921",
   "metadata": {},
   "outputs": [
    {
     "name": "stdout",
     "output_type": "stream",
     "text": [
      " Collection 'fake_news_chunks' créée avec succès.\n"
     ]
    }
   ],
   "source": [
    "#3. Initialisation du client ChromaDB et création de la collection\n",
    "\n",
    "# Création (ou récupération) d’un client local\n",
    "client = chromadb.Client()\n",
    "\n",
    "# Nom de la collection\n",
    "collection_name = \"fake_news_chunks\"\n",
    "\n",
    "# Supprimer la collection si elle existe déjà (pour test propre)\n",
    "if collection_name in [c.name for c in client.list_collections()]:\n",
    "    client.delete_collection(name=collection_name)\n",
    "\n",
    "# Créer la collection\n",
    "collection = client.create_collection(name=collection_name)\n",
    "print(f\" Collection '{collection_name}' créée avec succès.\")"
   ]
  },
  {
   "cell_type": "code",
   "execution_count": null,
   "id": "d0e94206",
   "metadata": {},
   "outputs": [],
   "source": [
    "# 4. Définir la fonction d’embedding avec Ollama\n",
    "#rq : Assure  d’avoir lancé le serveur Ollama en parallèle : Terminal → ollama serve\n",
    "embedding_fn = embedding_functions.OllamaEmbeddingFunction(\n",
    "    model_name=\"all-minilm\"  # modèle léger conseillé\n",
    ")"
   ]
  },
  {
   "cell_type": "code",
   "execution_count": null,
   "id": "31bb309d",
   "metadata": {},
   "outputs": [
    {
     "data": {
      "application/vnd.microsoft.datawrangler.viewer.v0+json": {
       "columns": [
        {
         "name": "index",
         "rawType": "int64",
         "type": "integer"
        },
        {
         "name": "article_id",
         "rawType": "int64",
         "type": "integer"
        },
        {
         "name": "title",
         "rawType": "object",
         "type": "string"
        },
        {
         "name": "chunk_id",
         "rawType": "int64",
         "type": "integer"
        },
        {
         "name": "chunk_text",
         "rawType": "object",
         "type": "string"
        },
        {
         "name": "label",
         "rawType": "object",
         "type": "string"
        }
       ],
       "ref": "2facf45a-0f8e-47a3-9e89-751b1af5c633",
       "rows": [
        [
         "0",
         "26204",
         " WATCH: One Of Trump’s Biggest Supporters Is Outed As A Complete Fraud On The Air",
         "3",
         "supporting donald trump for president for too long african american votes have been taken for granted by democratic politicians and enough is enough so burns literally played the race card which something conservatives hypocritically often claim that liberals do so not only is burns a liar he s a hypocrite and one has to wonder what else he is hiding featured image stephen maturen getty images",
         "Fake"
        ],
        [
         "1",
         "22451",
         " Joe Biden Is Downright Ruthless When Rich ‘A**hole’ Callously Disrespects His Dead Son",
         "0",
         "joe biden was speaking at the skybridge alternatives salt conference when one rich a hole decided to disrespect the former vice president s dead son biden was furious and he put the heckler in his place effortlessly bill ackman manager of a failing hedge fund was speaking at the wall street event as well fox business reports that during the private vip dinner former florida governor and 2016 gop presidential contender jeb bush asked biden why didn t you run biden explained that part of the decision stemmed from the death of his son beau biden who died of brain cancer in 2015 the room grew quiet as biden became emotional and said i m sorry i ve said enough that s when ackman blurted out why that s never stopped you before the formal and understated dinner conversation suddenly turned tense according to three people who were present and confirmed both the substance and the wording of biden s responses biden these people say turned to someone seated near him and asked who is this asshole a reference to ackman then he turned directly to ackman and stated look i don t know who you are wiseass but never",
         "Fake"
        ]
       ],
       "shape": {
        "columns": 5,
        "rows": 2
       }
      },
      "text/html": [
       "<div>\n",
       "<style scoped>\n",
       "    .dataframe tbody tr th:only-of-type {\n",
       "        vertical-align: middle;\n",
       "    }\n",
       "\n",
       "    .dataframe tbody tr th {\n",
       "        vertical-align: top;\n",
       "    }\n",
       "\n",
       "    .dataframe thead th {\n",
       "        text-align: right;\n",
       "    }\n",
       "</style>\n",
       "<table border=\"1\" class=\"dataframe\">\n",
       "  <thead>\n",
       "    <tr style=\"text-align: right;\">\n",
       "      <th></th>\n",
       "      <th>article_id</th>\n",
       "      <th>title</th>\n",
       "      <th>chunk_id</th>\n",
       "      <th>chunk_text</th>\n",
       "      <th>label</th>\n",
       "    </tr>\n",
       "  </thead>\n",
       "  <tbody>\n",
       "    <tr>\n",
       "      <th>0</th>\n",
       "      <td>26204</td>\n",
       "      <td>WATCH: One Of Trump’s Biggest Supporters Is O...</td>\n",
       "      <td>3</td>\n",
       "      <td>supporting donald trump for president for too ...</td>\n",
       "      <td>Fake</td>\n",
       "    </tr>\n",
       "    <tr>\n",
       "      <th>1</th>\n",
       "      <td>22451</td>\n",
       "      <td>Joe Biden Is Downright Ruthless When Rich ‘A*...</td>\n",
       "      <td>0</td>\n",
       "      <td>joe biden was speaking at the skybridge altern...</td>\n",
       "      <td>Fake</td>\n",
       "    </tr>\n",
       "  </tbody>\n",
       "</table>\n",
       "</div>"
      ],
      "text/plain": [
       "   article_id                                              title  chunk_id  \\\n",
       "0       26204   WATCH: One Of Trump’s Biggest Supporters Is O...         3   \n",
       "1       22451   Joe Biden Is Downright Ruthless When Rich ‘A*...         0   \n",
       "\n",
       "                                          chunk_text label  \n",
       "0  supporting donald trump for president for too ...  Fake  \n",
       "1  joe biden was speaking at the skybridge altern...  Fake  "
      ]
     },
     "metadata": {},
     "output_type": "display_data"
    }
   ],
   "source": [
    "# 5. Sélection d’un petit échantillon (pour test rapide)\n",
    "\n",
    "# Pour éviter un traitement trop long au début\n",
    "sample_df = df_chunks.sample(10, random_state=42).reset_index(drop=True)\n",
    "sample_df.head(2)"
   ]
  },
  {
   "cell_type": "code",
   "execution_count": null,
   "id": "1c93c949",
   "metadata": {},
   "outputs": [
    {
     "name": "stdout",
     "output_type": "stream",
     "text": [
      " 10 chunks ajoutés à la collection 'fake_news_chunks'.\n"
     ]
    }
   ],
   "source": [
    "# 6. Ajout des chunks dans ChromaDB\n",
    "for idx, row in sample_df.iterrows():\n",
    "    chunk_id = f\"{row['article_id']}_{row['chunk_id']}\"\n",
    "    metadata = {\n",
    "        \"title\": row.get(\"title\", \"\"),\n",
    "        \"label\": row[\"label\"],\n",
    "        \"article_id\": int(row[\"article_id\"]),\n",
    "    }\n",
    "\n",
    "    collection.add(\n",
    "        ids=[chunk_id],\n",
    "        documents=[row[\"chunk_text\"]],\n",
    "        metadatas=[metadata],\n",
    "        embeddings=embedding_fn([row[\"chunk_text\"]])\n",
    "    )\n",
    "\n",
    "print(f\" {len(sample_df)} chunks ajoutés à la collection '{collection_name}'.\")\n"
   ]
  },
  {
   "cell_type": "code",
   "execution_count": null,
   "id": "64707ccc",
   "metadata": {},
   "outputs": [
    {
     "name": "stdout",
     "output_type": "stream",
     "text": [
      " Exemple de document stocké :\n"
     ]
    },
    {
     "data": {
      "text/plain": [
       "{'ids': ['26204_3',\n",
       "  '22451_0',\n",
       "  '16967_3',\n",
       "  '39130_2',\n",
       "  '44364_0',\n",
       "  '31827_11',\n",
       "  '32417_2',\n",
       "  '7251_1',\n",
       "  '21995_0',\n",
       "  '10910_0'],\n",
       " 'embeddings': array([[ 0.03148066,  0.06609543, -0.00260025, ..., -0.01345606,\n",
       "         -0.00472292,  0.00255966],\n",
       "        [-0.04013475, -0.01899961,  0.02693708, ...,  0.00223051,\n",
       "         -0.12071282,  0.03988767],\n",
       "        [-0.00988505,  0.04822049,  0.02915613, ...,  0.01965448,\n",
       "         -0.03194366,  0.02829264],\n",
       "        ...,\n",
       "        [ 0.04085801, -0.00852068,  0.0645113 , ..., -0.05173074,\n",
       "          0.04013757, -0.03626084],\n",
       "        [-0.01746017, -0.0362521 ,  0.10753163, ..., -0.0122874 ,\n",
       "          0.00103011, -0.02215472],\n",
       "        [-0.0513751 , -0.01095264,  0.01819525, ..., -0.09877898,\n",
       "          0.01238176,  0.09949215]], shape=(10, 384)),\n",
       " 'documents': ['supporting donald trump for president for too long african american votes have been taken for granted by democratic politicians and enough is enough so burns literally played the race card which something conservatives hypocritically often claim that liberals do so not only is burns a liar he s a hypocrite and one has to wonder what else he is hiding featured image stephen maturen getty images',\n",
       "  'joe biden was speaking at the skybridge alternatives salt conference when one rich a hole decided to disrespect the former vice president s dead son biden was furious and he put the heckler in his place effortlessly bill ackman manager of a failing hedge fund was speaking at the wall street event as well fox business reports that during the private vip dinner former florida governor and 2016 gop presidential contender jeb bush asked biden why didn t you run biden explained that part of the decision stemmed from the death of his son beau biden who died of brain cancer in 2015 the room grew quiet as biden became emotional and said i m sorry i ve said enough that s when ackman blurted out why that s never stopped you before the formal and understated dinner conversation suddenly turned tense according to three people who were present and confirmed both the substance and the wording of biden s responses biden these people say turned to someone seated near him and asked who is this asshole a reference to ackman then he turned directly to ackman and stated look i don t know who you are wiseass but never',\n",
       "  'groups the bloc s asylum system broke down under the sheer numbers and the cherished schengen zone of control free travel was strained as member states introduced emergency border checks eu states have since sought to agree on how to change their asylum laws with bitter disputes deepening east west divides tusk said on thursday the 28 eu leaders would discuss the issue again in december and were aiming for an agreement by mid 2018 earlier this week the european parliament agreed its own stance on asylum reform including an option to cut eu funds to states that refuse to host asylum seekers reaching the bloc it proposed moving away from the current rule mandating that the first country through which a person enters the eu must handle his or her asylum request saying it puts too much burden on frontline states like italy greece malta or spain southern frontline states want a scheme that would automatically lift people off their soil during periods of exceptionally high immigration and take them elsewhere in the eu westerners like germany and sweden which eventually receive most of the refugees have said more of the burden must be shared and that solidarity was',\n",
       "  'first time that a liberal media outlet has been accused of white washing an image of a high profile killer to fit a certain liberal narrative conservative treehouse accused cnn of whitewashing the selfie image of oregon umpqua college killer christopher mercer that he uploaded to his facebook page on the right is how cnn presented the same selfie in broadcast stories about him why did cnn need to change the complexion color of their broadcast what are your thoughts do you believe cbs intentionally white washed the image of the new york city terrorist we d like to hear what you have to say please tell us what you think in the comment section below',\n",
       "  'patrick henningsen 21st century wirejust as 21wire reported last week the us mainstream media are still black balling any substantial reporting about us boots on the ground in syria instead america s media are obsessing over trump s tax returns various russian conspiracy theories and michael flynn s moscow public speaking engagement in 2015 with this latest pentagon announcement of an additional 1 000 us troops to syria that would bring the total combat deployment to approximately 4 000 inside of syria considering the amount of media coverage and political debate over the 5 000 us military personnel send to iraq over the last 3 years one must ask why the silence in us media about the stealth build up for a major battle in raqqa syria previously 21wire reported how the united states has sent in combat troops to support ypg fighters kurdish people s protect units in syria much to the dismay of turkey and to the annoyance of both russian and syrian planners turkey has been pressing the us to change its strategy for fighting islamic state in syria by abandoning the ypg whom it deems as terrorists in league with the kurdish pkk in turkey the',\n",
       "  's leaks to confabulate that russian s hacked the dnc to influence the elections is the claim of one well known russian spy then 17 u s intelligence agencies unanimously confirm that alperovitch is correct even though there is no evidence and no investigation was ever conducted how does dmitri alperovitch have such power why did obama again and again use alperovitch s company crowdstrike when they have miserably failed to stop further cyber attacks on the systems they were hired to protect why should anyone believe crowdstrikes false flag report after documents from the dnc continued to leak and guccifer 2 0 and wikileaks made crowdstrike s report look foolish alperovitch decided the situation was far worse than he had reported he single handedly concluded that the russians were conducting an influence operation to help win the election for trump this false assertion had absolutely no evidence to back it up on july 22 three days before the democratic convention in philadelphia wikileaks dumped a massive cache of emails that had been stolen not hacked from the dnc reporters soon found emails suggesting that the dnc leadership had favored hillary clinton in her primary race against bernie sanders which',\n",
       "  'd expect from the left she must be one of liz warren s nasty women read more wnd',\n",
       "  'to hatemongers many urged him to reconsider bringing steve bannon into the white house is an alarming signal that president elect trump remains committed to the hateful and divisive vision that defined his campaign house democratic leader nancy pelosi said in a statement on monday there must be no sugar coating the reality that a white nationalist has been named chief strategist for the trump administration pelosi said the southern poverty law center the anti defamation league and the council on american islamic relations cair also denounced bannon bannon who grew up in a democratic family has a reputation of trying to tear down a republican party establishment that he deemed too soft and too entrenched as a senior adviser to the republican trump bannon will be expected by far right groups to champion their views and make sure that trump who takes office on jan 20 keeps such campaign promises as building a wall on the southern u s border cracking down on muslims entering the country and restricting the influx of syrian war refugees perhaps the donald is for real rocky suhayda chairman of the american nazi party told cnn david duke a longtime leader of ku klux',\n",
       "  'according to a new report saturday from axios a source very close to donald trump has indicated that trump believes his chief strategist steve bannon is to blame for leaks coming out of the white house regarding other members of trump s staff it would be easy to say at this point that bannon s position at trump s right hand is in jeopardy but the fact that trump is simply talking about it instead of firing him already may indicate otherwise this could be an elaborate test to see if the news that trump suspects bannon makes it out of the white house which of course it has meaning whoever the president told about his suspicions is if not the leaker at least also a leaker or it could be that bannon is innocent and the axios source is the leaker trying to throw everyone off the trail most likely however is that donald trump is a loose lipped dipshit who doesn t care who his audience is he just wants to look like he knows what he s doing even having a suspicion means he s thinking about it right bannon has not commented on the news nor',\n",
       "  'washington reuters u s deputy defense secretary robert work said the pentagon s plan to truncate the littoral combat ship program at 40 ships instead of 52 reflected budget pressures and was not an indictment of the program lockheed martin corp lmt n and australia s austal asb ax each build different models of the smaller fast coastal warships carter said he wants the navy to have a competition and pick just one supplier for future ships work said the pentagon decided to buy two of the ships in fiscal 2017 instead of scaling orders back to just one ship as defense secretary ash carter had ordered in a memo late last year at the navy s request he said the move was meant to help ensure a smooth transition to a future competition by keeping both shipbuilders working for another year'],\n",
       " 'uris': None,\n",
       " 'included': ['metadatas', 'documents', 'embeddings'],\n",
       " 'data': None,\n",
       " 'metadatas': [{'article_id': 26204,\n",
       "   'title': ' WATCH: One Of Trump’s Biggest Supporters Is Outed As A Complete Fraud On The Air',\n",
       "   'label': 'Fake'},\n",
       "  {'article_id': 22451,\n",
       "   'title': ' Joe Biden Is Downright Ruthless When Rich ‘A**hole’ Callously Disrespects His Dead Son',\n",
       "   'label': 'Fake'},\n",
       "  {'title': 'EU leaders seek greater reductions in Africa immigration',\n",
       "   'article_id': 16967,\n",
       "   'label': 'True'},\n",
       "  {'label': 'Fake',\n",
       "   'title': 'IMAM SLAMS CBS News For Trying To “Make Terrorist White”…”I’m Glad They Didn’t Make His Eyes Blue As Well”',\n",
       "   'article_id': 39130},\n",
       "  {'label': 'Fake',\n",
       "   'article_id': 44364,\n",
       "   'title': 'BEYOND MISSION CREEP: U.S. Planning to Send 1,000 More Ground Troops into Syria'},\n",
       "  {'title': 'BREAKING: PETER W. SMITH, GOP Operative Who Sought Hillary Clinton’s Missing Emails FOUND DEAD In Hotel Room',\n",
       "   'label': 'Fake',\n",
       "   'article_id': 31827},\n",
       "  {'title': 'CITIZEN JOURNALIST Enters WH Press Room Yells Questions To Press…Liberals Have A Hissy Fit! [VIDEO]',\n",
       "   'article_id': 32417,\n",
       "   'label': 'Fake'},\n",
       "  {'article_id': 7251,\n",
       "   'title': 'Bannon role in Trump administration sets off critical firestorm',\n",
       "   'label': 'True'},\n",
       "  {'title': ' Trump Suspects Bannon Is The White House Leaker. But Who Leaked THAT?',\n",
       "   'label': 'Fake',\n",
       "   'article_id': 21995},\n",
       "  {'label': 'True',\n",
       "   'title': \"Pentagon's No. 2 says cut in LCS ship program 'not an indictment'\",\n",
       "   'article_id': 10910}]}"
      ]
     },
     "metadata": {},
     "output_type": "display_data"
    }
   ],
   "source": [
    "# 7. Vérification du stockage\n",
    "results = collection.peek()\n",
    "print(\" Exemple de document stocké :\")\n",
    "results"
   ]
  },
  {
   "cell_type": "code",
   "execution_count": null,
   "id": "7725f809",
   "metadata": {},
   "outputs": [
    {
     "name": "stdout",
     "output_type": "stream",
     "text": [
      " Résultats de la recherche sémantique :\n",
      "- [Fake] s leaks to confabulate that russian s hacked the dnc to influence the elections is the claim of one well known russian spy then 17 u s intelligence ag...\n",
      "\n",
      "- [Fake] supporting donald trump for president for too long african american votes have been taken for granted by democratic politicians and enough is enough s...\n",
      "\n",
      "- [Fake] joe biden was speaking at the skybridge alternatives salt conference when one rich a hole decided to disrespect the former vice president s dead son b...\n",
      "\n"
     ]
    }
   ],
   "source": [
    "# 8. Test rapide de recherche sémantique\n",
    "query = \"The president made a false statement about the election\"\n",
    "results = collection.query(query_texts=[query], n_results=3)\n",
    "\n",
    "print(\" Résultats de la recherche sémantique :\")\n",
    "for doc, meta in zip(results[\"documents\"][0], results[\"metadatas\"][0]):\n",
    "    print(f\"- [{meta['label']}] {doc[:150]}...\\n\")"
   ]
  },
  {
   "cell_type": "code",
   "execution_count": null,
   "id": "4f5cb9df",
   "metadata": {},
   "outputs": [
    {
     "name": "stdout",
     "output_type": "stream",
     "text": [
      "\n",
      "Étape 2 terminée : les chunks ont été vectorisés et stockés dans ChromaDB.\n",
      "\n",
      "🎯 Prochaines étapes :\n",
      "→ Développer le pipeline RAG :\n",
      "   1. Récupération d’un article soumis par l’utilisateur\n",
      "   2. Recherche sémantique des chunks similaires\n",
      "   3. Envoi du contexte au modèle Ollama pour verdict (True/Fake) et justification\n",
      "\n"
     ]
    }
   ],
   "source": [
    "# 9. Sauvegarde et fin de l’étape 2\n",
    "print(\"\"\"\n",
    "Étape 2 terminée : les chunks ont été vectorisés et stockés dans ChromaDB.\n",
    "\n",
    "🎯 Prochaines étapes :\n",
    "→ Développer le pipeline RAG :\n",
    "   1. Récupération d’un article soumis par l’utilisateur\n",
    "   2. Recherche sémantique des chunks similaires\n",
    "   3. Envoi du contexte au modèle Ollama pour verdict (True/Fake) et justification\n",
    "\"\"\")"
   ]
  },
  {
   "cell_type": "markdown",
   "id": "a34ab602",
   "metadata": {},
   "source": [
    "#### Étape 3 — Système RAG : Recherche et génération de verdict\n",
    "##### Objectif :\n",
    "##### Prendre un texte soumis par l'utilisateur, rechercher les chunks les plus similaires\n",
    "##### dans ChromaDB et générer un verdict TRUE/FAKE avec justification via Ollama.\n"
   ]
  },
  {
   "cell_type": "code",
   "execution_count": null,
   "id": "00ae1e5c",
   "metadata": {},
   "outputs": [
    {
     "name": "stdout",
     "output_type": "stream",
     "text": [
      "Collection 'fake_news_chunks' récupérée.\n",
      "145486 chunks chargés depuis data/processed/articles_chunks.csv\n",
      "0 chunks déjà présents dans la collection.\n"
     ]
    },
    {
     "name": "stderr",
     "output_type": "stream",
     "text": [
      "Ajout chunks: 100%|██████████| 2910/2910 [1:07:25<00:00,  1.39s/it]   \n"
     ]
    },
    {
     "name": "stdout",
     "output_type": "stream",
     "text": [
      "✅ Tous les chunks ajoutés (ou ignorés si déjà présents).\n",
      "Exemple de document stocké : s...\n"
     ]
    },
    {
     "ename": "ValueError",
     "evalue": "Expected embeddings to be a list of floats or ints, a list of lists, a numpy array, or a list of numpy arrays, got [[array([-1.81416776e-02, -1.66259743e-02,  2.08692756e-02, -1.75619125e-02,\n        1.80299189e-02,  2.60097906e-02,  5.11432113e-03,  1.14210762e-01,\n       -2.04584561e-02,  5.41193597e-02, -2.44015623e-02, -1.26532063e-01,\n        7.31085055e-03, -1.38087375e-02, -8.85488391e-02, -5.60243055e-02,\n       -4.70394045e-02,  1.15937643e-01, -1.96584035e-02,  2.52075624e-02,\n        1.93452239e-02, -5.84553555e-02, -2.57454417e-03, -1.32696088e-02,\n       -3.99976000e-02, -1.97132248e-02, -7.61035038e-03, -3.05432659e-02,\n        1.28386142e-02, -3.06564849e-02,  9.19936523e-02,  2.72286125e-02,\n        9.28371400e-02, -2.16248930e-02,  4.68153805e-02, -1.35617855e-03,\n        3.60254794e-02, -4.95285392e-02,  1.55769046e-02,  5.89962769e-03,\n       -7.28993416e-02, -2.07973160e-02, -7.61383250e-02, -5.29609285e-02,\n        2.79479902e-02,  2.00565234e-02,  4.91947271e-02,  4.37306762e-02,\n       -7.02829510e-02,  1.23015242e-02, -1.89531855e-02,  2.11297404e-02,\n        3.14982273e-02, -2.05652136e-03, -9.60241072e-03,  1.37864072e-02,\n        2.37291958e-02, -8.78743976e-02,  4.92315702e-02, -2.19135825e-03,\n        4.39996235e-02, -2.95393355e-02, -2.91786175e-02, -9.43556428e-03,\n       -2.87558287e-02, -4.87520248e-02, -5.78259164e-03, -2.60894578e-02,\n       -5.39330989e-02, -4.52844352e-02,  7.68463612e-02, -7.29381442e-02,\n        1.05015468e-03, -9.09902826e-02, -7.49805244e-03, -4.59635332e-02,\n       -1.40542549e-03,  8.46854597e-02,  1.61583759e-02, -1.25481978e-01,\n        5.51161580e-02,  5.71524084e-04, -2.43967008e-02, -1.33256204e-02,\n        9.74393561e-02, -6.52966497e-04, -4.29940633e-02, -8.24591964e-02,\n        3.44937816e-02,  2.87129432e-02, -6.32645339e-02, -2.91882716e-02,\n       -7.88721889e-02, -6.53800694e-03,  4.30724397e-03, -1.40770227e-02,\n       -1.88309420e-02, -5.12991063e-02,  6.45918325e-02,  7.57026821e-02,\n        4.38501732e-03, -2.74874866e-02, -4.59654396e-03,  2.96238288e-02,\n       -4.31326255e-02, -5.24360202e-02, -3.25406790e-02, -6.86536776e-03,\n        4.29855473e-02,  3.07425065e-03,  6.54570106e-03, -8.69413689e-02,\n        1.56564470e-02, -3.66489552e-02, -1.30760726e-02,  5.17454557e-03,\n       -2.03638175e-03, -1.04338109e-01, -4.22384925e-02,  1.79715548e-02,\n        5.87458946e-02, -2.14619376e-02, -5.22247069e-02, -1.03523836e-01,\n        3.81596424e-02, -4.12811413e-02,  6.05484545e-02,  1.10655556e-33,\n       -6.66319206e-02,  2.76356842e-02, -3.35655781e-03, -2.55682431e-02,\n        9.92549397e-03,  7.36811608e-02, -7.02281967e-02,  7.64670363e-03,\n        9.10629109e-02, -7.95632899e-02,  2.32465938e-02,  1.04957908e-01,\n       -7.29348361e-02,  5.38891517e-02, -3.53792198e-02, -3.37260403e-02,\n       -8.40844866e-03, -3.00222076e-02,  4.89534996e-02, -1.26366261e-02,\n       -8.99075344e-02, -1.10813035e-02,  4.00574207e-02,  8.01657736e-02,\n        1.22173227e-01, -6.47783875e-02, -4.38011140e-02, -4.41191047e-02,\n       -2.73925327e-02,  6.71576113e-02,  7.92337358e-02,  6.54464075e-03,\n       -1.00661274e-02,  3.67499702e-02, -2.23749839e-02, -8.12403262e-02,\n       -3.92097346e-02,  6.38847128e-02,  1.28336670e-02,  1.82139855e-02,\n        2.87800301e-02,  7.41283363e-03,  4.55824696e-02,  4.23449837e-03,\n        3.49725522e-02,  3.59913260e-02,  8.02978501e-02,  5.02240062e-02,\n        8.64610001e-02,  4.07084338e-02, -7.96093512e-03,  1.92554086e-03,\n       -4.63032089e-02, -8.00290331e-02, -4.77272086e-02, -2.86084972e-02,\n       -1.23735860e-01,  3.24559323e-02, -3.50524262e-02, -6.03862330e-02,\n        9.91642941e-04,  6.61191791e-02, -1.05247796e-01,  7.63273463e-02,\n        1.59123521e-02,  2.17616577e-02,  8.24168418e-03,  1.62561461e-02,\n        7.54784942e-02, -1.68153048e-02, -8.64544287e-02,  4.23686672e-03,\n        3.82770300e-02,  7.49947876e-03, -2.78053824e-02,  1.74654163e-02,\n       -1.39904916e-02,  9.35532972e-02, -7.00943917e-02, -9.11278725e-02,\n       -1.36029810e-01, -1.06059283e-03,  2.46038772e-02,  8.55907798e-03,\n        1.16738919e-02,  4.17205952e-02, -4.04006392e-02,  8.00839514e-02,\n        8.12607780e-02, -2.37065703e-02,  2.42984407e-02, -1.87820643e-02,\n        5.57658682e-03, -2.79807393e-02,  5.28476536e-02, -3.94585499e-33,\n       -3.04554459e-02,  5.89340739e-03, -7.17174187e-02,  1.00886479e-01,\n        1.83999557e-02,  1.82716008e-02, -2.37342715e-02,  1.98721737e-02,\n       -5.33776730e-02, -5.80095612e-02, -1.94861740e-02, -1.27441937e-03,\n        4.37282547e-02,  3.58496346e-02, -4.34466312e-03,  5.91771677e-02,\n        5.43891601e-02, -3.02244201e-02, -3.25342380e-02, -3.23375803e-03,\n       -4.89868075e-02,  1.13868592e-02,  3.98165360e-02, -2.11478658e-02,\n       -3.79335433e-02,  4.94276546e-02, -1.72988828e-02, -5.61733656e-02,\n       -3.78032140e-02, -2.04891451e-02, -5.51906675e-02,  5.35917357e-02,\n        4.84313397e-03,  5.14104590e-02,  4.25128713e-02,  3.08950059e-02,\n        5.12565002e-02, -6.72303140e-02, -4.53007370e-02,  1.23613656e-01,\n        4.13516238e-02,  1.78804845e-02,  1.21006854e-01, -3.88584711e-04,\n        4.07253914e-02, -2.83207907e-03, -9.01347697e-02, -4.90993820e-02,\n       -2.59401575e-02, -2.95592844e-02,  8.41128603e-02,  7.09064454e-02,\n       -2.02284590e-03, -5.65600693e-02,  4.60151257e-03,  2.55642515e-02,\n        4.77660075e-03, -1.41580766e-02, -3.87006961e-02,  2.20300071e-02,\n        1.29491901e-02,  8.81825611e-02,  2.15904061e-02,  1.73341259e-02,\n        4.61759530e-02, -1.68991592e-02, -7.55551606e-02,  5.33244852e-03,\n        8.27585086e-02, -4.37890068e-02,  8.22682306e-02, -1.85952242e-02,\n        2.35242043e-02, -9.84358974e-03, -1.07502401e-01, -1.44100245e-02,\n        2.35644765e-02, -4.29471284e-02, -5.47030987e-03,  7.17982501e-02,\n       -1.88406885e-01,  1.20784948e-02, -1.82572738e-04, -2.50233319e-02,\n       -9.54219420e-03, -6.09017350e-02, -8.74610990e-02, -1.19233511e-01,\n        9.84412804e-03,  8.65848549e-03,  2.10554171e-02, -2.15266086e-02,\n        6.41944213e-03, -3.24889570e-02,  3.12490091e-02, -2.80768688e-08,\n        5.79047576e-02, -6.02087118e-02, -3.31818573e-02,  6.08723275e-02,\n        9.49332565e-02, -9.86907557e-02, -8.84439945e-02, -1.73210874e-02,\n       -1.32242357e-02,  1.04568563e-01,  4.17743102e-02,  5.71891293e-02,\n       -1.06556676e-02,  3.08186375e-03, -6.89918222e-03,  1.41573669e-02,\n        3.64562720e-02,  4.18349504e-02, -3.27289850e-02, -1.77371241e-02,\n       -2.26026513e-02,  1.34775866e-04, -1.03648484e-01, -3.92168276e-02,\n        2.33920719e-02, -1.91910751e-02, -1.18469782e-02, -7.07365200e-02,\n       -1.80784967e-02, -2.69319266e-02,  1.23750055e-02,  9.29086730e-02,\n       -2.94811316e-02, -4.42885384e-02, -2.85701118e-02, -2.31111608e-02,\n        8.67537223e-03, -1.78207038e-03, -3.07511892e-02, -5.38811795e-02,\n        8.15680772e-02,  1.37401953e-01,  2.19658129e-02, -2.26259902e-02,\n        3.38022448e-02, -7.37039447e-02,  1.01881828e-02, -3.50451842e-02,\n        1.03989318e-01,  7.62895942e-02, -5.47086336e-02,  2.82042660e-02,\n        7.34892935e-02,  3.51952501e-02,  1.91022456e-02, -1.91932991e-02,\n        3.10733058e-02, -3.63898985e-02, -5.92436194e-02, -3.21865678e-02,\n       -2.34406762e-04,  7.82383680e-02,  2.77346224e-02, -1.53026460e-02],\n      dtype=float32)]] in query.",
     "output_type": "error",
     "traceback": [
      "\u001b[31m---------------------------------------------------------------------------\u001b[39m\n",
      "\u001b[31mValueError\u001b[39m                                Traceback (most recent call last)\n",
      "\u001b[36mCell\u001b[39m\u001b[36m \u001b[39m\u001b[32mIn[45]\u001b[39m\u001b[32m, line 164\u001b[39m\n",
      "\u001b[32m    161\u001b[39m \u001b[38;5;66;03m# -------------------------------\u001b[39;00m\n",
      "\u001b[32m    162\u001b[39m \u001b[38;5;66;03m# 9️⃣ Test rapide\u001b[39;00m\n",
      "\u001b[32m    163\u001b[39m user_query = \u001b[33m\"\u001b[39m\u001b[33mLe président a annoncé une nouvelle mesure économique visant à réduire le chômage.\u001b[39m\u001b[33m\"\u001b[39m\n",
      "\u001b[32m--> \u001b[39m\u001b[32m164\u001b[39m \u001b[43mrag_verdict\u001b[49m\u001b[43m(\u001b[49m\u001b[43muser_query\u001b[49m\u001b[43m,\u001b[49m\u001b[43m \u001b[49m\u001b[43mk\u001b[49m\u001b[43m=\u001b[49m\u001b[32;43m5\u001b[39;49m\u001b[43m)\u001b[49m\n",
      "\n",
      "\u001b[36mCell\u001b[39m\u001b[36m \u001b[39m\u001b[32mIn[45]\u001b[39m\u001b[32m, line 127\u001b[39m, in \u001b[36mrag_verdict\u001b[39m\u001b[34m(user_text, k, max_context_tokens)\u001b[39m\n",
      "\u001b[32m    124\u001b[39m query_emb = [user_emb.tolist()] \u001b[38;5;28;01mif\u001b[39;00m \u001b[38;5;28misinstance\u001b[39m(user_emb, np.ndarray) \u001b[38;5;28;01melse\u001b[39;00m [user_emb]\n",
      "\u001b[32m    126\u001b[39m \u001b[38;5;66;03m# Recherche des chunks similaires\u001b[39;00m\n",
      "\u001b[32m--> \u001b[39m\u001b[32m127\u001b[39m results = \u001b[43mcollection\u001b[49m\u001b[43m.\u001b[49m\u001b[43mquery\u001b[49m\u001b[43m(\u001b[49m\u001b[43mquery_embeddings\u001b[49m\u001b[43m=\u001b[49m\u001b[43mquery_emb\u001b[49m\u001b[43m,\u001b[49m\u001b[43m \u001b[49m\u001b[43mn_results\u001b[49m\u001b[43m=\u001b[49m\u001b[43mk\u001b[49m\u001b[43m)\u001b[49m\n",
      "\u001b[32m    129\u001b[39m docs = results.get(\u001b[33m\"\u001b[39m\u001b[33mdocuments\u001b[39m\u001b[33m\"\u001b[39m, [[]])[\u001b[32m0\u001b[39m]\n",
      "\u001b[32m    130\u001b[39m metas = results.get(\u001b[33m\"\u001b[39m\u001b[33mmetadatas\u001b[39m\u001b[33m\"\u001b[39m, [[]])[\u001b[32m0\u001b[39m]\n",
      "\n",
      "\u001b[36mFile \u001b[39m\u001b[32m~/Fake-News-Detect/.venv/lib/python3.12/site-packages/chromadb/api/models/Collection.py:213\u001b[39m, in \u001b[36mCollection.query\u001b[39m\u001b[34m(self, query_embeddings, query_texts, query_images, query_uris, ids, n_results, where, where_document, include)\u001b[39m\n",
      "\u001b[32m    168\u001b[39m \u001b[38;5;28;01mdef\u001b[39;00m\u001b[38;5;250m \u001b[39m\u001b[34mquery\u001b[39m(\n",
      "\u001b[32m    169\u001b[39m     \u001b[38;5;28mself\u001b[39m,\n",
      "\u001b[32m    170\u001b[39m     query_embeddings: Optional[\n",
      "\u001b[32m   (...)\u001b[39m\u001b[32m    187\u001b[39m     ],\n",
      "\u001b[32m    188\u001b[39m ) -> QueryResult:\n",
      "\u001b[32m    189\u001b[39m \u001b[38;5;250m    \u001b[39m\u001b[33;03m\"\"\"Get the n_results nearest neighbor embeddings for provided query_embeddings or query_texts.\u001b[39;00m\n",
      "\u001b[32m    190\u001b[39m \n",
      "\u001b[32m    191\u001b[39m \u001b[33;03m    Args:\u001b[39;00m\n",
      "\u001b[32m   (...)\u001b[39m\u001b[32m    210\u001b[39m \n",
      "\u001b[32m    211\u001b[39m \u001b[33;03m    \"\"\"\u001b[39;00m\n",
      "\u001b[32m--> \u001b[39m\u001b[32m213\u001b[39m     query_request = \u001b[38;5;28;43mself\u001b[39;49m\u001b[43m.\u001b[49m\u001b[43m_validate_and_prepare_query_request\u001b[49m\u001b[43m(\u001b[49m\n",
      "\u001b[32m    214\u001b[39m \u001b[43m        \u001b[49m\u001b[43mquery_embeddings\u001b[49m\u001b[43m=\u001b[49m\u001b[43mquery_embeddings\u001b[49m\u001b[43m,\u001b[49m\n",
      "\u001b[32m    215\u001b[39m \u001b[43m        \u001b[49m\u001b[43mquery_texts\u001b[49m\u001b[43m=\u001b[49m\u001b[43mquery_texts\u001b[49m\u001b[43m,\u001b[49m\n",
      "\u001b[32m    216\u001b[39m \u001b[43m        \u001b[49m\u001b[43mquery_images\u001b[49m\u001b[43m=\u001b[49m\u001b[43mquery_images\u001b[49m\u001b[43m,\u001b[49m\n",
      "\u001b[32m    217\u001b[39m \u001b[43m        \u001b[49m\u001b[43mquery_uris\u001b[49m\u001b[43m=\u001b[49m\u001b[43mquery_uris\u001b[49m\u001b[43m,\u001b[49m\n",
      "\u001b[32m    218\u001b[39m \u001b[43m        \u001b[49m\u001b[43mids\u001b[49m\u001b[43m=\u001b[49m\u001b[43mids\u001b[49m\u001b[43m,\u001b[49m\n",
      "\u001b[32m    219\u001b[39m \u001b[43m        \u001b[49m\u001b[43mn_results\u001b[49m\u001b[43m=\u001b[49m\u001b[43mn_results\u001b[49m\u001b[43m,\u001b[49m\n",
      "\u001b[32m    220\u001b[39m \u001b[43m        \u001b[49m\u001b[43mwhere\u001b[49m\u001b[43m=\u001b[49m\u001b[43mwhere\u001b[49m\u001b[43m,\u001b[49m\n",
      "\u001b[32m    221\u001b[39m \u001b[43m        \u001b[49m\u001b[43mwhere_document\u001b[49m\u001b[43m=\u001b[49m\u001b[43mwhere_document\u001b[49m\u001b[43m,\u001b[49m\n",
      "\u001b[32m    222\u001b[39m \u001b[43m        \u001b[49m\u001b[43minclude\u001b[49m\u001b[43m=\u001b[49m\u001b[43minclude\u001b[49m\u001b[43m,\u001b[49m\n",
      "\u001b[32m    223\u001b[39m \u001b[43m    \u001b[49m\u001b[43m)\u001b[49m\n",
      "\u001b[32m    225\u001b[39m     query_results = \u001b[38;5;28mself\u001b[39m._client._query(\n",
      "\u001b[32m    226\u001b[39m         collection_id=\u001b[38;5;28mself\u001b[39m.id,\n",
      "\u001b[32m    227\u001b[39m         ids=query_request[\u001b[33m\"\u001b[39m\u001b[33mids\u001b[39m\u001b[33m\"\u001b[39m],\n",
      "\u001b[32m   (...)\u001b[39m\u001b[32m    234\u001b[39m         database=\u001b[38;5;28mself\u001b[39m.database,\n",
      "\u001b[32m    235\u001b[39m     )\n",
      "\u001b[32m    237\u001b[39m     \u001b[38;5;28;01mreturn\u001b[39;00m \u001b[38;5;28mself\u001b[39m._transform_query_response(\n",
      "\u001b[32m    238\u001b[39m         response=query_results, include=query_request[\u001b[33m\"\u001b[39m\u001b[33minclude\u001b[39m\u001b[33m\"\u001b[39m]\n",
      "\u001b[32m    239\u001b[39m     )\n",
      "\n",
      "\u001b[36mFile \u001b[39m\u001b[32m~/Fake-News-Detect/.venv/lib/python3.12/site-packages/chromadb/api/models/CollectionCommon.py:103\u001b[39m, in \u001b[36mvalidation_context.<locals>.decorator.<locals>.wrapper\u001b[39m\u001b[34m(self, *args, **kwargs)\u001b[39m\n",
      "\u001b[32m    100\u001b[39m \u001b[38;5;129m@functools\u001b[39m.wraps(func)\n",
      "\u001b[32m    101\u001b[39m \u001b[38;5;28;01mdef\u001b[39;00m\u001b[38;5;250m \u001b[39m\u001b[34mwrapper\u001b[39m(\u001b[38;5;28mself\u001b[39m: Any, *args: Any, **kwargs: Any) -> T:\n",
      "\u001b[32m    102\u001b[39m     \u001b[38;5;28;01mtry\u001b[39;00m:\n",
      "\u001b[32m--> \u001b[39m\u001b[32m103\u001b[39m         \u001b[38;5;28;01mreturn\u001b[39;00m \u001b[43mfunc\u001b[49m\u001b[43m(\u001b[49m\u001b[38;5;28;43mself\u001b[39;49m\u001b[43m,\u001b[49m\u001b[43m \u001b[49m\u001b[43m*\u001b[49m\u001b[43margs\u001b[49m\u001b[43m,\u001b[49m\u001b[43m \u001b[49m\u001b[43m*\u001b[49m\u001b[43m*\u001b[49m\u001b[43mkwargs\u001b[49m\u001b[43m)\u001b[49m\n",
      "\u001b[32m    104\u001b[39m     \u001b[38;5;28;01mexcept\u001b[39;00m \u001b[38;5;167;01mException\u001b[39;00m \u001b[38;5;28;01mas\u001b[39;00m e:\n",
      "\u001b[32m    105\u001b[39m         msg = \u001b[33mf\u001b[39m\u001b[33m\"\u001b[39m\u001b[38;5;132;01m{\u001b[39;00m\u001b[38;5;28mstr\u001b[39m(e)\u001b[38;5;132;01m}\u001b[39;00m\u001b[33m in \u001b[39m\u001b[38;5;132;01m{\u001b[39;00mname\u001b[38;5;132;01m}\u001b[39;00m\u001b[33m.\u001b[39m\u001b[33m\"\u001b[39m\n",
      "\n",
      "\u001b[36mFile \u001b[39m\u001b[32m~/Fake-News-Detect/.venv/lib/python3.12/site-packages/chromadb/api/models/CollectionCommon.py:313\u001b[39m, in \u001b[36mCollectionCommon._validate_and_prepare_query_request\u001b[39m\u001b[34m(self, query_embeddings, query_texts, query_images, query_uris, ids, n_results, where, where_document, include)\u001b[39m\n",
      "\u001b[32m    294\u001b[39m \u001b[38;5;129m@validation_context\u001b[39m(\u001b[33m\"\u001b[39m\u001b[33mquery\u001b[39m\u001b[33m\"\u001b[39m)\n",
      "\u001b[32m    295\u001b[39m \u001b[38;5;28;01mdef\u001b[39;00m\u001b[38;5;250m \u001b[39m\u001b[34m_validate_and_prepare_query_request\u001b[39m(\n",
      "\u001b[32m    296\u001b[39m     \u001b[38;5;28mself\u001b[39m,\n",
      "\u001b[32m   (...)\u001b[39m\u001b[32m    311\u001b[39m ) -> QueryRequest:\n",
      "\u001b[32m    312\u001b[39m     \u001b[38;5;66;03m# Unpack\u001b[39;00m\n",
      "\u001b[32m--> \u001b[39m\u001b[32m313\u001b[39m     query_records = \u001b[43mnormalize_base_record_set\u001b[49m\u001b[43m(\u001b[49m\n",
      "\u001b[32m    314\u001b[39m \u001b[43m        \u001b[49m\u001b[43membeddings\u001b[49m\u001b[43m=\u001b[49m\u001b[43mquery_embeddings\u001b[49m\u001b[43m,\u001b[49m\n",
      "\u001b[32m    315\u001b[39m \u001b[43m        \u001b[49m\u001b[43mdocuments\u001b[49m\u001b[43m=\u001b[49m\u001b[43mquery_texts\u001b[49m\u001b[43m,\u001b[49m\n",
      "\u001b[32m    316\u001b[39m \u001b[43m        \u001b[49m\u001b[43mimages\u001b[49m\u001b[43m=\u001b[49m\u001b[43mquery_images\u001b[49m\u001b[43m,\u001b[49m\n",
      "\u001b[32m    317\u001b[39m \u001b[43m        \u001b[49m\u001b[43muris\u001b[49m\u001b[43m=\u001b[49m\u001b[43mquery_uris\u001b[49m\u001b[43m,\u001b[49m\n",
      "\u001b[32m    318\u001b[39m \u001b[43m    \u001b[49m\u001b[43m)\u001b[49m\n",
      "\u001b[32m    320\u001b[39m     filter_ids = maybe_cast_one_to_many(ids)\n",
      "\u001b[32m    322\u001b[39m     filters = FilterSet(\n",
      "\u001b[32m    323\u001b[39m         where=where,\n",
      "\u001b[32m    324\u001b[39m         where_document=where_document,\n",
      "\u001b[32m    325\u001b[39m     )\n",
      "\n",
      "\u001b[36mFile \u001b[39m\u001b[32m~/Fake-News-Detect/.venv/lib/python3.12/site-packages/chromadb/api/types.py:368\u001b[39m, in \u001b[36mnormalize_base_record_set\u001b[39m\u001b[34m(embeddings, documents, images, uris)\u001b[39m\n",
      "\u001b[32m    357\u001b[39m \u001b[38;5;28;01mdef\u001b[39;00m\u001b[38;5;250m \u001b[39m\u001b[34mnormalize_base_record_set\u001b[39m(\n",
      "\u001b[32m    358\u001b[39m     embeddings: Optional[Union[OneOrMany[Embedding], OneOrMany[PyEmbedding]]] = \u001b[38;5;28;01mNone\u001b[39;00m,\n",
      "\u001b[32m    359\u001b[39m     documents: Optional[OneOrMany[Document]] = \u001b[38;5;28;01mNone\u001b[39;00m,\n",
      "\u001b[32m    360\u001b[39m     images: Optional[OneOrMany[Image]] = \u001b[38;5;28;01mNone\u001b[39;00m,\n",
      "\u001b[32m    361\u001b[39m     uris: Optional[OneOrMany[URI]] = \u001b[38;5;28;01mNone\u001b[39;00m,\n",
      "\u001b[32m    362\u001b[39m ) -> BaseRecordSet:\n",
      "\u001b[32m    363\u001b[39m \u001b[38;5;250m    \u001b[39m\u001b[33;03m\"\"\"\u001b[39;00m\n",
      "\u001b[32m    364\u001b[39m \u001b[33;03m    Unpacks and normalizes the fields of a BaseRecordSet.\u001b[39;00m\n",
      "\u001b[32m    365\u001b[39m \u001b[33;03m    \"\"\"\u001b[39;00m\n",
      "\u001b[32m    367\u001b[39m     \u001b[38;5;28;01mreturn\u001b[39;00m BaseRecordSet(\n",
      "\u001b[32m--> \u001b[39m\u001b[32m368\u001b[39m         embeddings=\u001b[43mnormalize_embeddings\u001b[49m\u001b[43m(\u001b[49m\u001b[43membeddings\u001b[49m\u001b[43m)\u001b[49m,\n",
      "\u001b[32m    369\u001b[39m         documents=maybe_cast_one_to_many(documents),\n",
      "\u001b[32m    370\u001b[39m         images=maybe_cast_one_to_many(images),\n",
      "\u001b[32m    371\u001b[39m         uris=maybe_cast_one_to_many(uris),\n",
      "\u001b[32m    372\u001b[39m     )\n",
      "\n",
      "\u001b[36mFile \u001b[39m\u001b[32m~/Fake-News-Detect/.venv/lib/python3.12/site-packages/chromadb/api/types.py:243\u001b[39m, in \u001b[36mnormalize_embeddings\u001b[39m\u001b[34m(target)\u001b[39m\n",
      "\u001b[32m    238\u001b[39m         \u001b[38;5;28;01mif\u001b[39;00m \u001b[38;5;28misinstance\u001b[39m(target[\u001b[32m0\u001b[39m][\u001b[32m0\u001b[39m], (\u001b[38;5;28mint\u001b[39m, \u001b[38;5;28mfloat\u001b[39m)) \u001b[38;5;129;01mand\u001b[39;00m \u001b[38;5;129;01mnot\u001b[39;00m \u001b[38;5;28misinstance\u001b[39m(\n",
      "\u001b[32m    239\u001b[39m             target[\u001b[32m0\u001b[39m][\u001b[32m0\u001b[39m], \u001b[38;5;28mbool\u001b[39m\n",
      "\u001b[32m    240\u001b[39m         ):\n",
      "\u001b[32m    241\u001b[39m             \u001b[38;5;28;01mreturn\u001b[39;00m [np.array(row, dtype=np.float32) \u001b[38;5;28;01mfor\u001b[39;00m row \u001b[38;5;129;01min\u001b[39;00m target]\n",
      "\u001b[32m--> \u001b[39m\u001b[32m243\u001b[39m \u001b[38;5;28;01mraise\u001b[39;00m \u001b[38;5;167;01mValueError\u001b[39;00m(\n",
      "\u001b[32m    244\u001b[39m     \u001b[33mf\u001b[39m\u001b[33m\"\u001b[39m\u001b[33mExpected embeddings to be a list of floats or ints, a list of lists, a numpy array, or a list of numpy arrays, got \u001b[39m\u001b[38;5;132;01m{\u001b[39;00mtarget\u001b[38;5;132;01m}\u001b[39;00m\u001b[33m\"\u001b[39m\n",
      "\u001b[32m    245\u001b[39m )\n",
      "\n",
      "\u001b[31mValueError\u001b[39m: Expected embeddings to be a list of floats or ints, a list of lists, a numpy array, or a list of numpy arrays, got [[array([-1.81416776e-02, -1.66259743e-02,  2.08692756e-02, -1.75619125e-02,\n",
      "        1.80299189e-02,  2.60097906e-02,  5.11432113e-03,  1.14210762e-01,\n",
      "       -2.04584561e-02,  5.41193597e-02, -2.44015623e-02, -1.26532063e-01,\n",
      "        7.31085055e-03, -1.38087375e-02, -8.85488391e-02, -5.60243055e-02,\n",
      "       -4.70394045e-02,  1.15937643e-01, -1.96584035e-02,  2.52075624e-02,\n",
      "        1.93452239e-02, -5.84553555e-02, -2.57454417e-03, -1.32696088e-02,\n",
      "       -3.99976000e-02, -1.97132248e-02, -7.61035038e-03, -3.05432659e-02,\n",
      "        1.28386142e-02, -3.06564849e-02,  9.19936523e-02,  2.72286125e-02,\n",
      "        9.28371400e-02, -2.16248930e-02,  4.68153805e-02, -1.35617855e-03,\n",
      "        3.60254794e-02, -4.95285392e-02,  1.55769046e-02,  5.89962769e-03,\n",
      "       -7.28993416e-02, -2.07973160e-02, -7.61383250e-02, -5.29609285e-02,\n",
      "        2.79479902e-02,  2.00565234e-02,  4.91947271e-02,  4.37306762e-02,\n",
      "       -7.02829510e-02,  1.23015242e-02, -1.89531855e-02,  2.11297404e-02,\n",
      "        3.14982273e-02, -2.05652136e-03, -9.60241072e-03,  1.37864072e-02,\n",
      "        2.37291958e-02, -8.78743976e-02,  4.92315702e-02, -2.19135825e-03,\n",
      "        4.39996235e-02, -2.95393355e-02, -2.91786175e-02, -9.43556428e-03,\n",
      "       -2.87558287e-02, -4.87520248e-02, -5.78259164e-03, -2.60894578e-02,\n",
      "       -5.39330989e-02, -4.52844352e-02,  7.68463612e-02, -7.29381442e-02,\n",
      "        1.05015468e-03, -9.09902826e-02, -7.49805244e-03, -4.59635332e-02,\n",
      "       -1.40542549e-03,  8.46854597e-02,  1.61583759e-02, -1.25481978e-01,\n",
      "        5.51161580e-02,  5.71524084e-04, -2.43967008e-02, -1.33256204e-02,\n",
      "        9.74393561e-02, -6.52966497e-04, -4.29940633e-02, -8.24591964e-02,\n",
      "        3.44937816e-02,  2.87129432e-02, -6.32645339e-02, -2.91882716e-02,\n",
      "       -7.88721889e-02, -6.53800694e-03,  4.30724397e-03, -1.40770227e-02,\n",
      "       -1.88309420e-02, -5.12991063e-02,  6.45918325e-02,  7.57026821e-02,\n",
      "        4.38501732e-03, -2.74874866e-02, -4.59654396e-03,  2.96238288e-02,\n",
      "       -4.31326255e-02, -5.24360202e-02, -3.25406790e-02, -6.86536776e-03,\n",
      "        4.29855473e-02,  3.07425065e-03,  6.54570106e-03, -8.69413689e-02,\n",
      "        1.56564470e-02, -3.66489552e-02, -1.30760726e-02,  5.17454557e-03,\n",
      "       -2.03638175e-03, -1.04338109e-01, -4.22384925e-02,  1.79715548e-02,\n",
      "        5.87458946e-02, -2.14619376e-02, -5.22247069e-02, -1.03523836e-01,\n",
      "        3.81596424e-02, -4.12811413e-02,  6.05484545e-02,  1.10655556e-33,\n",
      "       -6.66319206e-02,  2.76356842e-02, -3.35655781e-03, -2.55682431e-02,\n",
      "        9.92549397e-03,  7.36811608e-02, -7.02281967e-02,  7.64670363e-03,\n",
      "        9.10629109e-02, -7.95632899e-02,  2.32465938e-02,  1.04957908e-01,\n",
      "       -7.29348361e-02,  5.38891517e-02, -3.53792198e-02, -3.37260403e-02,\n",
      "       -8.40844866e-03, -3.00222076e-02,  4.89534996e-02, -1.26366261e-02,\n",
      "       -8.99075344e-02, -1.10813035e-02,  4.00574207e-02,  8.01657736e-02,\n",
      "        1.22173227e-01, -6.47783875e-02, -4.38011140e-02, -4.41191047e-02,\n",
      "       -2.73925327e-02,  6.71576113e-02,  7.92337358e-02,  6.54464075e-03,\n",
      "       -1.00661274e-02,  3.67499702e-02, -2.23749839e-02, -8.12403262e-02,\n",
      "       -3.92097346e-02,  6.38847128e-02,  1.28336670e-02,  1.82139855e-02,\n",
      "        2.87800301e-02,  7.41283363e-03,  4.55824696e-02,  4.23449837e-03,\n",
      "        3.49725522e-02,  3.59913260e-02,  8.02978501e-02,  5.02240062e-02,\n",
      "        8.64610001e-02,  4.07084338e-02, -7.96093512e-03,  1.92554086e-03,\n",
      "       -4.63032089e-02, -8.00290331e-02, -4.77272086e-02, -2.86084972e-02,\n",
      "       -1.23735860e-01,  3.24559323e-02, -3.50524262e-02, -6.03862330e-02,\n",
      "        9.91642941e-04,  6.61191791e-02, -1.05247796e-01,  7.63273463e-02,\n",
      "        1.59123521e-02,  2.17616577e-02,  8.24168418e-03,  1.62561461e-02,\n",
      "        7.54784942e-02, -1.68153048e-02, -8.64544287e-02,  4.23686672e-03,\n",
      "        3.82770300e-02,  7.49947876e-03, -2.78053824e-02,  1.74654163e-02,\n",
      "       -1.39904916e-02,  9.35532972e-02, -7.00943917e-02, -9.11278725e-02,\n",
      "       -1.36029810e-01, -1.06059283e-03,  2.46038772e-02,  8.55907798e-03,\n",
      "        1.16738919e-02,  4.17205952e-02, -4.04006392e-02,  8.00839514e-02,\n",
      "        8.12607780e-02, -2.37065703e-02,  2.42984407e-02, -1.87820643e-02,\n",
      "        5.57658682e-03, -2.79807393e-02,  5.28476536e-02, -3.94585499e-33,\n",
      "       -3.04554459e-02,  5.89340739e-03, -7.17174187e-02,  1.00886479e-01,\n",
      "        1.83999557e-02,  1.82716008e-02, -2.37342715e-02,  1.98721737e-02,\n",
      "       -5.33776730e-02, -5.80095612e-02, -1.94861740e-02, -1.27441937e-03,\n",
      "        4.37282547e-02,  3.58496346e-02, -4.34466312e-03,  5.91771677e-02,\n",
      "        5.43891601e-02, -3.02244201e-02, -3.25342380e-02, -3.23375803e-03,\n",
      "       -4.89868075e-02,  1.13868592e-02,  3.98165360e-02, -2.11478658e-02,\n",
      "       -3.79335433e-02,  4.94276546e-02, -1.72988828e-02, -5.61733656e-02,\n",
      "       -3.78032140e-02, -2.04891451e-02, -5.51906675e-02,  5.35917357e-02,\n",
      "        4.84313397e-03,  5.14104590e-02,  4.25128713e-02,  3.08950059e-02,\n",
      "        5.12565002e-02, -6.72303140e-02, -4.53007370e-02,  1.23613656e-01,\n",
      "        4.13516238e-02,  1.78804845e-02,  1.21006854e-01, -3.88584711e-04,\n",
      "        4.07253914e-02, -2.83207907e-03, -9.01347697e-02, -4.90993820e-02,\n",
      "       -2.59401575e-02, -2.95592844e-02,  8.41128603e-02,  7.09064454e-02,\n",
      "       -2.02284590e-03, -5.65600693e-02,  4.60151257e-03,  2.55642515e-02,\n",
      "        4.77660075e-03, -1.41580766e-02, -3.87006961e-02,  2.20300071e-02,\n",
      "        1.29491901e-02,  8.81825611e-02,  2.15904061e-02,  1.73341259e-02,\n",
      "        4.61759530e-02, -1.68991592e-02, -7.55551606e-02,  5.33244852e-03,\n",
      "        8.27585086e-02, -4.37890068e-02,  8.22682306e-02, -1.85952242e-02,\n",
      "        2.35242043e-02, -9.84358974e-03, -1.07502401e-01, -1.44100245e-02,\n",
      "        2.35644765e-02, -4.29471284e-02, -5.47030987e-03,  7.17982501e-02,\n",
      "       -1.88406885e-01,  1.20784948e-02, -1.82572738e-04, -2.50233319e-02,\n",
      "       -9.54219420e-03, -6.09017350e-02, -8.74610990e-02, -1.19233511e-01,\n",
      "        9.84412804e-03,  8.65848549e-03,  2.10554171e-02, -2.15266086e-02,\n",
      "        6.41944213e-03, -3.24889570e-02,  3.12490091e-02, -2.80768688e-08,\n",
      "        5.79047576e-02, -6.02087118e-02, -3.31818573e-02,  6.08723275e-02,\n",
      "        9.49332565e-02, -9.86907557e-02, -8.84439945e-02, -1.73210874e-02,\n",
      "       -1.32242357e-02,  1.04568563e-01,  4.17743102e-02,  5.71891293e-02,\n",
      "       -1.06556676e-02,  3.08186375e-03, -6.89918222e-03,  1.41573669e-02,\n",
      "        3.64562720e-02,  4.18349504e-02, -3.27289850e-02, -1.77371241e-02,\n",
      "       -2.26026513e-02,  1.34775866e-04, -1.03648484e-01, -3.92168276e-02,\n",
      "        2.33920719e-02, -1.91910751e-02, -1.18469782e-02, -7.07365200e-02,\n",
      "       -1.80784967e-02, -2.69319266e-02,  1.23750055e-02,  9.29086730e-02,\n",
      "       -2.94811316e-02, -4.42885384e-02, -2.85701118e-02, -2.31111608e-02,\n",
      "        8.67537223e-03, -1.78207038e-03, -3.07511892e-02, -5.38811795e-02,\n",
      "        8.15680772e-02,  1.37401953e-01,  2.19658129e-02, -2.26259902e-02,\n",
      "        3.38022448e-02, -7.37039447e-02,  1.01881828e-02, -3.50451842e-02,\n",
      "        1.03989318e-01,  7.62895942e-02, -5.47086336e-02,  2.82042660e-02,\n",
      "        7.34892935e-02,  3.51952501e-02,  1.91022456e-02, -1.91932991e-02,\n",
      "        3.10733058e-02, -3.63898985e-02, -5.92436194e-02, -3.21865678e-02,\n",
      "       -2.34406762e-04,  7.82383680e-02,  2.77346224e-02, -1.53026460e-02],\n",
      "      dtype=float32)]] in query."
     ]
    }
   ],
   "source": [
    "# ===============================\n",
    "# Pipeline RAG optimisé ChromaDB + Ollama\n",
    "# ===============================\n",
    "\n",
    "# 1️ Importations\n",
    "import os\n",
    "import pandas as pd\n",
    "import numpy as np\n",
    "from tqdm import tqdm\n",
    "from chromadb import Client\n",
    "from chromadb.config import Settings\n",
    "from chromadb.utils import embedding_functions\n",
    "\n",
    "# -------------------------------\n",
    "# 2️ Créer le client ChromaDB\n",
    "CHROMA_DB_PATH = \"./chroma_db\"\n",
    "\n",
    "try:\n",
    "    client  # réutiliser si existe déjà\n",
    "except NameError:\n",
    "    settings = Settings(\n",
    "        chroma_db_impl=\"duckdb+parquet\",\n",
    "        persist_directory=CHROMA_DB_PATH\n",
    "    )\n",
    "    client = Client(settings=settings)\n",
    "\n",
    "# -------------------------------\n",
    "# 3️ Définir la fonction d'embedding Ollama\n",
    "embedding_fn = embedding_functions.OllamaEmbeddingFunction(model_name=\"all-minilm\")\n",
    "\n",
    "# -------------------------------\n",
    "# 4️ Créer ou récupérer la collection\n",
    "collection_name = \"fake_news_chunks\"\n",
    "if collection_name in [c.name for c in client.list_collections()]:\n",
    "    collection = client.get_collection(name=collection_name)\n",
    "    print(f\"Collection '{collection_name}' récupérée.\")\n",
    "else:\n",
    "    collection = client.create_collection(\n",
    "        name=collection_name,\n",
    "        embedding_function=embedding_fn\n",
    "    )\n",
    "    print(f\"Collection '{collection_name}' créée.\")\n",
    "\n",
    "# -------------------------------\n",
    "# 5️ Charger les chunks nettoyés\n",
    "CHUNKS_PATH = \"data/processed/articles_chunks.csv\"\n",
    "df_chunks = pd.read_csv(CHUNKS_PATH)\n",
    "print(f\"{df_chunks.shape[0]} chunks chargés depuis {CHUNKS_PATH}\")\n",
    "\n",
    "# -------------------------------\n",
    "# # -------------------------------\n",
    "# 6️ Ajouter les chunks dans la collection (batch sécurisé)\n",
    "existing_ids = set()\n",
    "all_meta = collection.get(include=[\"metadatas\"])[\"metadatas\"]\n",
    "for m in all_meta:\n",
    "    if isinstance(m, list):\n",
    "        for item in m:\n",
    "            if isinstance(item, dict) and \"id\" in item:\n",
    "                existing_ids.add(item[\"id\"])\n",
    "\n",
    "print(f\"{len(existing_ids)} chunks déjà présents dans la collection.\")\n",
    "\n",
    "batch_size = 50  # batch plus petit pour éviter dépassement\n",
    "max_chunk_length = 512  # tronquer chaque chunk à 512 caractères\n",
    "\n",
    "for start in tqdm(range(0, len(df_chunks), batch_size), desc=\"Ajout chunks\"):\n",
    "    batch = df_chunks.iloc[start:start+batch_size]\n",
    "\n",
    "    # Générer les ids\n",
    "    ids = [f\"{row['article_id']}_{row['chunk_id']}\" for _, row in batch.iterrows()]\n",
    "    # Filtrer les chunks déjà existants\n",
    "    new_idx = [i for i, cid in enumerate(ids) if cid not in existing_ids]\n",
    "    if not new_idx:\n",
    "        continue\n",
    "\n",
    "    batch = batch.iloc[new_idx]\n",
    "    ids = [f\"{row['article_id']}_{row['chunk_id']}\" for _, row in batch.iterrows()]\n",
    "\n",
    "    # Préparer metadatas\n",
    "    metadatas = [\n",
    "        {\n",
    "            \"title\": row.get(\"title\", \"\"),\n",
    "            \"label\": row[\"label\"],\n",
    "            \"article_id\": int(row[\"article_id\"]),\n",
    "            \"id\": ids[i]\n",
    "        }\n",
    "        for i, (_, row) in enumerate(batch.iterrows())\n",
    "    ]\n",
    "\n",
    "    # Tronquer les chunks trop longs\n",
    "    texts = [text[:max_chunk_length] for text in batch[\"chunk_text\"].tolist()]\n",
    "\n",
    "    # Calcul des embeddings avec gestion d’erreur\n",
    "    try:\n",
    "        embeddings = embedding_fn(texts)\n",
    "    except Exception as e:\n",
    "        print(f\"Erreur embedding pour ce batch ({start}-{start+batch_size}): {e}\")\n",
    "        continue\n",
    "\n",
    "    # Ajout dans la collection\n",
    "    collection.add(\n",
    "        ids=ids,\n",
    "        documents=texts,\n",
    "        metadatas=metadatas,\n",
    "        embeddings=embeddings\n",
    "    )\n",
    "\n",
    "print(\"Tous les chunks ajoutés (ou ignorés si déjà présents).\")\n"
   ]
  },
  {
   "cell_type": "code",
   "execution_count": 106,
   "id": "f341bd6c",
   "metadata": {},
   "outputs": [],
   "source": [
    "# 7 # Fonction RAG pour verdict True/Fake avec Ollama\n",
    "def rag_verdict_batch(user_queries):\n",
    "    import ollama\n",
    "    \"\"\"\n",
    "    Fonction qui prend une ou plusieurs déclarations (user_queries)\n",
    "    et retourne un verdict True/False généré par le modèle Ollama.\n",
    "\n",
    "    Étapes :\n",
    "    1. Convertir la requête en liste si besoin.\n",
    "    2. Initialiser une liste pour stocker les verdicts.\n",
    "    3. Pour chaque déclaration :\n",
    "    a) Créer un prompt pour le modèle.\n",
    "    b) Générer la réponse via Ollama.\n",
    "    c) Extraire uniquement le texte de la réponse, selon la structure.\n",
    "    d) Nettoyer le texte pour ne récupérer que True/False.\n",
    "    e) Gérer les exceptions et erreurs.\n",
    "    \"\"\"\n",
    "# a/ S'assurer que l'entrée est une liste\n",
    "    if isinstance(user_queries, str):\n",
    "        user_queries = [user_queries]\n",
    "# b/ Initialisation de la liste des verdicts\n",
    "    verdicts = []\n",
    "# c/  Boucle sur chaque déclaration utilisateur\n",
    "    for query in user_queries:\n",
    "        #) Création du prompt pour le modèle\n",
    "        prompt = f\"\"\"\n",
    "        You are a fact-checker AI.\n",
    "        Check the following statement and answer only 'True' or 'False'.\n",
    "        Statement: {query}\n",
    "        \"\"\"\n",
    "\n",
    "        try:\n",
    "            # Appel à l'API Ollama pour générer le verdict\n",
    "            response = ollama.generate(model=\"phi3\", prompt=prompt)\n",
    "            \n",
    "            # Extraire uniquement le texte de la réponse\n",
    "            text = \"\"\n",
    "            if hasattr(response, \"response\"):\n",
    "                text = response.response.strip()\n",
    "            elif hasattr(response, \"message\") and hasattr(response.message, \"content\"):\n",
    "                text = response.message.content.strip()\n",
    "            elif hasattr(response, \"outputText\"):\n",
    "                text = response.outputText.strip()\n",
    "            else:\n",
    "                text = str(response).strip()\n",
    "\n",
    "            # Nettoyer le texte pour récupérer seulement True/False\n",
    "            if text.lower().startswith(\"true\"):\n",
    "                verdicts.append(\"True\")\n",
    "            elif text.lower().startswith(\"false\"):\n",
    "                verdicts.append(\"False\")\n",
    "            else:\n",
    "                verdicts.append(text)  # Si réponse ambiguë, on garde le texte complet\n",
    "\n",
    "        except Exception as e:\n",
    "            #Gestion d'erreur : on ajoute \"Erreur\" au verdicts\n",
    "            print(f\"Erreur lors de la génération de la réponse : {e}\")\n",
    "            verdicts.append(\"Erreur\")\n",
    "    # Retourne la liste des verdicts pour toutes les déclarations\n",
    "    return verdicts\n",
    "\n"
   ]
  },
  {
   "cell_type": "code",
   "execution_count": null,
   "id": "d578e038",
   "metadata": {},
   "outputs": [
    {
     "name": "stdout",
     "output_type": "stream",
     "text": [
      "<class 'dict'>\n",
      "{'ids': [['25638_3', '5751_0', '96_0', '32298_0', '5751_1']], 'embeddings': None, 'documents': [['a time we can all get behind this and say enough is enough we do not support our president in his endorsement of trump and we want the world to know because he s giving liberty university a bad name wahl told the post it makes it seem like we re about populist politics when we re about the gospel of jesus christ this is about gaining the integrity of our school this is an effort to say liberty is not trump university falwell thinks trump is a changed man the problem with his mindset is that trump has not ch', 'washington reuters evangelical christian leader jerry falwell jr will head an education reform task force under u s president donald trump and is keen to cut university regulations including rules on dealing with campus sexual assault the school he heads said falwell the son of the late televangelist jerry falwell sr was described by trump as one of the most respected religious leaders in our nation last year after falwell endorsed him during the republican party primary race read more trump vows end to prohibition on church political activity vatican worried about trump immigration order falwell is president of liberty university in lynchburg virginia which bills itself as the world s biggest christian university a school spokesman len stevens said on wednesday it was not clear yet when the task force would start its work stevens said falwell was interested in eliminating numerous regulations the u s department of education has placed on colleges and universities adding that many college presidents felt the same regardless of their political orientation it s an autonomy issue for universities to be able to not be micromanaged by the department of education stevens said in an email falwell also wants to cut federal rules', 'washington reuters u s president donald trump on monday said he plans to nominate liberty university school of law professor caren harp to oversee the justice department s office of juvenile justice and delinquency prevention if ultimately confirmed by the u s senate harp would oversee the justice department office that trains and works with state and local communities to develop effective juvenile justice programs and prevent delinquency harp previously was director of the national juvenile justice prosecution center at the american prosecutors research institute according to harp s linkedin page she is in her sixth year as a professor at liberty which is located in lynchburg virginia the law school s website says its program is taught from a christian worldview and says it offers a uniquely tailored legal program taught with sound biblical principles harp who holds a law degree from the university of arkansas fayetteville has also worked as both a prosecutor and a public defender including as chief of the sex crimes prosecution unit in new york city family court division and as a trial attorney for the arkansas public defender commission in an article published in may harp raises questions about the role of adolescent', 'president trump told the graduates that they are graduating to a totally brilliant future trump specifically recognized graduates who have served in the military it is truly a testament to this university and to the values that you embrace that your graduating class includes so many patriots who have served our country in uniform he also thanked liberty university president jerry falwell jr and members of the falwell family you are about to begin the greatest adventure of your life said trump who remarked h', 'has placed on colleges and universities adding that many college presidents felt the same regardless of their political orientation it s an autonomy issue for universities to be able to not be micromanaged by the department of education stevens said in an email falwell also wants to cut federal rules on investigating and reporting sexual assault under title ix the federal law that bars sexual discrimination in education according to stevens the liberty university head believes on campus sexual assault investigations are best left to police and prosecutors stevens said falwell told the associated press he turned down an offer from trump to become education secretary in part because falwell did not want to move his family to washington when falwell introduced trump before a speech he gave at liberty university early last year falwell said he saw similarities between trump and his father the founder of the moral majority organization including a penchant to speak his mind the senate education committee sent trump s nomination of betsy devos a charter school advocate to be education secretary to the full senate on tuesday for a confirmation vote']], 'uris': None, 'included': ['metadatas', 'documents', 'distances'], 'data': None, 'metadatas': [[{'id': '25638_3', 'label': 'Fake', 'title': ' Liberty University Students SHRED Jerry Falwell Jr: Trump ‘Does Not Have Our Support’', 'article_id': 25638}, {'id': '5751_0', 'title': 'Evangelical Jerry Falwell Jr. to head Trump education task force', 'label': 'True', 'article_id': 5751}, {'id': '96_0', 'label': 'True', 'title': 'Trump nominates Liberty University professor to Justice Department post', 'article_id': 96}, {'id': '32298_0', 'article_id': 32298, 'title': 'PRESIDENT TRUMP’S Powerful First Commencement Speech: “In America We Don’t Worship Government, We Worship God” [VIDEO]', 'label': 'Fake'}, {'id': '5751_1', 'label': 'True', 'article_id': 5751, 'title': 'Evangelical Jerry Falwell Jr. to head Trump education task force'}]], 'distances': [[0.6621010899543762, 0.7389805316925049, 0.8371298313140869, 0.8461320996284485, 0.8608545660972595]]}\n",
      "=== Résultat RAG ===\n",
      "Verdict: TRUE. The context provided states that Evangelical Jerry Falwell Jr., President Trump's son-in-law, has been nominated by Donald Trump to head an Education Reform Task Force under his administration at Liberty University in Virginia. This is true as the articles mention this development and provide details about it including Falwell expressing desire for regulation cutbacks from various federal laws governing university operations.\n",
      "\n",
      "[The original text contains a factual error suggesting that Trump plans to nominate himself, which has been corrected based on available data]\n",
      "====================\n",
      "\n"
     ]
    }
   ],
   "source": [
    "# 8️ Fonction RAG complète avec contexte + justification\n",
    "import ollama\n",
    "\n",
    "def rag_verdict_with_context(user_query, k=5):\n",
    "    \"\"\"\n",
    "    Compare la déclaration utilisateur aux articles similaires dans ChromaDB\n",
    "    et génère un verdict (TRUE/FAKE) + une justification claire.\n",
    "    \"\"\"\n",
    "\n",
    "    # 1️ Recherche des chunks similaires dans la collection\n",
    "    results = collection.query(\n",
    "        query_texts=[user_query],\n",
    "        n_results=k\n",
    "    )\n",
    "    print(type(results))\n",
    "    print (results)\n",
    "    # pour voire le type de results\n",
    "    # 2️ Construction du contexte à partir des chunks récupérés avec label\n",
    "    context_chunks = []\n",
    "    metadatas = results[\"metadatas\"][0]  # liste des dicts contenant 'label', 'title', etc.\n",
    "    documents = results[\"documents\"][0]\n",
    "\n",
    "    for doc, meta in zip(documents, metadatas):\n",
    "        label = meta.get(\"label\", \"Unknown\")\n",
    "        title = meta.get(\"title\", \"\")\n",
    "        # On ajoute label + titre + texte\n",
    "        context_chunks.append(f\"[{label}] {title}\\n{doc}\")\n",
    "\n",
    "    context_text = \"\\n\\n\".join(context_chunks)  # séparation visuelle\n",
    "    # # 2️ Construction du contexte à partir des chunks récupérés\n",
    "    # context_chunks = [doc for doc in results[\"documents\"][0]]\n",
    "    # context_text = \"\\n\\n\".join(context_chunks)  # séparation visuelle entre les chunks\n",
    "\n",
    "    # 3️ Création du prompt pour le modèle\n",
    "    prompt = f\"\"\"\n",
    "    You are a fact-checker AI.\n",
    "    Using the following context from news articles, analyze the user's text and determine if it is TRUE or FAKE.\n",
    "    Provide a verdict (TRUE or FAKE) and a short explanation.\n",
    "\n",
    "    User Text:\n",
    "    {user_query}\n",
    "\n",
    "    Context from similar articles:\n",
    "    {context_text}\n",
    "    \"\"\"\n",
    "\n",
    "    # 4️ Génération de la réponse via Ollama (modèle local léger)\n",
    "    response = ollama.generate(model=\"phi3:mini\", prompt=prompt)\n",
    "\n",
    "    # 5️ Extraction propre du texte de réponse\n",
    "    if isinstance(response, dict) and \"response\" in response:\n",
    "        text = response[\"response\"].strip()\n",
    "    elif hasattr(response, \"response\"):\n",
    "        text = response.response.strip()\n",
    "    else:\n",
    "        text = str(response).strip()\n",
    "\n",
    "    # 6️ Affichage propre du verdict\n",
    "    print(\"=== Résultat RAG ===\")\n",
    "    print(text)\n",
    "    print(\"====================\\n\")\n",
    "\n",
    "    # 7️ Retour du texte : contient verdict + justification\n",
    "    return text\n",
    "\n",
    "\n",
    "# Exemple de test complet\n",
    "user_query_en = \"president donald trump on monday say he plan to nominate liberty university school of law\"\n",
    "verdict_context = rag_verdict_with_context(user_query_en, k=5)"
   ]
  },
  {
   "cell_type": "markdown",
   "id": "78475775",
   "metadata": {},
   "source": [
    "### Evaluation system RAG"
   ]
  },
  {
   "cell_type": "code",
   "execution_count": null,
   "id": "1eb1323b",
   "metadata": {},
   "outputs": [
    {
     "name": "stdout",
     "output_type": "stream",
     "text": [
      "=== Évaluation RAG sur échantillon CSV ===\n",
      "\n",
      "Texte : donald trump just couldn t wish all americans a happy new year and leave it at t...\n",
      "Label réel : Fake\n",
      "Collection 'fake_news_chunks' récupérée.\n",
      "=== Résultat RAG ===\n",
      "Verdict: UNKNOWN\n",
      "Explanation: The context does not support this statement as President Trump has frequently made New Year's Eve toast during his presidency. This claim is inconsistent with the typical behavior of U.S. Presidents and lacks credible source confirmation, suggesting it may be misinformation or satire without factual basis in reality news reporting.\n",
      "====================\n",
      "\n",
      "Verdict RAG : UNKNOWN\n",
      "\n",
      "Texte : year . 2018 will be a great year for america ! ... who use the word hater in a n...\n",
      "Label réel : Fake\n",
      "Collection 'fake_news_chunks' récupérée.\n",
      "=== Résultat RAG ===\n",
      "Verdict: FAKE\n",
      "Explanation: The context does not provide any evidence of people using 'hater' in New Year's wishes, which contradicts typical expressions used on such occasions.\n",
      "====================\n",
      "\n",
      "Verdict RAG : FAKE\n",
      "\n",
      "Texte : alan sandoval alansandoval13 december 31 , 2017 ... his filter have be break dow...\n",
      "Label réel : Fake\n",
      "Collection 'fake_news_chunks' récupérée.\n",
      "=== Résultat RAG ===\n",
      "Verdict: TRUE\n",
      "Explanation: The context implies that Alan Sandoval made a statement about breaking through the Mueller probe's filtration. Although it doesn't provide direct evidence, within political discourse, this could be plausible and thus leads to classifying as likely true based on available information.\n",
      "====================\n",
      "\n",
      "Verdict RAG : TRUE\n",
      "\n",
      "Texte : which be grapple with wild fire ... fema have so far approve more than 660 milli...\n",
      "Label réel : True\n",
      "Collection 'fake_news_chunks' récupérée.\n",
      "=== Résultat RAG ===\n",
      "Verdict: FAKE\n",
      "Explanation: The statement is likely fake because FEMA's records do not indicate the agency has approved over 660 million dollars for wildfire assistance. Furthermore, there are no major news reports or official statements from FEMA confirming such a high amount of aid approval related to recent wildfires.\n",
      "====================\n",
      "\n",
      "Verdict RAG : FAKE\n",
      "\n",
      "Texte : say they fear will hurt the commonwealth ... rossello on monday order an officia...\n",
      "Label réel : True\n",
      "Collection 'fake_news_chunks' récupérée.\n",
      "=== Résultat RAG ===\n",
      "Verdict: FAKE\n",
      "Explanation: The statement is labeled as fake because no credible sources or context provided indicates that there was a reported fear regarding the harmful effects on \"the commonwealth\" nor an official review requested by Monday. Without clear evidence, we must classify this claim as false based on available information and standard news verification protocols.\n",
      "====================\n",
      "\n",
      "Verdict RAG : FAKE\n",
      "\n",
      "=== Résultats métriques ===\n",
      "Accuracy: 0.2\n",
      "F1-score (macro): 0.1111111111111111\n",
      "\n",
      "Rapport complet :\n",
      "               precision    recall  f1-score   support\n",
      "\n",
      "        FAKE      0.333     0.333     0.333         3\n",
      "        TRUE      0.000     0.000     0.000         2\n",
      "     UNKNOWN      0.000     0.000     0.000         0\n",
      "\n",
      "    accuracy                          0.200         5\n",
      "   macro avg      0.111     0.111     0.111         5\n",
      "weighted avg      0.200     0.200     0.200         5\n",
      "\n"
     ]
    },
    {
     "name": "stderr",
     "output_type": "stream",
     "text": [
      "/home/chaima/Fake-News-Detect/.venv/lib/python3.12/site-packages/sklearn/metrics/_classification.py:1731: UndefinedMetricWarning: Recall is ill-defined and being set to 0.0 in labels with no true samples. Use `zero_division` parameter to control this behavior.\n",
      "  _warn_prf(average, modifier, f\"{metric.capitalize()} is\", result.shape[0])\n",
      "/home/chaima/Fake-News-Detect/.venv/lib/python3.12/site-packages/sklearn/metrics/_classification.py:1731: UndefinedMetricWarning: Recall is ill-defined and being set to 0.0 in labels with no true samples. Use `zero_division` parameter to control this behavior.\n",
      "  _warn_prf(average, modifier, f\"{metric.capitalize()} is\", result.shape[0])\n",
      "/home/chaima/Fake-News-Detect/.venv/lib/python3.12/site-packages/sklearn/metrics/_classification.py:1731: UndefinedMetricWarning: Recall is ill-defined and being set to 0.0 in labels with no true samples. Use `zero_division` parameter to control this behavior.\n",
      "  _warn_prf(average, modifier, f\"{metric.capitalize()} is\", result.shape[0])\n"
     ]
    }
   ],
   "source": [
    "# Évaluation RAG\n",
    "\n",
    "import pandas as pd\n",
    "from sklearn.metrics import accuracy_score, f1_score, classification_report\n",
    "#from rag_system_chaima import eval_examples\n",
    "\n",
    "# Importer les fonctions depuis ton module local\n",
    "from rag_system_chaima.rag_pipeline import rag_pipeline\n",
    "from rag_system_chaima.chroma_retrieval import get_collection\n",
    "\n",
    "CSV_FILE = \"../rag_system_chaima/eval_examples.csv\"\n",
    "\n",
    "\n",
    "# Charger les exemples\n",
    "df = pd.read_csv(CSV_FILE)\n",
    "\n",
    "y_true = []\n",
    "y_pred = []\n",
    "\n",
    "print(\"=== Évaluation RAG sur échantillon CSV ===\")\n",
    "\n",
    "for idx, row in df.iterrows():\n",
    "    text = row[\"text\"]\n",
    "    label = row[\"label\"]\n",
    "\n",
    "    print(f\"\\nTexte : {text[:80]}...\")  # Affiche un extrait\n",
    "    print(f\"Label réel : {label}\")\n",
    "\n",
    "    # Appel du pipeline RAG\n",
    "    verdict_str = rag_pipeline(text)  # retourne \"Verdict: TRUE\\nExplanation: ...\"\n",
    "\n",
    "    # Extraire le verdict\n",
    "    verdict_line = [line for line in verdict_str.splitlines() if line.upper().startswith(\"VERDICT:\")]\n",
    "    verdict_clean = verdict_line[0].split(\":\", 1)[1].strip().upper() \n",
    "\n",
    "    # Normaliser les verdicts\n",
    "    if verdict_clean == \"FALSE\":\n",
    "        verdict_clean = \"FAKE\"\n",
    "    elif verdict_clean == \"TRUE\":\n",
    "        verdict_clean = \"TRUE\"\n",
    "\n",
    "    print(f\"Verdict RAG : {verdict_clean}\")\n",
    "\n",
    "    y_true.append(label.upper())\n",
    "    y_pred.append(verdict_clean)\n",
    "\n",
    "# Calcul des métriques\n",
    "print(\"\\n=== Résultats métriques ===\")\n",
    "print(\"Accuracy:\", accuracy_score(y_true, y_pred))\n",
    "print(\"F1-score (macro):\", f1_score(y_true, y_pred, average=\"macro\"))\n",
    "print(\"\\nRapport complet :\\n\", classification_report(y_true, y_pred, digits=3))\n"
   ]
  }
 ],
 "metadata": {
  "kernelspec": {
   "display_name": ".venv",
   "language": "python",
   "name": "python3"
  },
  "language_info": {
   "codemirror_mode": {
    "name": "ipython",
    "version": 3
   },
   "file_extension": ".py",
   "mimetype": "text/x-python",
   "name": "python",
   "nbconvert_exporter": "python",
   "pygments_lexer": "ipython3",
   "version": "3.12.3"
  }
 },
 "nbformat": 4,
 "nbformat_minor": 5
}
