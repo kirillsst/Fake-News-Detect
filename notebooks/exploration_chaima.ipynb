{
 "cells": [
  {
   "cell_type": "markdown",
   "id": "fb32b26e",
   "metadata": {},
   "source": [
    "# Projet : Détection de Fake News via Pipeline RAG\n",
    "#### Étape 1 — Prétraitement des articles\n",
    "##### Objectif de ce notebook :\n",
    "##### Nettoyer et préparer les articles pour la recherche et la génération.\n",
    "##### On effectue ici les traitements de texte nécessaires avant la vectorisation\n",
    "##### et le stockage dans la base de données vectorielle (ChromaDB).\n"
   ]
  },
  {
   "cell_type": "code",
   "execution_count": 2,
   "id": "48c4bb54",
   "metadata": {},
   "outputs": [],
   "source": [
    "# 1. Importations et configuration initiale\n",
    "import os\n",
    "import pandas as pd\n",
    "import numpy as np\n",
    "import re\n",
    "from bs4 import BeautifulSoup, MarkupResemblesLocatorWarning\n",
    "import warnings\n",
    "import spacy\n",
    "from tqdm import tqdm\n",
    "\n",
    "# Ignorer certains warnings inutiles\n",
    "warnings.filterwarnings(\"ignore\", category=MarkupResemblesLocatorWarning)\n",
    "\n",
    "# Charger le modèle spaCy pour la lemmatisation\n",
    "try:\n",
    "    nlp = spacy.load(\"en_core_web_sm\")\n",
    "except OSError:\n",
    "    import subprocess, sys\n",
    "    subprocess.run([sys.executable, \"-m\", \"spacy\", \"download\", \"en_core_web_sm\"])\n",
    "    nlp = spacy.load(\"en_core_web_sm\")\n",
    "\n",
    "# Définir les chemins de données\n",
    "RAW_PATH = \"data/raw\"\n",
    "PROCESSED_PATH = \"data/processed\"\n",
    "os.makedirs(RAW_PATH, exist_ok=True)\n",
    "os.makedirs(PROCESSED_PATH, exist_ok=True)"
   ]
  },
  {
   "cell_type": "markdown",
   "id": "ca250f97",
   "metadata": {},
   "source": [
    "#### 🎯 Objectif\n",
    "L’objectif de cette étape est de transformer les fichiers CSV d’articles (`True.csv`, `Fake.csv`)\n",
    "en un dataset nettoyé, structuré et prêt à être vectorisé.\n",
    "\n",
    "#### Étapes du pipeline :\n",
    "1. Chargement et fusion des jeux de données (Fake / True)\n",
    "2. Vérifications de base (valeurs manquantes, doublons)\n",
    "3. Nettoyage des textes :\n",
    "   - Suppression des balises HTML\n",
    "   - Suppression des URLs\n",
    "   - Suppression des caractères spéciaux\n",
    "   - Normalisation des espaces\n",
    "   - Mise en minuscules\n",
    "4. Suppression des stopwords et lemmatisation (avec spaCy)\n",
    "5. Découpage des articles en *chunks* (morceaux)\n",
    "6. Sauvegarde des données nettoyées\n"
   ]
  },
  {
   "cell_type": "code",
   "execution_count": null,
   "id": "e991d6c0",
   "metadata": {},
   "outputs": [
    {
     "name": "stdout",
     "output_type": "stream",
     "text": [
      "Fichiers trouvés : ['True.csv', 'Fake.csv']\n",
      "📊 Taille totale du dataset : (44898, 5)\n"
     ]
    },
    {
     "data": {
      "application/vnd.microsoft.datawrangler.viewer.v0+json": {
       "columns": [
        {
         "name": "index",
         "rawType": "int64",
         "type": "integer"
        },
        {
         "name": "title",
         "rawType": "object",
         "type": "string"
        },
        {
         "name": "text",
         "rawType": "object",
         "type": "string"
        },
        {
         "name": "subject",
         "rawType": "object",
         "type": "string"
        },
        {
         "name": "date",
         "rawType": "object",
         "type": "string"
        },
        {
         "name": "label",
         "rawType": "object",
         "type": "string"
        }
       ],
       "ref": "66412a4b-6c3e-4101-b4ae-581773ed9329",
       "rows": [
        [
         "0",
         "As U.S. budget fight looms, Republicans flip their fiscal script",
         "WASHINGTON (Reuters) - The head of a conservative Republican faction in the U.S. Congress, who voted this month for a huge expansion of the national debt to pay for tax cuts, called himself a “fiscal conservative” on Sunday and urged budget restraint in 2018. In keeping with a sharp pivot under way among Republicans, U.S. Representative Mark Meadows, speaking on CBS’ “Face the Nation,” drew a hard line on federal spending, which lawmakers are bracing to do battle over in January. When they return from the holidays on Wednesday, lawmakers will begin trying to pass a federal budget in a fight likely to be linked to other issues, such as immigration policy, even as the November congressional election campaigns approach in which Republicans will seek to keep control of Congress. President Donald Trump and his Republicans want a big budget increase in military spending, while Democrats also want proportional increases for non-defense “discretionary” spending on programs that support education, scientific research, infrastructure, public health and environmental protection. “The (Trump) administration has already been willing to say: ‘We’re going to increase non-defense discretionary spending ... by about 7 percent,’” Meadows, chairman of the small but influential House Freedom Caucus, said on the program. “Now, Democrats are saying that’s not enough, we need to give the government a pay raise of 10 to 11 percent. For a fiscal conservative, I don’t see where the rationale is. ... Eventually you run out of other people’s money,” he said. Meadows was among Republicans who voted in late December for their party’s debt-financed tax overhaul, which is expected to balloon the federal budget deficit and add about $1.5 trillion over 10 years to the $20 trillion national debt. “It’s interesting to hear Mark talk about fiscal responsibility,” Democratic U.S. Representative Joseph Crowley said on CBS. Crowley said the Republican tax bill would require the  United States to borrow $1.5 trillion, to be paid off by future generations, to finance tax cuts for corporations and the rich. “This is one of the least ... fiscally responsible bills we’ve ever seen passed in the history of the House of Representatives. I think we’re going to be paying for this for many, many years to come,” Crowley said. Republicans insist the tax package, the biggest U.S. tax overhaul in more than 30 years,  will boost the economy and job growth. House Speaker Paul Ryan, who also supported the tax bill, recently went further than Meadows, making clear in a radio interview that welfare or “entitlement reform,” as the party often calls it, would be a top Republican priority in 2018. In Republican parlance, “entitlement” programs mean food stamps, housing assistance, Medicare and Medicaid health insurance for the elderly, poor and disabled, as well as other programs created by Washington to assist the needy. Democrats seized on Ryan’s early December remarks, saying they showed Republicans would try to pay for their tax overhaul by seeking spending cuts for social programs. But the goals of House Republicans may have to take a back seat to the Senate, where the votes of some Democrats will be needed to approve a budget and prevent a government shutdown. Democrats will use their leverage in the Senate, which Republicans narrowly control, to defend both discretionary non-defense programs and social spending, while tackling the issue of the “Dreamers,” people brought illegally to the country as children. Trump in September put a March 2018 expiration date on the Deferred Action for Childhood Arrivals, or DACA, program, which protects the young immigrants from deportation and provides them with work permits. The president has said in recent Twitter messages he wants funding for his proposed Mexican border wall and other immigration law changes in exchange for agreeing to help the Dreamers. Representative Debbie Dingell told CBS she did not favor linking that issue to other policy objectives, such as wall funding. “We need to do DACA clean,” she said.  On Wednesday, Trump aides will meet with congressional leaders to discuss those issues. That will be followed by a weekend of strategy sessions for Trump and Republican leaders on Jan. 6 and 7, the White House said. Trump was also scheduled to meet on Sunday with Florida Republican Governor Rick Scott, who wants more emergency aid. The House has passed an $81 billion aid package after hurricanes in Florida, Texas and Puerto Rico, and wildfires in California. The package far exceeded the $44 billion requested by the Trump administration. The Senate has not yet voted on the aid. ",
         "politicsNews",
         "December 31, 2017 ",
         "True"
        ],
        [
         "1",
         "U.S. military to accept transgender recruits on Monday: Pentagon",
         "WASHINGTON (Reuters) - Transgender people will be allowed for the first time to enlist in the U.S. military starting on Monday as ordered by federal courts, the Pentagon said on Friday, after President Donald Trump’s administration decided not to appeal rulings that blocked his transgender ban. Two federal appeals courts, one in Washington and one in Virginia, last week rejected the administration’s request to put on hold orders by lower court judges requiring the military to begin accepting transgender recruits on Jan. 1. A Justice Department official said the administration will not challenge those rulings. “The Department of Defense has announced that it will be releasing an independent study of these issues in the coming weeks. So rather than litigate this interim appeal before that occurs, the administration has decided to wait for DOD’s study and will continue to defend the president’s lawful authority in District Court in the meantime,” the official said, speaking on condition of anonymity. In September, the Pentagon said it had created a panel of senior officials to study how to implement a directive by Trump to prohibit transgender individuals from serving. The Defense Department has until Feb. 21 to submit a plan to Trump. Lawyers representing currently-serving transgender service members and aspiring recruits said they had expected the administration to appeal the rulings to the conservative-majority Supreme Court, but were hoping that would not happen. Pentagon spokeswoman Heather Babb said in a statement: “As mandated by court order, the Department of Defense is prepared to begin accessing transgender applicants for military service Jan. 1. All applicants must meet all accession standards.” Jennifer Levi, a lawyer with gay, lesbian and transgender advocacy group GLAD, called the decision not to appeal “great news.” “I’m hoping it means the government has come to see that there is no way to justify a ban and that it’s not good for the military or our country,” Levi said. Both GLAD and the American Civil Liberties Union represent plaintiffs in the lawsuits filed against the administration. In a move that appealed to his hard-line conservative supporters, Trump announced in July that he would prohibit transgender people from serving in the military, reversing Democratic President Barack Obama’s policy of accepting them. Trump said on Twitter at the time that the military “cannot be burdened with the tremendous medical costs and disruption that transgender in the military would entail.” Four federal judges - in Baltimore, Washington, D.C., Seattle and Riverside, California - have issued rulings blocking Trump’s ban while legal challenges to the Republican president’s policy proceed. The judges said the ban would likely violate the right under the U.S. Constitution to equal protection under the law. The Pentagon on Dec. 8 issued guidelines to recruitment personnel in order to enlist transgender applicants by Jan. 1. The memo outlined medical requirements and specified how the applicants’ sex would be identified and even which undergarments they would wear. The Trump administration previously said in legal papers that the armed forces were not prepared to train thousands of personnel on the medical standards needed to process transgender applicants and might have to accept “some individuals who are not medically fit for service.” The Obama administration had set a deadline of July 1, 2017, to begin accepting transgender recruits. But Trump’s defense secretary, James Mattis, postponed that date to Jan. 1, 2018, which the president’s ban then put off indefinitely. Trump has taken other steps aimed at rolling back transgender rights. In October, his administration said a federal law banning gender-based workplace discrimination does not protect transgender employees, reversing another Obama-era position. In February, Trump rescinded guidance issued by the Obama administration saying that public schools should allow transgender students to use the restroom that corresponds to their gender identity. ",
         "politicsNews",
         "December 29, 2017 ",
         "True"
        ],
        [
         "2",
         "Senior U.S. Republican senator: 'Let Mr. Mueller do his job'",
         "WASHINGTON (Reuters) - The special counsel investigation of links between Russia and President Trump’s 2016 election campaign should continue without interference in 2018, despite calls from some Trump administration allies and Republican lawmakers to shut it down, a prominent Republican senator said on Sunday. Lindsey Graham, who serves on the Senate armed forces and judiciary committees, said Department of Justice Special Counsel Robert Mueller needs to carry on with his Russia investigation without political interference. “This investigation will go forward. It will be an investigation conducted without political influence,” Graham said on CBS’s Face the Nation news program. “And we all need to let Mr. Mueller do his job. I think he’s the right guy at the right time.”  The question of how Russia may have interfered in the election, and how Trump’s campaign may have had links with or co-ordinated any such effort, has loomed over the White House since Trump took office in January. It shows no sign of receding as Trump prepares for his second year in power, despite intensified rhetoric from some Trump allies in recent weeks accusing Mueller’s team of bias against the Republican president. Trump himself seemed to undercut his supporters in an interview last week with the New York Times in which he said he expected Mueller was “going to be fair.”    Russia’s role in the election and the question of possible links to the Trump campaign are the focus of multiple inquiries in Washington. Three committees of the Senate and the House of Representatives are investigating, as well as Mueller, whose team in May took over an earlier probe launched by the U.S. Federal Bureau of Investigation (FBI). Several members of the Trump campaign and administration have been convicted or indicted in the investigation.  Trump and his allies deny any collusion with Russia during the campaign, and the Kremlin has denied meddling in the election. Graham said he still wants an examination of the FBI’s use of a dossier on links between Trump and Russia that was compiled by a former British spy, Christopher Steele, which prompted Trump allies and some Republicans to question Mueller’s inquiry.   On Saturday, the New York Times reported that it was not that dossier that triggered an early FBI probe, but a tip from former Trump campaign foreign policy adviser George Papadopoulos to an Australian diplomat that Russia had damaging information about former Trump rival Hillary Clinton.  “I want somebody to look at the way the Department of Justice used this dossier. It bothers me greatly the way they used it, and I want somebody to look at it,” Graham said. But he said the Russia investigation must continue. “As a matter of fact, it would hurt us if we ignored it,” he said. ",
         "politicsNews",
         "December 31, 2017 ",
         "True"
        ],
        [
         "3",
         "FBI Russia probe helped by Australian diplomat tip-off: NYT",
         "WASHINGTON (Reuters) - Trump campaign adviser George Papadopoulos told an Australian diplomat in May 2016 that Russia had political dirt on Democratic presidential candidate Hillary Clinton, the New York Times reported on Saturday. The conversation between Papadopoulos and the diplomat, Alexander Downer, in London was a driving factor behind the FBI’s decision to open a counter-intelligence investigation of Moscow’s contacts with the Trump campaign, the Times reported. Two months after the meeting, Australian officials passed the information that came from Papadopoulos to their American counterparts when leaked Democratic emails began appearing online, according to the newspaper, which cited four current and former U.S. and foreign officials. Besides the information from the Australians, the probe by the Federal Bureau of Investigation was also propelled by intelligence from other friendly governments, including the British and Dutch, the Times said. Papadopoulos, a Chicago-based international energy lawyer, pleaded guilty on Oct. 30 to lying to FBI agents about contacts with people who claimed to have ties to top Russian officials. It was the first criminal charge alleging links between the Trump campaign and Russia. The White House has played down the former aide’s campaign role, saying it was “extremely limited” and that any actions he took would have been on his own. The New York Times, however, reported that Papadopoulos helped set up a meeting between then-candidate Donald Trump and Egyptian President Abdel Fattah al-Sisi and edited the outline of Trump’s first major foreign policy speech in April 2016. The federal investigation, which is now being led by Special Counsel Robert Mueller, has hung over Trump’s White House since he took office almost a year ago. Some Trump allies have recently accused Mueller’s team of being biased against the Republican president. Lawyers for Papadopoulos did not immediately respond to requests by Reuters for comment. Mueller’s office declined to comment. Trump’s White House attorney, Ty Cobb, declined to comment on the New York Times report. “Out of respect for the special counsel and his process, we are not commenting on matters such as this,” he said in a statement. Mueller has charged four Trump associates, including Papadopoulos, in his investigation. Russia has denied interfering in the U.S. election and Trump has said there was no collusion between his campaign and Moscow. ",
         "politicsNews",
         "December 30, 2017 ",
         "True"
        ],
        [
         "4",
         "Trump wants Postal Service to charge 'much more' for Amazon shipments",
         "SEATTLE/WASHINGTON (Reuters) - President Donald Trump called on the U.S. Postal Service on Friday to charge “much more” to ship packages for Amazon (AMZN.O), picking another fight with an online retail giant he has criticized in the past.     “Why is the United States Post Office, which is losing many billions of dollars a year, while charging Amazon and others so little to deliver their packages, making Amazon richer and the Post Office dumber and poorer? Should be charging MUCH MORE!” Trump wrote on Twitter.  The president’s tweet drew fresh attention to the fragile finances of the Postal Service at a time when tens of millions of parcels have just been shipped all over the country for the holiday season.  The U.S. Postal Service, which runs at a big loss, is an independent agency within the federal government and does not receive tax dollars for operating expenses, according to its website.  Package delivery has become an increasingly important part of its business as the Internet has led to a sharp decline in the amount of first-class letters. The president does not determine postal rates. They are set by the Postal Regulatory Commission, an independent government agency with commissioners selected by the president from both political parties. That panel raised prices on packages by almost 2 percent in November.  Amazon was founded by Jeff Bezos, who remains the chief executive officer of the retail company and is the richest person in the world, according to Bloomberg News. Bezos also owns The Washington Post, a newspaper Trump has repeatedly railed against in his criticisms of the news media. In tweets over the past year, Trump has said the “Amazon Washington Post” fabricated stories. He has said Amazon does not pay sales tax, which is not true, and so hurts other retailers, part of a pattern by the former businessman and reality television host of periodically turning his ire on big American companies since he took office in January. Daniel Ives, a research analyst at GBH Insights, said Trump’s comment could be taken as a warning to the retail giant. However, he said he was not concerned for Amazon. “We do not see any price hikes in the future. However, that is a risk that Amazon is clearly aware of and (it) is building out its distribution (system) aggressively,” he said. Amazon has shown interest in the past in shifting into its own delivery service, including testing drones for deliveries. In 2015, the company spent $11.5 billion on shipping, 46 percent of its total operating expenses that year.  Amazon shares were down 0.86 percent to $1,175.90 by early afternoon. Overall, U.S. stock prices were down slightly on Friday.  Satish Jindel, president of ShipMatrix Inc, which analyzes shipping data, disputed the idea that the Postal Service charges less than United Parcel Service Inc (UPS.N) and FedEx Corp (FDX.N), the other biggest players in the parcel delivery business in the United States. Many customers get lower rates from UPS and FedEx than they would get from the post office for comparable services, he said. The Postal Service delivers about 62 percent of Amazon packages, for about 3.5 to 4 million a day during the current peak year-end holiday shipping season, Jindel said. The Seattle-based company and the post office have an agreement in which mail carriers take Amazon packages on the last leg of their journeys, from post offices to customers’ doorsteps. Amazon’s No. 2 carrier is UPS, at 21 percent, and FedEx is third, with 8 percent or so, according to Jindel. Trump’s comment tapped into a debate over whether Postal Service pricing has kept pace with the rise of e-commerce, which has flooded the mail with small packages.Private companies like UPS have long claimed the current system unfairly undercuts their business. Steve Gaut, a spokesman for UPS, noted that the company values its “productive relationship” with the postal service, but that it has filed with the Postal Regulatory Commission its concerns about the postal service’s methods for covering costs. Representatives for Amazon, the White House, the U.S. Postal Service and FedEx declined comment or were not immediately available for comment on Trump’s tweet. According to its annual report, the Postal Service lost $2.74 billion this year, and its deficit has ballooned to $61.86 billion.  While the Postal Service’s revenue for first class mail, marketing mail and periodicals is flat or declining, revenue from package delivery is up 44 percent since 2014 to $19.5 billion in the fiscal year ended Sept. 30, 2017. But it also lost about $2 billion in revenue when a temporary surcharge expired in April 2016. According to a Government Accountability Office report in February, the service is facing growing personnel expenses, particularly $73.4 billion in unfunded pension and benefits liabilities. The Postal Service has not announced any plans to cut costs. By law, the Postal Service has to set prices for package delivery to cover the costs attributable to that service. But the postal service allocates only 5.5 percent of its total costs to its business of shipping packages even though that line of business is 28 percent of its total revenue. ",
         "politicsNews",
         "December 29, 2017 ",
         "True"
        ]
       ],
       "shape": {
        "columns": 5,
        "rows": 5
       }
      },
      "text/html": [
       "<div>\n",
       "<style scoped>\n",
       "    .dataframe tbody tr th:only-of-type {\n",
       "        vertical-align: middle;\n",
       "    }\n",
       "\n",
       "    .dataframe tbody tr th {\n",
       "        vertical-align: top;\n",
       "    }\n",
       "\n",
       "    .dataframe thead th {\n",
       "        text-align: right;\n",
       "    }\n",
       "</style>\n",
       "<table border=\"1\" class=\"dataframe\">\n",
       "  <thead>\n",
       "    <tr style=\"text-align: right;\">\n",
       "      <th></th>\n",
       "      <th>title</th>\n",
       "      <th>text</th>\n",
       "      <th>subject</th>\n",
       "      <th>date</th>\n",
       "      <th>label</th>\n",
       "    </tr>\n",
       "  </thead>\n",
       "  <tbody>\n",
       "    <tr>\n",
       "      <th>0</th>\n",
       "      <td>As U.S. budget fight looms, Republicans flip t...</td>\n",
       "      <td>WASHINGTON (Reuters) - The head of a conservat...</td>\n",
       "      <td>politicsNews</td>\n",
       "      <td>December 31, 2017</td>\n",
       "      <td>True</td>\n",
       "    </tr>\n",
       "    <tr>\n",
       "      <th>1</th>\n",
       "      <td>U.S. military to accept transgender recruits o...</td>\n",
       "      <td>WASHINGTON (Reuters) - Transgender people will...</td>\n",
       "      <td>politicsNews</td>\n",
       "      <td>December 29, 2017</td>\n",
       "      <td>True</td>\n",
       "    </tr>\n",
       "    <tr>\n",
       "      <th>2</th>\n",
       "      <td>Senior U.S. Republican senator: 'Let Mr. Muell...</td>\n",
       "      <td>WASHINGTON (Reuters) - The special counsel inv...</td>\n",
       "      <td>politicsNews</td>\n",
       "      <td>December 31, 2017</td>\n",
       "      <td>True</td>\n",
       "    </tr>\n",
       "    <tr>\n",
       "      <th>3</th>\n",
       "      <td>FBI Russia probe helped by Australian diplomat...</td>\n",
       "      <td>WASHINGTON (Reuters) - Trump campaign adviser ...</td>\n",
       "      <td>politicsNews</td>\n",
       "      <td>December 30, 2017</td>\n",
       "      <td>True</td>\n",
       "    </tr>\n",
       "    <tr>\n",
       "      <th>4</th>\n",
       "      <td>Trump wants Postal Service to charge 'much mor...</td>\n",
       "      <td>SEATTLE/WASHINGTON (Reuters) - President Donal...</td>\n",
       "      <td>politicsNews</td>\n",
       "      <td>December 29, 2017</td>\n",
       "      <td>True</td>\n",
       "    </tr>\n",
       "  </tbody>\n",
       "</table>\n",
       "</div>"
      ],
      "text/plain": [
       "                                               title  \\\n",
       "0  As U.S. budget fight looms, Republicans flip t...   \n",
       "1  U.S. military to accept transgender recruits o...   \n",
       "2  Senior U.S. Republican senator: 'Let Mr. Muell...   \n",
       "3  FBI Russia probe helped by Australian diplomat...   \n",
       "4  Trump wants Postal Service to charge 'much mor...   \n",
       "\n",
       "                                                text       subject  \\\n",
       "0  WASHINGTON (Reuters) - The head of a conservat...  politicsNews   \n",
       "1  WASHINGTON (Reuters) - Transgender people will...  politicsNews   \n",
       "2  WASHINGTON (Reuters) - The special counsel inv...  politicsNews   \n",
       "3  WASHINGTON (Reuters) - Trump campaign adviser ...  politicsNews   \n",
       "4  SEATTLE/WASHINGTON (Reuters) - President Donal...  politicsNews   \n",
       "\n",
       "                 date label  \n",
       "0  December 31, 2017   True  \n",
       "1  December 29, 2017   True  \n",
       "2  December 31, 2017   True  \n",
       "3  December 30, 2017   True  \n",
       "4  December 29, 2017   True  "
      ]
     },
     "execution_count": 3,
     "metadata": {},
     "output_type": "execute_result"
    }
   ],
   "source": [
    "#3. Chargement des fichiers CSV\n",
    "csv_files = [f for f in os.listdir(RAW_PATH) if f.endswith(\".csv\")]\n",
    "print(f\"Fichiers trouvés : {csv_files}\")\n",
    "\n",
    "dfs = []\n",
    "for file_name in csv_files:\n",
    "    df_tmp = pd.read_csv(os.path.join(RAW_PATH, file_name))\n",
    "    # Ajouter une colonne label en fonction du nom du fichier\n",
    "    df_tmp[\"label\"] = \"Fake\" if \"fake\" in file_name.lower() else \"True\"\n",
    "    dfs.append(df_tmp)\n",
    "\n",
    "# Fusionner les DataFrames\n",
    "df = pd.concat(dfs, ignore_index=True)\n",
    "print(f\"📊 Taille totale du dataset : {df.shape}\")\n",
    "df.head()\n"
   ]
  },
  {
   "cell_type": "code",
   "execution_count": 4,
   "id": "3fc3349e",
   "metadata": {},
   "outputs": [
    {
     "name": "stdout",
     "output_type": "stream",
     "text": [
      "Valeurs manquantes par colonne :\n",
      "title      0\n",
      "text       0\n",
      "subject    0\n",
      "date       0\n",
      "label      0\n",
      "dtype: int64\n",
      "\n",
      "Nombre de doublons : 209\n"
     ]
    }
   ],
   "source": [
    "#4. Vérification des données\n",
    "print(\"Valeurs manquantes par colonne :\")\n",
    "print(df.isna().sum())\n",
    "\n",
    "print(\"\\nNombre de doublons :\", df.duplicated().sum())\n",
    "\n",
    "# Suppression des doublons et des valeurs manquantes\n",
    "df = df.drop_duplicates().fillna(\"\")\n"
   ]
  },
  {
   "cell_type": "code",
   "execution_count": 5,
   "id": "78bf41d2",
   "metadata": {},
   "outputs": [
    {
     "data": {
      "application/vnd.microsoft.datawrangler.viewer.v0+json": {
       "columns": [
        {
         "name": "index",
         "rawType": "int64",
         "type": "integer"
        },
        {
         "name": "text",
         "rawType": "object",
         "type": "string"
        },
        {
         "name": "clean_text",
         "rawType": "object",
         "type": "string"
        }
       ],
       "ref": "214aa4cb-6a9e-485b-99fd-57ff1a764a8e",
       "rows": [
        [
         "0",
         "WASHINGTON (Reuters) - The head of a conservative Republican faction in the U.S. Congress, who voted this month for a huge expansion of the national debt to pay for tax cuts, called himself a “fiscal conservative” on Sunday and urged budget restraint in 2018. In keeping with a sharp pivot under way among Republicans, U.S. Representative Mark Meadows, speaking on CBS’ “Face the Nation,” drew a hard line on federal spending, which lawmakers are bracing to do battle over in January. When they return from the holidays on Wednesday, lawmakers will begin trying to pass a federal budget in a fight likely to be linked to other issues, such as immigration policy, even as the November congressional election campaigns approach in which Republicans will seek to keep control of Congress. President Donald Trump and his Republicans want a big budget increase in military spending, while Democrats also want proportional increases for non-defense “discretionary” spending on programs that support education, scientific research, infrastructure, public health and environmental protection. “The (Trump) administration has already been willing to say: ‘We’re going to increase non-defense discretionary spending ... by about 7 percent,’” Meadows, chairman of the small but influential House Freedom Caucus, said on the program. “Now, Democrats are saying that’s not enough, we need to give the government a pay raise of 10 to 11 percent. For a fiscal conservative, I don’t see where the rationale is. ... Eventually you run out of other people’s money,” he said. Meadows was among Republicans who voted in late December for their party’s debt-financed tax overhaul, which is expected to balloon the federal budget deficit and add about $1.5 trillion over 10 years to the $20 trillion national debt. “It’s interesting to hear Mark talk about fiscal responsibility,” Democratic U.S. Representative Joseph Crowley said on CBS. Crowley said the Republican tax bill would require the  United States to borrow $1.5 trillion, to be paid off by future generations, to finance tax cuts for corporations and the rich. “This is one of the least ... fiscally responsible bills we’ve ever seen passed in the history of the House of Representatives. I think we’re going to be paying for this for many, many years to come,” Crowley said. Republicans insist the tax package, the biggest U.S. tax overhaul in more than 30 years,  will boost the economy and job growth. House Speaker Paul Ryan, who also supported the tax bill, recently went further than Meadows, making clear in a radio interview that welfare or “entitlement reform,” as the party often calls it, would be a top Republican priority in 2018. In Republican parlance, “entitlement” programs mean food stamps, housing assistance, Medicare and Medicaid health insurance for the elderly, poor and disabled, as well as other programs created by Washington to assist the needy. Democrats seized on Ryan’s early December remarks, saying they showed Republicans would try to pay for their tax overhaul by seeking spending cuts for social programs. But the goals of House Republicans may have to take a back seat to the Senate, where the votes of some Democrats will be needed to approve a budget and prevent a government shutdown. Democrats will use their leverage in the Senate, which Republicans narrowly control, to defend both discretionary non-defense programs and social spending, while tackling the issue of the “Dreamers,” people brought illegally to the country as children. Trump in September put a March 2018 expiration date on the Deferred Action for Childhood Arrivals, or DACA, program, which protects the young immigrants from deportation and provides them with work permits. The president has said in recent Twitter messages he wants funding for his proposed Mexican border wall and other immigration law changes in exchange for agreeing to help the Dreamers. Representative Debbie Dingell told CBS she did not favor linking that issue to other policy objectives, such as wall funding. “We need to do DACA clean,” she said.  On Wednesday, Trump aides will meet with congressional leaders to discuss those issues. That will be followed by a weekend of strategy sessions for Trump and Republican leaders on Jan. 6 and 7, the White House said. Trump was also scheduled to meet on Sunday with Florida Republican Governor Rick Scott, who wants more emergency aid. The House has passed an $81 billion aid package after hurricanes in Florida, Texas and Puerto Rico, and wildfires in California. The package far exceeded the $44 billion requested by the Trump administration. The Senate has not yet voted on the aid. ",
         "washington reuters the head of a conservative republican faction in the u s congress who voted this month for a huge expansion of the national debt to pay for tax cuts called himself a fiscal conservative on sunday and urged budget restraint in 2018 in keeping with a sharp pivot under way among republicans u s representative mark meadows speaking on cbs face the nation drew a hard line on federal spending which lawmakers are bracing to do battle over in january when they return from the holidays on wednesday lawmakers will begin trying to pass a federal budget in a fight likely to be linked to other issues such as immigration policy even as the november congressional election campaigns approach in which republicans will seek to keep control of congress president donald trump and his republicans want a big budget increase in military spending while democrats also want proportional increases for non defense discretionary spending on programs that support education scientific research infrastructure public health and environmental protection the trump administration has already been willing to say we re going to increase non defense discretionary spending by about 7 percent meadows chairman of the small but influential house freedom caucus said on the program now democrats are saying that s not enough we need to give the government a pay raise of 10 to 11 percent for a fiscal conservative i don t see where the rationale is eventually you run out of other people s money he said meadows was among republicans who voted in late december for their party s debt financed tax overhaul which is expected to balloon the federal budget deficit and add about 1 5 trillion over 10 years to the 20 trillion national debt it s interesting to hear mark talk about fiscal responsibility democratic u s representative joseph crowley said on cbs crowley said the republican tax bill would require the united states to borrow 1 5 trillion to be paid off by future generations to finance tax cuts for corporations and the rich this is one of the least fiscally responsible bills we ve ever seen passed in the history of the house of representatives i think we re going to be paying for this for many many years to come crowley said republicans insist the tax package the biggest u s tax overhaul in more than 30 years will boost the economy and job growth house speaker paul ryan who also supported the tax bill recently went further than meadows making clear in a radio interview that welfare or entitlement reform as the party often calls it would be a top republican priority in 2018 in republican parlance entitlement programs mean food stamps housing assistance medicare and medicaid health insurance for the elderly poor and disabled as well as other programs created by washington to assist the needy democrats seized on ryan s early december remarks saying they showed republicans would try to pay for their tax overhaul by seeking spending cuts for social programs but the goals of house republicans may have to take a back seat to the senate where the votes of some democrats will be needed to approve a budget and prevent a government shutdown democrats will use their leverage in the senate which republicans narrowly control to defend both discretionary non defense programs and social spending while tackling the issue of the dreamers people brought illegally to the country as children trump in september put a march 2018 expiration date on the deferred action for childhood arrivals or daca program which protects the young immigrants from deportation and provides them with work permits the president has said in recent twitter messages he wants funding for his proposed mexican border wall and other immigration law changes in exchange for agreeing to help the dreamers representative debbie dingell told cbs she did not favor linking that issue to other policy objectives such as wall funding we need to do daca clean she said on wednesday trump aides will meet with congressional leaders to discuss those issues that will be followed by a weekend of strategy sessions for trump and republican leaders on jan 6 and 7 the white house said trump was also scheduled to meet on sunday with florida republican governor rick scott who wants more emergency aid the house has passed an 81 billion aid package after hurricanes in florida texas and puerto rico and wildfires in california the package far exceeded the 44 billion requested by the trump administration the senate has not yet voted on the aid"
        ],
        [
         "1",
         "WASHINGTON (Reuters) - Transgender people will be allowed for the first time to enlist in the U.S. military starting on Monday as ordered by federal courts, the Pentagon said on Friday, after President Donald Trump’s administration decided not to appeal rulings that blocked his transgender ban. Two federal appeals courts, one in Washington and one in Virginia, last week rejected the administration’s request to put on hold orders by lower court judges requiring the military to begin accepting transgender recruits on Jan. 1. A Justice Department official said the administration will not challenge those rulings. “The Department of Defense has announced that it will be releasing an independent study of these issues in the coming weeks. So rather than litigate this interim appeal before that occurs, the administration has decided to wait for DOD’s study and will continue to defend the president’s lawful authority in District Court in the meantime,” the official said, speaking on condition of anonymity. In September, the Pentagon said it had created a panel of senior officials to study how to implement a directive by Trump to prohibit transgender individuals from serving. The Defense Department has until Feb. 21 to submit a plan to Trump. Lawyers representing currently-serving transgender service members and aspiring recruits said they had expected the administration to appeal the rulings to the conservative-majority Supreme Court, but were hoping that would not happen. Pentagon spokeswoman Heather Babb said in a statement: “As mandated by court order, the Department of Defense is prepared to begin accessing transgender applicants for military service Jan. 1. All applicants must meet all accession standards.” Jennifer Levi, a lawyer with gay, lesbian and transgender advocacy group GLAD, called the decision not to appeal “great news.” “I’m hoping it means the government has come to see that there is no way to justify a ban and that it’s not good for the military or our country,” Levi said. Both GLAD and the American Civil Liberties Union represent plaintiffs in the lawsuits filed against the administration. In a move that appealed to his hard-line conservative supporters, Trump announced in July that he would prohibit transgender people from serving in the military, reversing Democratic President Barack Obama’s policy of accepting them. Trump said on Twitter at the time that the military “cannot be burdened with the tremendous medical costs and disruption that transgender in the military would entail.” Four federal judges - in Baltimore, Washington, D.C., Seattle and Riverside, California - have issued rulings blocking Trump’s ban while legal challenges to the Republican president’s policy proceed. The judges said the ban would likely violate the right under the U.S. Constitution to equal protection under the law. The Pentagon on Dec. 8 issued guidelines to recruitment personnel in order to enlist transgender applicants by Jan. 1. The memo outlined medical requirements and specified how the applicants’ sex would be identified and even which undergarments they would wear. The Trump administration previously said in legal papers that the armed forces were not prepared to train thousands of personnel on the medical standards needed to process transgender applicants and might have to accept “some individuals who are not medically fit for service.” The Obama administration had set a deadline of July 1, 2017, to begin accepting transgender recruits. But Trump’s defense secretary, James Mattis, postponed that date to Jan. 1, 2018, which the president’s ban then put off indefinitely. Trump has taken other steps aimed at rolling back transgender rights. In October, his administration said a federal law banning gender-based workplace discrimination does not protect transgender employees, reversing another Obama-era position. In February, Trump rescinded guidance issued by the Obama administration saying that public schools should allow transgender students to use the restroom that corresponds to their gender identity. ",
         "washington reuters transgender people will be allowed for the first time to enlist in the u s military starting on monday as ordered by federal courts the pentagon said on friday after president donald trump s administration decided not to appeal rulings that blocked his transgender ban two federal appeals courts one in washington and one in virginia last week rejected the administration s request to put on hold orders by lower court judges requiring the military to begin accepting transgender recruits on jan 1 a justice department official said the administration will not challenge those rulings the department of defense has announced that it will be releasing an independent study of these issues in the coming weeks so rather than litigate this interim appeal before that occurs the administration has decided to wait for dod s study and will continue to defend the president s lawful authority in district court in the meantime the official said speaking on condition of anonymity in september the pentagon said it had created a panel of senior officials to study how to implement a directive by trump to prohibit transgender individuals from serving the defense department has until feb 21 to submit a plan to trump lawyers representing currently serving transgender service members and aspiring recruits said they had expected the administration to appeal the rulings to the conservative majority supreme court but were hoping that would not happen pentagon spokeswoman heather babb said in a statement as mandated by court order the department of defense is prepared to begin accessing transgender applicants for military service jan 1 all applicants must meet all accession standards jennifer levi a lawyer with gay lesbian and transgender advocacy group glad called the decision not to appeal great news i m hoping it means the government has come to see that there is no way to justify a ban and that it s not good for the military or our country levi said both glad and the american civil liberties union represent plaintiffs in the lawsuits filed against the administration in a move that appealed to his hard line conservative supporters trump announced in july that he would prohibit transgender people from serving in the military reversing democratic president barack obama s policy of accepting them trump said on twitter at the time that the military cannot be burdened with the tremendous medical costs and disruption that transgender in the military would entail four federal judges in baltimore washington d c seattle and riverside california have issued rulings blocking trump s ban while legal challenges to the republican president s policy proceed the judges said the ban would likely violate the right under the u s constitution to equal protection under the law the pentagon on dec 8 issued guidelines to recruitment personnel in order to enlist transgender applicants by jan 1 the memo outlined medical requirements and specified how the applicants sex would be identified and even which undergarments they would wear the trump administration previously said in legal papers that the armed forces were not prepared to train thousands of personnel on the medical standards needed to process transgender applicants and might have to accept some individuals who are not medically fit for service the obama administration had set a deadline of july 1 2017 to begin accepting transgender recruits but trump s defense secretary james mattis postponed that date to jan 1 2018 which the president s ban then put off indefinitely trump has taken other steps aimed at rolling back transgender rights in october his administration said a federal law banning gender based workplace discrimination does not protect transgender employees reversing another obama era position in february trump rescinded guidance issued by the obama administration saying that public schools should allow transgender students to use the restroom that corresponds to their gender identity"
        ],
        [
         "2",
         "WASHINGTON (Reuters) - The special counsel investigation of links between Russia and President Trump’s 2016 election campaign should continue without interference in 2018, despite calls from some Trump administration allies and Republican lawmakers to shut it down, a prominent Republican senator said on Sunday. Lindsey Graham, who serves on the Senate armed forces and judiciary committees, said Department of Justice Special Counsel Robert Mueller needs to carry on with his Russia investigation without political interference. “This investigation will go forward. It will be an investigation conducted without political influence,” Graham said on CBS’s Face the Nation news program. “And we all need to let Mr. Mueller do his job. I think he’s the right guy at the right time.”  The question of how Russia may have interfered in the election, and how Trump’s campaign may have had links with or co-ordinated any such effort, has loomed over the White House since Trump took office in January. It shows no sign of receding as Trump prepares for his second year in power, despite intensified rhetoric from some Trump allies in recent weeks accusing Mueller’s team of bias against the Republican president. Trump himself seemed to undercut his supporters in an interview last week with the New York Times in which he said he expected Mueller was “going to be fair.”    Russia’s role in the election and the question of possible links to the Trump campaign are the focus of multiple inquiries in Washington. Three committees of the Senate and the House of Representatives are investigating, as well as Mueller, whose team in May took over an earlier probe launched by the U.S. Federal Bureau of Investigation (FBI). Several members of the Trump campaign and administration have been convicted or indicted in the investigation.  Trump and his allies deny any collusion with Russia during the campaign, and the Kremlin has denied meddling in the election. Graham said he still wants an examination of the FBI’s use of a dossier on links between Trump and Russia that was compiled by a former British spy, Christopher Steele, which prompted Trump allies and some Republicans to question Mueller’s inquiry.   On Saturday, the New York Times reported that it was not that dossier that triggered an early FBI probe, but a tip from former Trump campaign foreign policy adviser George Papadopoulos to an Australian diplomat that Russia had damaging information about former Trump rival Hillary Clinton.  “I want somebody to look at the way the Department of Justice used this dossier. It bothers me greatly the way they used it, and I want somebody to look at it,” Graham said. But he said the Russia investigation must continue. “As a matter of fact, it would hurt us if we ignored it,” he said. ",
         "washington reuters the special counsel investigation of links between russia and president trump s 2016 election campaign should continue without interference in 2018 despite calls from some trump administration allies and republican lawmakers to shut it down a prominent republican senator said on sunday lindsey graham who serves on the senate armed forces and judiciary committees said department of justice special counsel robert mueller needs to carry on with his russia investigation without political interference this investigation will go forward it will be an investigation conducted without political influence graham said on cbs s face the nation news program and we all need to let mr mueller do his job i think he s the right guy at the right time the question of how russia may have interfered in the election and how trump s campaign may have had links with or co ordinated any such effort has loomed over the white house since trump took office in january it shows no sign of receding as trump prepares for his second year in power despite intensified rhetoric from some trump allies in recent weeks accusing mueller s team of bias against the republican president trump himself seemed to undercut his supporters in an interview last week with the new york times in which he said he expected mueller was going to be fair russia s role in the election and the question of possible links to the trump campaign are the focus of multiple inquiries in washington three committees of the senate and the house of representatives are investigating as well as mueller whose team in may took over an earlier probe launched by the u s federal bureau of investigation fbi several members of the trump campaign and administration have been convicted or indicted in the investigation trump and his allies deny any collusion with russia during the campaign and the kremlin has denied meddling in the election graham said he still wants an examination of the fbi s use of a dossier on links between trump and russia that was compiled by a former british spy christopher steele which prompted trump allies and some republicans to question mueller s inquiry on saturday the new york times reported that it was not that dossier that triggered an early fbi probe but a tip from former trump campaign foreign policy adviser george papadopoulos to an australian diplomat that russia had damaging information about former trump rival hillary clinton i want somebody to look at the way the department of justice used this dossier it bothers me greatly the way they used it and i want somebody to look at it graham said but he said the russia investigation must continue as a matter of fact it would hurt us if we ignored it he said"
        ]
       ],
       "shape": {
        "columns": 2,
        "rows": 3
       }
      },
      "text/html": [
       "<div>\n",
       "<style scoped>\n",
       "    .dataframe tbody tr th:only-of-type {\n",
       "        vertical-align: middle;\n",
       "    }\n",
       "\n",
       "    .dataframe tbody tr th {\n",
       "        vertical-align: top;\n",
       "    }\n",
       "\n",
       "    .dataframe thead th {\n",
       "        text-align: right;\n",
       "    }\n",
       "</style>\n",
       "<table border=\"1\" class=\"dataframe\">\n",
       "  <thead>\n",
       "    <tr style=\"text-align: right;\">\n",
       "      <th></th>\n",
       "      <th>text</th>\n",
       "      <th>clean_text</th>\n",
       "    </tr>\n",
       "  </thead>\n",
       "  <tbody>\n",
       "    <tr>\n",
       "      <th>0</th>\n",
       "      <td>WASHINGTON (Reuters) - The head of a conservat...</td>\n",
       "      <td>washington reuters the head of a conservative ...</td>\n",
       "    </tr>\n",
       "    <tr>\n",
       "      <th>1</th>\n",
       "      <td>WASHINGTON (Reuters) - Transgender people will...</td>\n",
       "      <td>washington reuters transgender people will be ...</td>\n",
       "    </tr>\n",
       "    <tr>\n",
       "      <th>2</th>\n",
       "      <td>WASHINGTON (Reuters) - The special counsel inv...</td>\n",
       "      <td>washington reuters the special counsel investi...</td>\n",
       "    </tr>\n",
       "  </tbody>\n",
       "</table>\n",
       "</div>"
      ],
      "text/plain": [
       "                                                text  \\\n",
       "0  WASHINGTON (Reuters) - The head of a conservat...   \n",
       "1  WASHINGTON (Reuters) - Transgender people will...   \n",
       "2  WASHINGTON (Reuters) - The special counsel inv...   \n",
       "\n",
       "                                          clean_text  \n",
       "0  washington reuters the head of a conservative ...  \n",
       "1  washington reuters transgender people will be ...  \n",
       "2  washington reuters the special counsel investi...  "
      ]
     },
     "execution_count": 5,
     "metadata": {},
     "output_type": "execute_result"
    }
   ],
   "source": [
    "#5. Nettoyage des textes\n",
    "def clean_text(text):\n",
    "    \"\"\"\n",
    "    Nettoie un texte :\n",
    "    - Supprime les balises HTML\n",
    "    - Supprime les URLs\n",
    "    - Supprime les caractères spéciaux\n",
    "    - Supprime les espaces multiples\n",
    "    - Convertit en minuscules\n",
    "    \"\"\"\n",
    "    if not isinstance(text, str):\n",
    "        return \"\"\n",
    "    text = BeautifulSoup(text, \"html.parser\").get_text()\n",
    "    text = re.sub(r\"http\\S+|www\\S+\", \"\", text)\n",
    "    text = re.sub(r\"[^A-Za-z0-9À-ÿ\\s]\", \" \", text)\n",
    "    text = re.sub(r\"\\s+\", \" \", text).strip()\n",
    "    return text.lower()\n",
    "\n",
    "df[\"clean_text\"] = df[\"text\"].apply(clean_text)\n",
    "\n",
    "# Vérification du nettoyage\n",
    "df[[\"text\", \"clean_text\"]].head(3)\n"
   ]
  },
  {
   "cell_type": "code",
   "execution_count": null,
   "id": "993545ee",
   "metadata": {},
   "outputs": [],
   "source": [
    "#6. Suppression des stopwords et lemmatisation\n",
    "from spacy.lang.en.stop_words import STOP_WORDS\n",
    "\n",
    "def lemmatize_text(text):\n",
    "    \"\"\"Applique la lemmatisation et retire les stopwords\"\"\"\n",
    "    doc = nlp(text)\n",
    "    tokens = [token.lemma_ for token in doc if token.text.lower() not in STOP_WORDS]\n",
    "    return \" \".join(tokens)\n",
    "\n",
    "# Pour accélérer le test, on peut le faire sur un échantillon d'abord :\n",
    "sample = df[\"clean_text\"].iloc[:3].apply(lemmatize_text)\n",
    "print(sample)"
   ]
  },
  {
   "cell_type": "code",
   "execution_count": 6,
   "id": "3dbe23b8",
   "metadata": {},
   "outputs": [
    {
     "name": "stdout",
     "output_type": "stream",
     "text": [
      "['washington reuters the head of a conservative republican faction in the u s congress who voted this month for a huge expansion of the national debt to pay for tax cuts called himself a fiscal conservative on sunday and urged budget restraint in 2018 in keeping with a sharp pivot', 'budget restraint in 2018 in keeping with a sharp pivot under way among republicans u s representative mark meadows speaking on cbs face the nation drew a hard line on federal spending which lawmakers are bracing to do battle over in january when they return from the holidays on wednesday']\n"
     ]
    }
   ],
   "source": [
    "# 7. Découpage en chunks\n",
    "def chunk_text(text, chunk_size=200, overlap=50):\n",
    "    \"\"\"\n",
    "    Découpe un texte en morceaux de longueur fixe (en mots)\n",
    "    avec un chevauchement pour conserver le contexte.\n",
    "    \"\"\"\n",
    "    words = text.split()\n",
    "    chunks = []\n",
    "    start = 0\n",
    "    while start < len(words):\n",
    "        end = start + chunk_size\n",
    "        chunk = \" \".join(words[start:end])\n",
    "        if chunk:\n",
    "            chunks.append(chunk)\n",
    "        start += chunk_size - overlap\n",
    "    return chunks\n",
    "\n",
    "# Exemple\n",
    "example_text = df[\"clean_text\"].iloc[0]\n",
    "print(chunk_text(example_text, chunk_size=50, overlap=10)[:2])\n"
   ]
  },
  {
   "cell_type": "code",
   "execution_count": 7,
   "id": "61eefdb7",
   "metadata": {},
   "outputs": [
    {
     "name": "stderr",
     "output_type": "stream",
     "text": [
      "100%|██████████| 44689/44689 [00:04<00:00, 9819.05it/s] \n"
     ]
    },
    {
     "name": "stdout",
     "output_type": "stream",
     "text": [
      "✅ Nombre total de chunks : 145486\n"
     ]
    },
    {
     "data": {
      "application/vnd.microsoft.datawrangler.viewer.v0+json": {
       "columns": [
        {
         "name": "index",
         "rawType": "int64",
         "type": "integer"
        },
        {
         "name": "article_id",
         "rawType": "int64",
         "type": "integer"
        },
        {
         "name": "title",
         "rawType": "object",
         "type": "string"
        },
        {
         "name": "chunk_id",
         "rawType": "int64",
         "type": "integer"
        },
        {
         "name": "chunk_text",
         "rawType": "object",
         "type": "string"
        },
        {
         "name": "label",
         "rawType": "object",
         "type": "string"
        }
       ],
       "ref": "f837d680-6aa1-413e-a222-92c7a923e99f",
       "rows": [
        [
         "0",
         "0",
         "As U.S. budget fight looms, Republicans flip their fiscal script",
         "0",
         "washington reuters the head of a conservative republican faction in the u s congress who voted this month for a huge expansion of the national debt to pay for tax cuts called himself a fiscal conservative on sunday and urged budget restraint in 2018 in keeping with a sharp pivot under way among republicans u s representative mark meadows speaking on cbs face the nation drew a hard line on federal spending which lawmakers are bracing to do battle over in january when they return from the holidays on wednesday lawmakers will begin trying to pass a federal budget in a fight likely to be linked to other issues such as immigration policy even as the november congressional election campaigns approach in which republicans will seek to keep control of congress president donald trump and his republicans want a big budget increase in military spending while democrats also want proportional increases for non defense discretionary spending on programs that support education scientific research infrastructure public health and environmental protection the trump administration has already been willing to say we re going to increase non defense discretionary spending by about 7 percent meadows chairman of the small but influential house freedom",
         "True"
        ],
        [
         "1",
         "0",
         "As U.S. budget fight looms, Republicans flip their fiscal script",
         "1",
         "increases for non defense discretionary spending on programs that support education scientific research infrastructure public health and environmental protection the trump administration has already been willing to say we re going to increase non defense discretionary spending by about 7 percent meadows chairman of the small but influential house freedom caucus said on the program now democrats are saying that s not enough we need to give the government a pay raise of 10 to 11 percent for a fiscal conservative i don t see where the rationale is eventually you run out of other people s money he said meadows was among republicans who voted in late december for their party s debt financed tax overhaul which is expected to balloon the federal budget deficit and add about 1 5 trillion over 10 years to the 20 trillion national debt it s interesting to hear mark talk about fiscal responsibility democratic u s representative joseph crowley said on cbs crowley said the republican tax bill would require the united states to borrow 1 5 trillion to be paid off by future generations to finance tax cuts for corporations and the rich this is one of the least fiscally responsible",
         "True"
        ],
        [
         "2",
         "0",
         "As U.S. budget fight looms, Republicans flip their fiscal script",
         "2",
         "responsibility democratic u s representative joseph crowley said on cbs crowley said the republican tax bill would require the united states to borrow 1 5 trillion to be paid off by future generations to finance tax cuts for corporations and the rich this is one of the least fiscally responsible bills we ve ever seen passed in the history of the house of representatives i think we re going to be paying for this for many many years to come crowley said republicans insist the tax package the biggest u s tax overhaul in more than 30 years will boost the economy and job growth house speaker paul ryan who also supported the tax bill recently went further than meadows making clear in a radio interview that welfare or entitlement reform as the party often calls it would be a top republican priority in 2018 in republican parlance entitlement programs mean food stamps housing assistance medicare and medicaid health insurance for the elderly poor and disabled as well as other programs created by washington to assist the needy democrats seized on ryan s early december remarks saying they showed republicans would try to pay for their tax overhaul by seeking",
         "True"
        ],
        [
         "3",
         "0",
         "As U.S. budget fight looms, Republicans flip their fiscal script",
         "3",
         "mean food stamps housing assistance medicare and medicaid health insurance for the elderly poor and disabled as well as other programs created by washington to assist the needy democrats seized on ryan s early december remarks saying they showed republicans would try to pay for their tax overhaul by seeking spending cuts for social programs but the goals of house republicans may have to take a back seat to the senate where the votes of some democrats will be needed to approve a budget and prevent a government shutdown democrats will use their leverage in the senate which republicans narrowly control to defend both discretionary non defense programs and social spending while tackling the issue of the dreamers people brought illegally to the country as children trump in september put a march 2018 expiration date on the deferred action for childhood arrivals or daca program which protects the young immigrants from deportation and provides them with work permits the president has said in recent twitter messages he wants funding for his proposed mexican border wall and other immigration law changes in exchange for agreeing to help the dreamers representative debbie dingell told cbs she did not favor linking that issue",
         "True"
        ],
        [
         "4",
         "0",
         "As U.S. budget fight looms, Republicans flip their fiscal script",
         "4",
         "from deportation and provides them with work permits the president has said in recent twitter messages he wants funding for his proposed mexican border wall and other immigration law changes in exchange for agreeing to help the dreamers representative debbie dingell told cbs she did not favor linking that issue to other policy objectives such as wall funding we need to do daca clean she said on wednesday trump aides will meet with congressional leaders to discuss those issues that will be followed by a weekend of strategy sessions for trump and republican leaders on jan 6 and 7 the white house said trump was also scheduled to meet on sunday with florida republican governor rick scott who wants more emergency aid the house has passed an 81 billion aid package after hurricanes in florida texas and puerto rico and wildfires in california the package far exceeded the 44 billion requested by the trump administration the senate has not yet voted on the aid",
         "True"
        ]
       ],
       "shape": {
        "columns": 5,
        "rows": 5
       }
      },
      "text/html": [
       "<div>\n",
       "<style scoped>\n",
       "    .dataframe tbody tr th:only-of-type {\n",
       "        vertical-align: middle;\n",
       "    }\n",
       "\n",
       "    .dataframe tbody tr th {\n",
       "        vertical-align: top;\n",
       "    }\n",
       "\n",
       "    .dataframe thead th {\n",
       "        text-align: right;\n",
       "    }\n",
       "</style>\n",
       "<table border=\"1\" class=\"dataframe\">\n",
       "  <thead>\n",
       "    <tr style=\"text-align: right;\">\n",
       "      <th></th>\n",
       "      <th>article_id</th>\n",
       "      <th>title</th>\n",
       "      <th>chunk_id</th>\n",
       "      <th>chunk_text</th>\n",
       "      <th>label</th>\n",
       "    </tr>\n",
       "  </thead>\n",
       "  <tbody>\n",
       "    <tr>\n",
       "      <th>0</th>\n",
       "      <td>0</td>\n",
       "      <td>As U.S. budget fight looms, Republicans flip t...</td>\n",
       "      <td>0</td>\n",
       "      <td>washington reuters the head of a conservative ...</td>\n",
       "      <td>True</td>\n",
       "    </tr>\n",
       "    <tr>\n",
       "      <th>1</th>\n",
       "      <td>0</td>\n",
       "      <td>As U.S. budget fight looms, Republicans flip t...</td>\n",
       "      <td>1</td>\n",
       "      <td>increases for non defense discretionary spendi...</td>\n",
       "      <td>True</td>\n",
       "    </tr>\n",
       "    <tr>\n",
       "      <th>2</th>\n",
       "      <td>0</td>\n",
       "      <td>As U.S. budget fight looms, Republicans flip t...</td>\n",
       "      <td>2</td>\n",
       "      <td>responsibility democratic u s representative j...</td>\n",
       "      <td>True</td>\n",
       "    </tr>\n",
       "    <tr>\n",
       "      <th>3</th>\n",
       "      <td>0</td>\n",
       "      <td>As U.S. budget fight looms, Republicans flip t...</td>\n",
       "      <td>3</td>\n",
       "      <td>mean food stamps housing assistance medicare a...</td>\n",
       "      <td>True</td>\n",
       "    </tr>\n",
       "    <tr>\n",
       "      <th>4</th>\n",
       "      <td>0</td>\n",
       "      <td>As U.S. budget fight looms, Republicans flip t...</td>\n",
       "      <td>4</td>\n",
       "      <td>from deportation and provides them with work p...</td>\n",
       "      <td>True</td>\n",
       "    </tr>\n",
       "  </tbody>\n",
       "</table>\n",
       "</div>"
      ],
      "text/plain": [
       "   article_id                                              title  chunk_id  \\\n",
       "0           0  As U.S. budget fight looms, Republicans flip t...         0   \n",
       "1           0  As U.S. budget fight looms, Republicans flip t...         1   \n",
       "2           0  As U.S. budget fight looms, Republicans flip t...         2   \n",
       "3           0  As U.S. budget fight looms, Republicans flip t...         3   \n",
       "4           0  As U.S. budget fight looms, Republicans flip t...         4   \n",
       "\n",
       "                                          chunk_text label  \n",
       "0  washington reuters the head of a conservative ...  True  \n",
       "1  increases for non defense discretionary spendi...  True  \n",
       "2  responsibility democratic u s representative j...  True  \n",
       "3  mean food stamps housing assistance medicare a...  True  \n",
       "4  from deportation and provides them with work p...  True  "
      ]
     },
     "execution_count": 7,
     "metadata": {},
     "output_type": "execute_result"
    }
   ],
   "source": [
    "#8. Application du découpage à tout le dataset\n",
    "all_chunks = []\n",
    "for idx, row in tqdm(df.iterrows(), total=len(df)):\n",
    "    chunks = chunk_text(row[\"clean_text\"], chunk_size=200, overlap=50)\n",
    "    for i, chunk in enumerate(chunks):\n",
    "        all_chunks.append({\n",
    "            \"article_id\": idx,\n",
    "            \"title\": row.get(\"title\", \"\"),\n",
    "            \"chunk_id\": i,\n",
    "            \"chunk_text\": chunk,\n",
    "            \"label\": row[\"label\"]\n",
    "        })\n",
    "\n",
    "df_chunks = pd.DataFrame(all_chunks)\n",
    "print(f\"✅ Nombre total de chunks : {df_chunks.shape[0]}\")\n",
    "df_chunks.head()\n"
   ]
  },
  {
   "cell_type": "code",
   "execution_count": null,
   "id": "66da5b93",
   "metadata": {},
   "outputs": [
    {
     "name": "stdout",
     "output_type": "stream",
     "text": [
      "📂 Données nettoyées sauvegardées : data/processed/articles_cleaned.csv\n",
      "📂 Chunks sauvegardés : data/processed/articles_chunks.csv\n"
     ]
    }
   ],
   "source": [
    "#9. Sauvegarde des fichiers nettoyés \n",
    "# Sauvegarde du dataset nettoyé complet\n",
    "cleaned_path = os.path.join(PROCESSED_PATH, \"articles_cleaned.csv\")\n",
    "df.to_csv(cleaned_path, index=False)\n",
    "\n",
    "# Sauvegarde du dataset chunké\n",
    "chunks_path = os.path.join(PROCESSED_PATH, \"articles_chunks.csv\")\n",
    "df_chunks.to_csv(chunks_path, index=False)\n",
    "\n",
    "print(f\" Données nettoyées sauvegardées : {cleaned_path}\")\n",
    "print(f\" Chunks sauvegardés : {chunks_path}\")\n"
   ]
  },
  {
   "cell_type": "code",
   "execution_count": 9,
   "id": "7bd8ce18",
   "metadata": {},
   "outputs": [
    {
     "name": "stdout",
     "output_type": "stream",
     "text": [
      "Tous les tests basiques sont passés.\n"
     ]
    }
   ],
   "source": [
    "#10. Tests simples \n",
    "# Vérifier qu’il n’y a pas de texte vide\n",
    "assert (df_chunks[\"chunk_text\"].str.strip() != \"\").all(), \" Des chunks vides détectés !\"\n",
    "\n",
    "# Vérifier la cohérence du label\n",
    "assert set(df_chunks[\"label\"].unique()) <= {\"True\", \"Fake\"}, \"Label invalide détecté !\"\n",
    "\n",
    "print(\"Tous les tests basiques sont passés.\")"
   ]
  },
  {
   "cell_type": "markdown",
   "id": "3f1dc213",
   "metadata": {},
   "source": [
    "#### ✅ Étapes réalisées :\n",
    "- Chargement et fusion des fichiers True/Fake\n",
    "- Nettoyage complet des textes (HTML, URLs, caractères spéciaux, etc.)\n",
    "- Mise en minuscules\n",
    "- Lemmatisation et suppression des stopwords (optionnelle)\n",
    "- Découpage en chunks pour la vectorisation\n",
    "- Sauvegarde des jeux de données nettoyés et prêts pour ChromaDB\n",
    "\n",
    "#### 🚀 Étape suivante :\n",
    "👉 Passer à la **vectorisation et au stockage dans ChromaDB**\n",
    "où chaque chunk sera converti en vecteur à l’aide du modèle d’embedding (Ollama).\n"
   ]
  },
  {
   "cell_type": "markdown",
   "id": "13776c59",
   "metadata": {},
   "source": [
    "### Étape 2 : Vectorisation et stockage dans ChromaDB\n",
    "#### Objectif :\n",
    "##### Charger les chunks nettoyés, créer une collection dans ChromaDB,\n",
    "##### générer les embeddings via Ollama et stocker le tout avec les métadonnées."
   ]
  },
  {
   "cell_type": "code",
   "execution_count": 48,
   "id": "438989c6",
   "metadata": {},
   "outputs": [],
   "source": [
    "# 1 Installation des bibliothèques\n",
    "# #!pip install chromadb ollama --quiet\n",
    "import chromadb\n",
    "from chromadb.utils import embedding_functions"
   ]
  },
  {
   "cell_type": "code",
   "execution_count": 49,
   "id": "9af3762a",
   "metadata": {},
   "outputs": [
    {
     "name": "stdout",
     "output_type": "stream",
     "text": [
      "145486 chunks chargés depuis data/processed/articles_chunks.csv\n"
     ]
    },
    {
     "data": {
      "application/vnd.microsoft.datawrangler.viewer.v0+json": {
       "columns": [
        {
         "name": "index",
         "rawType": "int64",
         "type": "integer"
        },
        {
         "name": "article_id",
         "rawType": "int64",
         "type": "integer"
        },
        {
         "name": "title",
         "rawType": "object",
         "type": "string"
        },
        {
         "name": "chunk_id",
         "rawType": "int64",
         "type": "integer"
        },
        {
         "name": "chunk_text",
         "rawType": "object",
         "type": "string"
        },
        {
         "name": "label",
         "rawType": "object",
         "type": "string"
        }
       ],
       "ref": "5aa71438-64d8-4c94-8f9e-d7d76f4cbf21",
       "rows": [
        [
         "0",
         "0",
         "As U.S. budget fight looms, Republicans flip their fiscal script",
         "0",
         "washington reuters the head of a conservative republican faction in the u s congress who voted this month for a huge expansion of the national debt to pay for tax cuts called himself a fiscal conservative on sunday and urged budget restraint in 2018 in keeping with a sharp pivot under way among republicans u s representative mark meadows speaking on cbs face the nation drew a hard line on federal spending which lawmakers are bracing to do battle over in january when they return from the holidays on wednesday lawmakers will begin trying to pass a federal budget in a fight likely to be linked to other issues such as immigration policy even as the november congressional election campaigns approach in which republicans will seek to keep control of congress president donald trump and his republicans want a big budget increase in military spending while democrats also want proportional increases for non defense discretionary spending on programs that support education scientific research infrastructure public health and environmental protection the trump administration has already been willing to say we re going to increase non defense discretionary spending by about 7 percent meadows chairman of the small but influential house freedom",
         "True"
        ],
        [
         "1",
         "0",
         "As U.S. budget fight looms, Republicans flip their fiscal script",
         "1",
         "increases for non defense discretionary spending on programs that support education scientific research infrastructure public health and environmental protection the trump administration has already been willing to say we re going to increase non defense discretionary spending by about 7 percent meadows chairman of the small but influential house freedom caucus said on the program now democrats are saying that s not enough we need to give the government a pay raise of 10 to 11 percent for a fiscal conservative i don t see where the rationale is eventually you run out of other people s money he said meadows was among republicans who voted in late december for their party s debt financed tax overhaul which is expected to balloon the federal budget deficit and add about 1 5 trillion over 10 years to the 20 trillion national debt it s interesting to hear mark talk about fiscal responsibility democratic u s representative joseph crowley said on cbs crowley said the republican tax bill would require the united states to borrow 1 5 trillion to be paid off by future generations to finance tax cuts for corporations and the rich this is one of the least fiscally responsible",
         "True"
        ]
       ],
       "shape": {
        "columns": 5,
        "rows": 2
       }
      },
      "text/html": [
       "<div>\n",
       "<style scoped>\n",
       "    .dataframe tbody tr th:only-of-type {\n",
       "        vertical-align: middle;\n",
       "    }\n",
       "\n",
       "    .dataframe tbody tr th {\n",
       "        vertical-align: top;\n",
       "    }\n",
       "\n",
       "    .dataframe thead th {\n",
       "        text-align: right;\n",
       "    }\n",
       "</style>\n",
       "<table border=\"1\" class=\"dataframe\">\n",
       "  <thead>\n",
       "    <tr style=\"text-align: right;\">\n",
       "      <th></th>\n",
       "      <th>article_id</th>\n",
       "      <th>title</th>\n",
       "      <th>chunk_id</th>\n",
       "      <th>chunk_text</th>\n",
       "      <th>label</th>\n",
       "    </tr>\n",
       "  </thead>\n",
       "  <tbody>\n",
       "    <tr>\n",
       "      <th>0</th>\n",
       "      <td>0</td>\n",
       "      <td>As U.S. budget fight looms, Republicans flip t...</td>\n",
       "      <td>0</td>\n",
       "      <td>washington reuters the head of a conservative ...</td>\n",
       "      <td>True</td>\n",
       "    </tr>\n",
       "    <tr>\n",
       "      <th>1</th>\n",
       "      <td>0</td>\n",
       "      <td>As U.S. budget fight looms, Republicans flip t...</td>\n",
       "      <td>1</td>\n",
       "      <td>increases for non defense discretionary spendi...</td>\n",
       "      <td>True</td>\n",
       "    </tr>\n",
       "  </tbody>\n",
       "</table>\n",
       "</div>"
      ],
      "text/plain": [
       "   article_id                                              title  chunk_id  \\\n",
       "0           0  As U.S. budget fight looms, Republicans flip t...         0   \n",
       "1           0  As U.S. budget fight looms, Republicans flip t...         1   \n",
       "\n",
       "                                          chunk_text label  \n",
       "0  washington reuters the head of a conservative ...  True  \n",
       "1  increases for non defense discretionary spendi...  True  "
      ]
     },
     "execution_count": 49,
     "metadata": {},
     "output_type": "execute_result"
    }
   ],
   "source": [
    "#2. Chargement du dataset chunké\n",
    "CHUNKS_PATH = os.path.join(PROCESSED_PATH, \"articles_chunks.csv\")\n",
    "df_chunks = pd.read_csv(CHUNKS_PATH)\n",
    "print(f\"{df_chunks.shape[0]} chunks chargés depuis {CHUNKS_PATH}\")\n",
    "df_chunks.head(2)"
   ]
  },
  {
   "cell_type": "code",
   "execution_count": 51,
   "id": "a243f810",
   "metadata": {},
   "outputs": [
    {
     "name": "stdout",
     "output_type": "stream",
     "text": [
      " Collection 'fake_news_chunks' créée avec succès.\n"
     ]
    }
   ],
   "source": [
    "#3. Initialisation du client ChromaDB et création de la collection\n",
    "\n",
    "# Création (ou récupération) d’un client local\n",
    "client = chromadb.Client()\n",
    "\n",
    "# Nom de la collection\n",
    "collection_name = \"fake_news_chunks\"\n",
    "\n",
    "# Supprimer la collection si elle existe déjà (pour test propre)\n",
    "if collection_name in [c.name for c in client.list_collections()]:\n",
    "    client.delete_collection(name=collection_name)\n",
    "\n",
    "# Créer la collection\n",
    "collection = client.create_collection(name=collection_name)\n",
    "print(f\" Collection '{collection_name}' créée avec succès.\")"
   ]
  },
  {
   "cell_type": "code",
   "execution_count": 57,
   "id": "37f2879b",
   "metadata": {},
   "outputs": [],
   "source": [
    "# 4. Définir la fonction d’embedding avec Ollama\n",
    "#rq : Assure  d’avoir lancé le serveur Ollama en parallèle : Terminal → ollama serve\n",
    "embedding_fn = embedding_functions.OllamaEmbeddingFunction(\n",
    "    model_name=\"all-minilm\"  # modèle léger conseillé\n",
    ")"
   ]
  },
  {
   "cell_type": "code",
   "execution_count": 58,
   "id": "625db46a",
   "metadata": {},
   "outputs": [
    {
     "data": {
      "application/vnd.microsoft.datawrangler.viewer.v0+json": {
       "columns": [
        {
         "name": "index",
         "rawType": "int64",
         "type": "integer"
        },
        {
         "name": "article_id",
         "rawType": "int64",
         "type": "integer"
        },
        {
         "name": "title",
         "rawType": "object",
         "type": "string"
        },
        {
         "name": "chunk_id",
         "rawType": "int64",
         "type": "integer"
        },
        {
         "name": "chunk_text",
         "rawType": "object",
         "type": "string"
        },
        {
         "name": "label",
         "rawType": "object",
         "type": "string"
        }
       ],
       "ref": "784f86bc-1a15-4d5b-bffc-d7956ad52731",
       "rows": [
        [
         "0",
         "26204",
         " WATCH: One Of Trump’s Biggest Supporters Is Outed As A Complete Fraud On The Air",
         "3",
         "supporting donald trump for president for too long african american votes have been taken for granted by democratic politicians and enough is enough so burns literally played the race card which something conservatives hypocritically often claim that liberals do so not only is burns a liar he s a hypocrite and one has to wonder what else he is hiding featured image stephen maturen getty images",
         "Fake"
        ],
        [
         "1",
         "22451",
         " Joe Biden Is Downright Ruthless When Rich ‘A**hole’ Callously Disrespects His Dead Son",
         "0",
         "joe biden was speaking at the skybridge alternatives salt conference when one rich a hole decided to disrespect the former vice president s dead son biden was furious and he put the heckler in his place effortlessly bill ackman manager of a failing hedge fund was speaking at the wall street event as well fox business reports that during the private vip dinner former florida governor and 2016 gop presidential contender jeb bush asked biden why didn t you run biden explained that part of the decision stemmed from the death of his son beau biden who died of brain cancer in 2015 the room grew quiet as biden became emotional and said i m sorry i ve said enough that s when ackman blurted out why that s never stopped you before the formal and understated dinner conversation suddenly turned tense according to three people who were present and confirmed both the substance and the wording of biden s responses biden these people say turned to someone seated near him and asked who is this asshole a reference to ackman then he turned directly to ackman and stated look i don t know who you are wiseass but never",
         "Fake"
        ]
       ],
       "shape": {
        "columns": 5,
        "rows": 2
       }
      },
      "text/html": [
       "<div>\n",
       "<style scoped>\n",
       "    .dataframe tbody tr th:only-of-type {\n",
       "        vertical-align: middle;\n",
       "    }\n",
       "\n",
       "    .dataframe tbody tr th {\n",
       "        vertical-align: top;\n",
       "    }\n",
       "\n",
       "    .dataframe thead th {\n",
       "        text-align: right;\n",
       "    }\n",
       "</style>\n",
       "<table border=\"1\" class=\"dataframe\">\n",
       "  <thead>\n",
       "    <tr style=\"text-align: right;\">\n",
       "      <th></th>\n",
       "      <th>article_id</th>\n",
       "      <th>title</th>\n",
       "      <th>chunk_id</th>\n",
       "      <th>chunk_text</th>\n",
       "      <th>label</th>\n",
       "    </tr>\n",
       "  </thead>\n",
       "  <tbody>\n",
       "    <tr>\n",
       "      <th>0</th>\n",
       "      <td>26204</td>\n",
       "      <td>WATCH: One Of Trump’s Biggest Supporters Is O...</td>\n",
       "      <td>3</td>\n",
       "      <td>supporting donald trump for president for too ...</td>\n",
       "      <td>Fake</td>\n",
       "    </tr>\n",
       "    <tr>\n",
       "      <th>1</th>\n",
       "      <td>22451</td>\n",
       "      <td>Joe Biden Is Downright Ruthless When Rich ‘A*...</td>\n",
       "      <td>0</td>\n",
       "      <td>joe biden was speaking at the skybridge altern...</td>\n",
       "      <td>Fake</td>\n",
       "    </tr>\n",
       "  </tbody>\n",
       "</table>\n",
       "</div>"
      ],
      "text/plain": [
       "   article_id                                              title  chunk_id  \\\n",
       "0       26204   WATCH: One Of Trump’s Biggest Supporters Is O...         3   \n",
       "1       22451   Joe Biden Is Downright Ruthless When Rich ‘A*...         0   \n",
       "\n",
       "                                          chunk_text label  \n",
       "0  supporting donald trump for president for too ...  Fake  \n",
       "1  joe biden was speaking at the skybridge altern...  Fake  "
      ]
     },
     "execution_count": 58,
     "metadata": {},
     "output_type": "execute_result"
    }
   ],
   "source": [
    "# 5. Sélection d’un petit échantillon (pour test rapide)\n",
    "\n",
    "# Pour éviter un traitement trop long au début\n",
    "sample_df = df_chunks.sample(10, random_state=42).reset_index(drop=True)\n",
    "sample_df.head(2)"
   ]
  },
  {
   "cell_type": "code",
   "execution_count": 59,
   "id": "14bc55b6",
   "metadata": {},
   "outputs": [
    {
     "name": "stdout",
     "output_type": "stream",
     "text": [
      " 10 chunks ajoutés à la collection 'fake_news_chunks'.\n"
     ]
    }
   ],
   "source": [
    "# 6. Ajout des chunks dans ChromaDB\n",
    "for idx, row in sample_df.iterrows():\n",
    "    chunk_id = f\"{row['article_id']}_{row['chunk_id']}\"\n",
    "    metadata = {\n",
    "        \"title\": row.get(\"title\", \"\"),\n",
    "        \"label\": row[\"label\"],\n",
    "        \"article_id\": int(row[\"article_id\"]),\n",
    "    }\n",
    "\n",
    "    collection.add(\n",
    "        ids=[chunk_id],\n",
    "        documents=[row[\"chunk_text\"]],\n",
    "        metadatas=[metadata],\n",
    "        embeddings=embedding_fn([row[\"chunk_text\"]])\n",
    "    )\n",
    "\n",
    "print(f\" {len(sample_df)} chunks ajoutés à la collection '{collection_name}'.\")\n"
   ]
  },
  {
   "cell_type": "code",
   "execution_count": 64,
   "id": "da8b53d1",
   "metadata": {},
   "outputs": [
    {
     "name": "stdout",
     "output_type": "stream",
     "text": [
      " Exemple de document stocké :\n"
     ]
    },
    {
     "data": {
      "text/plain": [
       "{'ids': ['26204_3',\n",
       "  '22451_0',\n",
       "  '16967_3',\n",
       "  '39130_2',\n",
       "  '44364_0',\n",
       "  '31827_11',\n",
       "  '32417_2',\n",
       "  '7251_1',\n",
       "  '21995_0',\n",
       "  '10910_0'],\n",
       " 'embeddings': array([[ 0.03148066,  0.06609543, -0.00260025, ..., -0.01345606,\n",
       "         -0.00472292,  0.00255966],\n",
       "        [-0.04013475, -0.01899961,  0.02693708, ...,  0.00223051,\n",
       "         -0.12071282,  0.03988767],\n",
       "        [-0.00988505,  0.04822049,  0.02915613, ...,  0.01965448,\n",
       "         -0.03194366,  0.02829264],\n",
       "        ...,\n",
       "        [ 0.04085801, -0.00852068,  0.0645113 , ..., -0.05173074,\n",
       "          0.04013757, -0.03626084],\n",
       "        [-0.01746017, -0.0362521 ,  0.10753163, ..., -0.0122874 ,\n",
       "          0.00103011, -0.02215472],\n",
       "        [-0.0513751 , -0.01095264,  0.01819525, ..., -0.09877898,\n",
       "          0.01238176,  0.09949215]], shape=(10, 384)),\n",
       " 'documents': ['supporting donald trump for president for too long african american votes have been taken for granted by democratic politicians and enough is enough so burns literally played the race card which something conservatives hypocritically often claim that liberals do so not only is burns a liar he s a hypocrite and one has to wonder what else he is hiding featured image stephen maturen getty images',\n",
       "  'joe biden was speaking at the skybridge alternatives salt conference when one rich a hole decided to disrespect the former vice president s dead son biden was furious and he put the heckler in his place effortlessly bill ackman manager of a failing hedge fund was speaking at the wall street event as well fox business reports that during the private vip dinner former florida governor and 2016 gop presidential contender jeb bush asked biden why didn t you run biden explained that part of the decision stemmed from the death of his son beau biden who died of brain cancer in 2015 the room grew quiet as biden became emotional and said i m sorry i ve said enough that s when ackman blurted out why that s never stopped you before the formal and understated dinner conversation suddenly turned tense according to three people who were present and confirmed both the substance and the wording of biden s responses biden these people say turned to someone seated near him and asked who is this asshole a reference to ackman then he turned directly to ackman and stated look i don t know who you are wiseass but never',\n",
       "  'groups the bloc s asylum system broke down under the sheer numbers and the cherished schengen zone of control free travel was strained as member states introduced emergency border checks eu states have since sought to agree on how to change their asylum laws with bitter disputes deepening east west divides tusk said on thursday the 28 eu leaders would discuss the issue again in december and were aiming for an agreement by mid 2018 earlier this week the european parliament agreed its own stance on asylum reform including an option to cut eu funds to states that refuse to host asylum seekers reaching the bloc it proposed moving away from the current rule mandating that the first country through which a person enters the eu must handle his or her asylum request saying it puts too much burden on frontline states like italy greece malta or spain southern frontline states want a scheme that would automatically lift people off their soil during periods of exceptionally high immigration and take them elsewhere in the eu westerners like germany and sweden which eventually receive most of the refugees have said more of the burden must be shared and that solidarity was',\n",
       "  'first time that a liberal media outlet has been accused of white washing an image of a high profile killer to fit a certain liberal narrative conservative treehouse accused cnn of whitewashing the selfie image of oregon umpqua college killer christopher mercer that he uploaded to his facebook page on the right is how cnn presented the same selfie in broadcast stories about him why did cnn need to change the complexion color of their broadcast what are your thoughts do you believe cbs intentionally white washed the image of the new york city terrorist we d like to hear what you have to say please tell us what you think in the comment section below',\n",
       "  'patrick henningsen 21st century wirejust as 21wire reported last week the us mainstream media are still black balling any substantial reporting about us boots on the ground in syria instead america s media are obsessing over trump s tax returns various russian conspiracy theories and michael flynn s moscow public speaking engagement in 2015 with this latest pentagon announcement of an additional 1 000 us troops to syria that would bring the total combat deployment to approximately 4 000 inside of syria considering the amount of media coverage and political debate over the 5 000 us military personnel send to iraq over the last 3 years one must ask why the silence in us media about the stealth build up for a major battle in raqqa syria previously 21wire reported how the united states has sent in combat troops to support ypg fighters kurdish people s protect units in syria much to the dismay of turkey and to the annoyance of both russian and syrian planners turkey has been pressing the us to change its strategy for fighting islamic state in syria by abandoning the ypg whom it deems as terrorists in league with the kurdish pkk in turkey the',\n",
       "  's leaks to confabulate that russian s hacked the dnc to influence the elections is the claim of one well known russian spy then 17 u s intelligence agencies unanimously confirm that alperovitch is correct even though there is no evidence and no investigation was ever conducted how does dmitri alperovitch have such power why did obama again and again use alperovitch s company crowdstrike when they have miserably failed to stop further cyber attacks on the systems they were hired to protect why should anyone believe crowdstrikes false flag report after documents from the dnc continued to leak and guccifer 2 0 and wikileaks made crowdstrike s report look foolish alperovitch decided the situation was far worse than he had reported he single handedly concluded that the russians were conducting an influence operation to help win the election for trump this false assertion had absolutely no evidence to back it up on july 22 three days before the democratic convention in philadelphia wikileaks dumped a massive cache of emails that had been stolen not hacked from the dnc reporters soon found emails suggesting that the dnc leadership had favored hillary clinton in her primary race against bernie sanders which',\n",
       "  'd expect from the left she must be one of liz warren s nasty women read more wnd',\n",
       "  'to hatemongers many urged him to reconsider bringing steve bannon into the white house is an alarming signal that president elect trump remains committed to the hateful and divisive vision that defined his campaign house democratic leader nancy pelosi said in a statement on monday there must be no sugar coating the reality that a white nationalist has been named chief strategist for the trump administration pelosi said the southern poverty law center the anti defamation league and the council on american islamic relations cair also denounced bannon bannon who grew up in a democratic family has a reputation of trying to tear down a republican party establishment that he deemed too soft and too entrenched as a senior adviser to the republican trump bannon will be expected by far right groups to champion their views and make sure that trump who takes office on jan 20 keeps such campaign promises as building a wall on the southern u s border cracking down on muslims entering the country and restricting the influx of syrian war refugees perhaps the donald is for real rocky suhayda chairman of the american nazi party told cnn david duke a longtime leader of ku klux',\n",
       "  'according to a new report saturday from axios a source very close to donald trump has indicated that trump believes his chief strategist steve bannon is to blame for leaks coming out of the white house regarding other members of trump s staff it would be easy to say at this point that bannon s position at trump s right hand is in jeopardy but the fact that trump is simply talking about it instead of firing him already may indicate otherwise this could be an elaborate test to see if the news that trump suspects bannon makes it out of the white house which of course it has meaning whoever the president told about his suspicions is if not the leaker at least also a leaker or it could be that bannon is innocent and the axios source is the leaker trying to throw everyone off the trail most likely however is that donald trump is a loose lipped dipshit who doesn t care who his audience is he just wants to look like he knows what he s doing even having a suspicion means he s thinking about it right bannon has not commented on the news nor',\n",
       "  'washington reuters u s deputy defense secretary robert work said the pentagon s plan to truncate the littoral combat ship program at 40 ships instead of 52 reflected budget pressures and was not an indictment of the program lockheed martin corp lmt n and australia s austal asb ax each build different models of the smaller fast coastal warships carter said he wants the navy to have a competition and pick just one supplier for future ships work said the pentagon decided to buy two of the ships in fiscal 2017 instead of scaling orders back to just one ship as defense secretary ash carter had ordered in a memo late last year at the navy s request he said the move was meant to help ensure a smooth transition to a future competition by keeping both shipbuilders working for another year'],\n",
       " 'uris': None,\n",
       " 'included': ['metadatas', 'documents', 'embeddings'],\n",
       " 'data': None,\n",
       " 'metadatas': [{'title': ' WATCH: One Of Trump’s Biggest Supporters Is Outed As A Complete Fraud On The Air',\n",
       "   'label': 'Fake',\n",
       "   'article_id': 26204},\n",
       "  {'article_id': 22451,\n",
       "   'title': ' Joe Biden Is Downright Ruthless When Rich ‘A**hole’ Callously Disrespects His Dead Son',\n",
       "   'label': 'Fake'},\n",
       "  {'article_id': 16967,\n",
       "   'label': 'True',\n",
       "   'title': 'EU leaders seek greater reductions in Africa immigration'},\n",
       "  {'title': 'IMAM SLAMS CBS News For Trying To “Make Terrorist White”…”I’m Glad They Didn’t Make His Eyes Blue As Well”',\n",
       "   'label': 'Fake',\n",
       "   'article_id': 39130},\n",
       "  {'title': 'BEYOND MISSION CREEP: U.S. Planning to Send 1,000 More Ground Troops into Syria',\n",
       "   'label': 'Fake',\n",
       "   'article_id': 44364},\n",
       "  {'title': 'BREAKING: PETER W. SMITH, GOP Operative Who Sought Hillary Clinton’s Missing Emails FOUND DEAD In Hotel Room',\n",
       "   'label': 'Fake',\n",
       "   'article_id': 31827},\n",
       "  {'label': 'Fake',\n",
       "   'article_id': 32417,\n",
       "   'title': 'CITIZEN JOURNALIST Enters WH Press Room Yells Questions To Press…Liberals Have A Hissy Fit! [VIDEO]'},\n",
       "  {'label': 'True',\n",
       "   'title': 'Bannon role in Trump administration sets off critical firestorm',\n",
       "   'article_id': 7251},\n",
       "  {'article_id': 21995,\n",
       "   'label': 'Fake',\n",
       "   'title': ' Trump Suspects Bannon Is The White House Leaker. But Who Leaked THAT?'},\n",
       "  {'title': \"Pentagon's No. 2 says cut in LCS ship program 'not an indictment'\",\n",
       "   'article_id': 10910,\n",
       "   'label': 'True'}]}"
      ]
     },
     "execution_count": 64,
     "metadata": {},
     "output_type": "execute_result"
    }
   ],
   "source": [
    "# 7. Vérification du stockage\n",
    "results = collection.peek()\n",
    "print(\" Exemple de document stocké :\")\n",
    "results"
   ]
  },
  {
   "cell_type": "code",
   "execution_count": 62,
   "id": "d75bed3c",
   "metadata": {},
   "outputs": [
    {
     "name": "stdout",
     "output_type": "stream",
     "text": [
      " Résultats de la recherche sémantique :\n",
      "- [Fake] s leaks to confabulate that russian s hacked the dnc to influence the elections is the claim of one well known russian spy then 17 u s intelligence ag...\n",
      "\n",
      "- [Fake] supporting donald trump for president for too long african american votes have been taken for granted by democratic politicians and enough is enough s...\n",
      "\n",
      "- [Fake] joe biden was speaking at the skybridge alternatives salt conference when one rich a hole decided to disrespect the former vice president s dead son b...\n",
      "\n"
     ]
    }
   ],
   "source": [
    "# 8. Test rapide de recherche sémantique\n",
    "query = \"The president made a false statement about the election\"\n",
    "results = collection.query(query_texts=[query], n_results=3)\n",
    "\n",
    "print(\" Résultats de la recherche sémantique :\")\n",
    "for doc, meta in zip(results[\"documents\"][0], results[\"metadatas\"][0]):\n",
    "    print(f\"- [{meta['label']}] {doc[:150]}...\\n\")"
   ]
  },
  {
   "cell_type": "code",
   "execution_count": 63,
   "id": "e7aae9bf",
   "metadata": {},
   "outputs": [
    {
     "name": "stdout",
     "output_type": "stream",
     "text": [
      "\n",
      "Étape 2 terminée : les chunks ont été vectorisés et stockés dans ChromaDB.\n",
      "\n",
      "🎯 Prochaines étapes :\n",
      "→ Développer le pipeline RAG :\n",
      "   1. Récupération d’un article soumis par l’utilisateur\n",
      "   2. Recherche sémantique des chunks similaires\n",
      "   3. Envoi du contexte au modèle Ollama pour verdict (True/Fake) et justification\n",
      "\n"
     ]
    }
   ],
   "source": [
    "# 9. Sauvegarde et fin de l’étape 2\n",
    "print(\"\"\"\n",
    "Étape 2 terminée : les chunks ont été vectorisés et stockés dans ChromaDB.\n",
    "\n",
    "🎯 Prochaines étapes :\n",
    "→ Développer le pipeline RAG :\n",
    "   1. Récupération d’un article soumis par l’utilisateur\n",
    "   2. Recherche sémantique des chunks similaires\n",
    "   3. Envoi du contexte au modèle Ollama pour verdict (True/Fake) et justification\n",
    "\"\"\")"
   ]
  }
 ],
 "metadata": {
  "kernelspec": {
   "display_name": ".venv",
   "language": "python",
   "name": "python3"
  },
  "language_info": {
   "codemirror_mode": {
    "name": "ipython",
    "version": 3
   },
   "file_extension": ".py",
   "mimetype": "text/x-python",
   "name": "python",
   "nbconvert_exporter": "python",
   "pygments_lexer": "ipython3",
   "version": "3.12.3"
  }
 },
 "nbformat": 4,
 "nbformat_minor": 5
}
